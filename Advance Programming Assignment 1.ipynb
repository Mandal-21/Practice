{
 "cells": [
  {
   "cell_type": "code",
   "execution_count": 9,
   "metadata": {},
   "outputs": [
    {
     "data": {
      "text/plain": [
       "2"
      ]
     },
     "execution_count": 9,
     "metadata": {},
     "output_type": "execute_result"
    }
   ],
   "source": [
    "# 1. Write a function that takes a list of lists and returns the value of all of the\n",
    "# symbols in it, where each symbol adds or takes something from the total\n",
    "# score. Symbol values:\n",
    "\n",
    "def check_score(array):\n",
    "    \n",
    "    dic = {\n",
    "        \"#\" : 5,\n",
    "        \"O\" : 3,\n",
    "        \"X\" : 1,\n",
    "        \"!\" : -1,\n",
    "        \"!!\" : -3,\n",
    "        \"!!!\" :-5,\n",
    "    }\n",
    "    \n",
    "    arr = [dic.get(i) for sublist in array for i in sublist]\n",
    "    sum_ = sum(arr)\n",
    "    if sum_ > 0:\n",
    "        return sum_\n",
    "    return 0\n",
    "\n",
    "check_score([[\"#\", \"!\"], [\"!!\", \"X\"]])"
   ]
  },
  {
   "cell_type": "code",
   "execution_count": 14,
   "metadata": {},
   "outputs": [
    {
     "data": {
      "text/plain": [
       "120"
      ]
     },
     "execution_count": 14,
     "metadata": {},
     "output_type": "execute_result"
    }
   ],
   "source": [
    "# 2. Create a function that takes a variable number of arguments, each\n",
    "# argument representing the number of items in a group, and returns the\n",
    "# number of permutations (combinations) of items that you could get by taking\n",
    "# one item from each group.\n",
    "\n",
    "def combinations(*args):\n",
    "    m = 1\n",
    "    for num in args:\n",
    "        m = m * num\n",
    "    return m\n",
    "\n",
    "combinations(2, 3, 4, 5)"
   ]
  },
  {
   "cell_type": "code",
   "execution_count": 22,
   "metadata": {},
   "outputs": [
    {
     "data": {
      "text/plain": [
       "'.... . .-.. .--.   -- .   -.-.--'"
      ]
     },
     "execution_count": 22,
     "metadata": {},
     "output_type": "execute_result"
    }
   ],
   "source": [
    "# 3. Create a function that takes a string as an argument and returns the Morse\n",
    "# code equivalent.\n",
    "\n",
    "def encode_morse(message:str)->str:\n",
    "    \n",
    "    char_to_dots = {\n",
    "      'A': '.-', 'B': '-...', 'C': '-.-.', 'D': '-..', 'E': '.', 'F': '..-.',\n",
    "      'G': '--.', 'H': '....', 'I': '..', 'J': '.---', 'K': '-.-', 'L': '.-..',\n",
    "      'M': '--', 'N': '-.', 'O': '---', 'P': '.--.', 'Q': '--.-', 'R': '.-.',\n",
    "      'S': '...', 'T': '-', 'U': '..-', 'V': '...-', 'W': '.--', 'X': '-..-',\n",
    "      'Y': '-.--', 'Z': '--..', ' ': ' ', '0': '-----',\n",
    "      '1': '.----', '2': '..---', '3': '...--', '4': '....-', '5': '.....',\n",
    "      '6': '-....', '7': '--...', '8': '---..', '9': '----.',\n",
    "      '&': '.-...', \"'\": '.----.', '@': '.--.-.', ')': '-.--.-', '(': '-.--.',\n",
    "      ':': '---...', ',': '--..--', '=': '-...-', '!': '-.-.--', '.': '.-.-.-',\n",
    "      '-': '-....-', '+': '.-.-.', '\"': '.-..-.', '?': '..--..', '/': '-..-.'\n",
    "    }\n",
    "    \n",
    "    s = [char_to_dots.get(s) for s in list(message)]\n",
    "    return \" \".join(s)\n",
    "\n",
    "    \n",
    "    \n",
    "    \n",
    "encode_morse(\"HELP ME !\")"
   ]
  },
  {
   "cell_type": "code",
   "execution_count": 23,
   "metadata": {},
   "outputs": [
    {
     "data": {
      "text/plain": [
       "True"
      ]
     },
     "execution_count": 23,
     "metadata": {},
     "output_type": "execute_result"
    }
   ],
   "source": [
    "# 4. Write a function that takes a number and returns True if it&#39;s a prime; False\n",
    "# otherwise. The number can be 2^64-1 (2 to the power of 63, not XOR). With\n",
    "# the standard technique it would be O(2^64-1), which is much too large for the\n",
    "# 10 second time limit.\n",
    "\n",
    "def prime(num:int)->bool:\n",
    "    for i in range(2, num):\n",
    "        if num%i == 0:\n",
    "            return False\n",
    "    return True\n",
    "\n",
    "prime(56963)"
   ]
  },
  {
   "cell_type": "code",
   "execution_count": 28,
   "metadata": {},
   "outputs": [
    {
     "data": {
      "text/plain": [
       "[False, True, False, True, True]"
      ]
     },
     "execution_count": 28,
     "metadata": {},
     "output_type": "execute_result"
    }
   ],
   "source": [
    "# 5.  Create a function that converts a word to a bitstring and then to a boolean list based on the following criteria:\n",
    "\n",
    "#     1. Locate the position of the letter in the English alphabet (from 1 to 26).\n",
    "#     2. Odd positions will be represented as 1 and 0 otherwise.\n",
    "#     3. Convert the represented positions to boolean values, 1 for True and 0 for False.\n",
    "#     4. Store the conversions into an array.\n",
    "\n",
    "#  Examples\n",
    "\n",
    "# to_boolean_list(\"deep\") ➞ [False, True, True, False]\n",
    "# deep converts to 0110\n",
    "# d is the 4th alphabet - 0\n",
    "# e is the 5th alphabet - 1\n",
    "# e is the 5th alphabet - 1\n",
    "# p is the 16th alphabet - 0\n",
    "\n",
    "import string\n",
    "def to_boolean_list(word:str)->list:\n",
    "    word_split = list(word)\n",
    "    output = []\n",
    "    for alpha in word_split:\n",
    "        for i, s in enumerate(string.ascii_lowercase):\n",
    "            if (alpha == s) and (i%2 == 0):\n",
    "                output.append(True)\n",
    "                break\n",
    "        else:\n",
    "            output.append(False)\n",
    "            \n",
    "    return output\n",
    "\n",
    "to_boolean_list(\"loves\")"
   ]
  }
 ],
 "metadata": {
  "kernelspec": {
   "display_name": "Python 3",
   "language": "python",
   "name": "python3"
  },
  "language_info": {
   "codemirror_mode": {
    "name": "ipython",
    "version": 3
   },
   "file_extension": ".py",
   "mimetype": "text/x-python",
   "name": "python",
   "nbconvert_exporter": "python",
   "pygments_lexer": "ipython3",
   "version": "3.8.3"
  }
 },
 "nbformat": 4,
 "nbformat_minor": 2
}
