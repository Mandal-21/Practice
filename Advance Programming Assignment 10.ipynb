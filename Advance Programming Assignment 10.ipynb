{
 "cells": [
  {
   "cell_type": "code",
   "execution_count": 1,
   "metadata": {},
   "outputs": [
    {
     "data": {
      "text/plain": [
       "[['####'], ['#  #'], ['#  #'], ['#  #'], ['####']]"
      ]
     },
     "execution_count": 1,
     "metadata": {},
     "output_type": "execute_result"
    }
   ],
   "source": [
    "# 1. Create a function that takes the width, height and character and returns a picture frame as a 2D list.\n",
    "\n",
    "# Examples\n",
    "\n",
    "# get_frame(4, 5, \"#\") ➞ [\n",
    "#   [\"####\"],\n",
    "#   [\"#  #\"],\n",
    "#   [\"#  #\"],\n",
    "#   [\"#  #\"],\n",
    "#   [\"####\"]\n",
    "# ]\n",
    "# # Frame is 4 characters wide and 5 characters tall.\n",
    "\n",
    "\n",
    "# get_frame(10, 3, \"*\") ➞ [\n",
    "#   [\"**********\"],\n",
    "#   [\"*        *\"],\n",
    "#   [\"**********\"]\n",
    "# ]\n",
    "# # Frame is 10 characters and wide and 3 characters tall.\n",
    "\n",
    "\n",
    "# get_frame(2, 5, \"0\") ➞ \"invalid\"\n",
    "# # Frame's width is not more than 2.\n",
    "\n",
    "def get_frame(width:int, height:int, char:str)->list:\n",
    "    if width > 2:\n",
    "        frame = []\n",
    "        for h in range(height):\n",
    "            if h == 0 or h == height-1:\n",
    "                frame.append([char*width])\n",
    "            else:\n",
    "                frame.append([char + \" \"*(width -2) + char])\n",
    "            \n",
    "    else:\n",
    "        return \"invalid\"\n",
    "    return frame\n",
    "\n",
    "get_frame(4, 5, \"#\")"
   ]
  },
  {
   "cell_type": "code",
   "execution_count": 23,
   "metadata": {},
   "outputs": [
    {
     "name": "stdout",
     "output_type": "stream",
     "text": [
      "False\n"
     ]
    }
   ],
   "source": [
    "# 2. Write three functions:\n",
    "\n",
    "#   1. boolean_and\n",
    "#   2. boolean_or\n",
    "#   3. boolean_xor\n",
    "# These functions should evaluate a list of True and False values, starting from the leftmost element and \n",
    "# evaluating pairwise.\n",
    "\n",
    "# Examples\n",
    "\n",
    "# boolean_and([True, True, False, True]) ➞ False\n",
    "# # [True, True, False, True] => [True, False, True] => [False, True] => False\n",
    "\n",
    "# boolean_or([True, True, False, False]) ➞ True\n",
    "# # [True, True, False, True] => [True, False, False] => [True, False] => True\n",
    "\n",
    "# boolean_xor([True, True, False, False]) ➞ False\n",
    "# # [True, True, False, False] => [False, False, False] => [False, False] => False\n",
    "\n",
    "def boolean_and(lst):\n",
    "    if len(lst) == 2:\n",
    "        return (lst[0] and lst[1])\n",
    "    value = lst[0] and lst[1]\n",
    "    lst.pop(0)\n",
    "    lst.pop(0)\n",
    "    lst.insert(0, value)\n",
    "    boolean_and(lst)\n",
    "    \n",
    "def boolean_or(lst):\n",
    "    if len(lst) == 2:\n",
    "        return (lst[0] or lst[1])\n",
    "    value = (lst[0] or lst[1])\n",
    "    lst.pop(0)\n",
    "    lst.pop(0)\n",
    "    lst.insert(0, value)\n",
    "    boolean_or(lst)\n",
    "    \n",
    "def boolean_xor(lst):\n",
    "    if len(lst) <= 2:\n",
    "        print(lst[0] ^ lst[1])\n",
    "        return (lst[0] ^ lst[1])\n",
    "    value = (lst[0] ^ lst[1])\n",
    "    lst.pop(0)\n",
    "    lst.pop(0)\n",
    "    lst.insert(0, value)\n",
    "    boolean_xor(lst)\n",
    "    \n",
    "boolean_xor([True, True, False, False])"
   ]
  },
  {
   "cell_type": "code",
   "execution_count": 27,
   "metadata": {},
   "outputs": [
    {
     "data": {
      "text/plain": [
       "['###', '# #', '###']"
      ]
     },
     "execution_count": 27,
     "metadata": {},
     "output_type": "execute_result"
    }
   ],
   "source": [
    "# 3. Create a function that creates a box based on dimension n.\n",
    "\n",
    "# Examples\n",
    "\n",
    "# make_box(5) ➞ [\n",
    "#   \"#####\",\n",
    "#   \"#   #\",\n",
    "#   \"#   #\",\n",
    "#   \"#   #\",\n",
    "#   \"#####\"\n",
    "# ]\n",
    "\n",
    "# make_box(3) ➞ [\n",
    "#   \"###\",\n",
    "#   \"# #\",\n",
    "#   \"###\"\n",
    "# ]\n",
    "\n",
    "# make_box(2) ➞ [\n",
    "#   \"##\",\n",
    "#   \"##\"\n",
    "# ]\n",
    "\n",
    "# make_box(1) ➞ [\n",
    "#   \"#\"\n",
    "# ]\n",
    "\n",
    "def make_box(n:int)->list:\n",
    "    box = []\n",
    "    for i in range(n):\n",
    "        if i == 0 or i == n-1:\n",
    "            box.append(\"#\"*n)\n",
    "        else:\n",
    "            box.append(\"#\" + \" \"*(n -2) + \"#\")\n",
    "\n",
    "    return box\n",
    "\n",
    "make_box(3)"
   ]
  },
  {
   "cell_type": "code",
   "execution_count": 47,
   "metadata": {},
   "outputs": [
    {
     "data": {
      "text/plain": [
       "False"
      ]
     },
     "execution_count": 47,
     "metadata": {},
     "output_type": "execute_result"
    }
   ],
   "source": [
    "# 4. Given a common phrase, return False if any individual word in the phrase contains duplicate letters. \n",
    "# Return True otherwise.\n",
    "\n",
    "# Examples\n",
    "\n",
    "# no_duplicate_letters(\"Fortune favours the bold.\") ➞ True\n",
    "\n",
    "# no_duplicate_letters(\"You can lead a horse to water, but you can't make him drink.\") ➞ True\n",
    "\n",
    "# no_duplicate_letters(\"Look before you leap.\") ➞ False\n",
    "# # Duplicate letters in \"Look\" and \"before\".\n",
    "\n",
    "# no_duplicate_letters(\"An apple a day keeps the doctor away.\") ➞ False\n",
    "# # Duplicate letters in \"apple\", \"keeps\", \"doctor\", and \"away\".\n",
    "\n",
    "from collections import Counter\n",
    "def no_duplicate_letters(sent:str)->bool:\n",
    "    for word in sent.split():\n",
    "        temp = dict(Counter(list(word)))\n",
    "        for i in temp.values():\n",
    "            if i > 1:\n",
    "                return False\n",
    "    return True\n",
    "\n",
    "no_duplicate_letters(\"Look before you leap.\")"
   ]
  },
  {
   "cell_type": "code",
   "execution_count": 187,
   "metadata": {},
   "outputs": [
    {
     "name": "stdout",
     "output_type": "stream",
     "text": [
      "['California', 'Florida']\n"
     ]
    }
   ],
   "source": [
    "# 5. Write a regular expression that will match the states that voted yes to President Trump's impeachment. \n",
    "# You must use RegEx positive lookahead.\n",
    "\n",
    "# Example\n",
    "\n",
    "txt = \"Texas = no, California = yes, Florida = yes, Michigan = no\"\n",
    "# pattern = \"yourregularexpressionhere\"\n",
    "\n",
    "# re.findall(pattern, txt) ➞ [\"California\", \"Florida\"]\n",
    "\n",
    "example = [i[1] for i in re.findall(r'((\\w+[a-z]) = yes)', txt)]\n",
    "  \n",
    "# display output\n",
    "print(example)"
   ]
  }
 ],
 "metadata": {
  "kernelspec": {
   "display_name": "Python 3",
   "language": "python",
   "name": "python3"
  },
  "language_info": {
   "codemirror_mode": {
    "name": "ipython",
    "version": 3
   },
   "file_extension": ".py",
   "mimetype": "text/x-python",
   "name": "python",
   "nbconvert_exporter": "python",
   "pygments_lexer": "ipython3",
   "version": "3.8.3"
  }
 },
 "nbformat": 4,
 "nbformat_minor": 2
}
