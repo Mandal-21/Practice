{
 "cells": [
  {
   "cell_type": "code",
   "execution_count": 1,
   "metadata": {},
   "outputs": [
    {
     "data": {
      "text/plain": [
       "[7, 3, 11]"
      ]
     },
     "execution_count": 1,
     "metadata": {},
     "output_type": "execute_result"
    }
   ],
   "source": [
    "# 1. Create a function that takes a list and returns a new list containing only prime numbers.\n",
    "\n",
    "# Examples\n",
    "\n",
    "# filter_primes([7, 9, 3, 9, 10, 11, 27]) ➞ [7, 3, 11]\n",
    "\n",
    "# filter_primes([10007, 1009, 1007, 27, 147, 77, 1001, 70]) ➞ [10007, 1009]\n",
    "\n",
    "# filter_primes([1009, 10, 10, 10, 3, 33, 9, 4, 1, 61, 63, 69, 1087, 1091, 1093, 1097]) ➞ \n",
    "#                                                                 [1009, 3, 61, 1087, 1091, 1093, 1097]\n",
    "\n",
    "\n",
    "def filter_primes(lst:list)->list:\n",
    "    prime_list = []\n",
    "    for n in lst:\n",
    "        for i in range(2, n):\n",
    "            if n%i == 0:\n",
    "                break\n",
    "        else:\n",
    "            prime_list.append(n)\n",
    "    return prime_list\n",
    "\n",
    "filter_primes([7, 9, 3, 9, 10, 11, 27])"
   ]
  },
  {
   "cell_type": "code",
   "execution_count": 10,
   "metadata": {},
   "outputs": [
    {
     "data": {
      "text/plain": [
       "[0, 1, 2, 3, 2, 1, 0]"
      ]
     },
     "execution_count": 10,
     "metadata": {},
     "output_type": "execute_result"
    }
   ],
   "source": [
    "# 2. Once a water balloon pops, is soaks the area around it. \n",
    "# The ground gets drier the further away you travel from the balloon.\n",
    "\n",
    "# The effect of a water balloon popping can be modeled using a list. \n",
    "# Create a function that takes a list which takes the pre-pop state and returns the state after \n",
    "# the balloon is popped. The pre-pop state will contain at most a single balloon, \n",
    "# whose size is represented by the only non-zero element.\n",
    "\n",
    "# Examples\n",
    "\n",
    "# pop([0, 0, 0, 0, 4, 0, 0, 0, 0]) ➞ [0, 1, 2, 3, 4, 3, 2, 1, 0]\n",
    "\n",
    "# pop([0, 0, 0, 3, 0, 0, 0]) ➞ [0, 1, 2, 3, 2, 1, 0]\n",
    "\n",
    "# pop([0, 0, 2, 0, 0]) ➞ [0, 1, 2, 1, 0]\n",
    "\n",
    "# pop([0]) ➞ [0]\n",
    "\n",
    "def pop(lst:list)->list:\n",
    "    len_ = int(len(lst)/2)\n",
    "    incr = 1\n",
    "    for i in range(1, len_+1):\n",
    "        lst[i] = incr\n",
    "        lst[-i-1] = incr\n",
    "        incr += 1\n",
    "    return lst\n",
    "\n",
    "pop([0, 0, 0, 3, 0, 0, 0])"
   ]
  },
  {
   "cell_type": "code",
   "execution_count": 12,
   "metadata": {},
   "outputs": [
    {
     "data": {
      "text/plain": [
       "'Loves me, Loves me not, Loves me, Loves me not, Loves me, LOVES ME NOT'"
      ]
     },
     "execution_count": 12,
     "metadata": {},
     "output_type": "execute_result"
    }
   ],
   "source": [
    "# 3. \"Loves me, loves me not\" is a traditional game in which a person plucks off all the petals of a \n",
    "# flower one by one, saying the phrase \"Loves me\" and \"Loves me not\" when determining \n",
    "# whether the one that they love, loves them back.\n",
    "\n",
    "# Given a number of petals, return a string which repeats the phrases \"Loves me\" and \"Loves me not\" \n",
    "# for every alternating petal, and return the last phrase in all caps. Remember to put a comma and \n",
    "# space between phrases.\n",
    "\n",
    "# Examples\n",
    "\n",
    "# loves_me(3) ➞ \"Loves me, Loves me not, LOVES ME\"\n",
    "\n",
    "# loves_me(6) ➞ \"Loves me, Loves me not, Loves me, Loves me not, Loves me, LOVES ME NOT\"\n",
    "\n",
    "# loves_me(1) ➞ \"LOVES ME\"\n",
    "\n",
    "def loves_me(num:int)->str:\n",
    "    string = ''\n",
    "    for i in range(num):\n",
    "        if i%2 == 0:\n",
    "            if i == num -1:\n",
    "                string += 'LOVES ME'\n",
    "            else:\n",
    "                string += 'Loves me, '\n",
    "        if i%2 != 0:\n",
    "            if i == num -1:\n",
    "                string += 'LOVES ME NOT'\n",
    "            else:\n",
    "                string += 'Loves me not, '\n",
    "    return string\n",
    "\n",
    "loves_me(6)"
   ]
  },
  {
   "cell_type": "code",
   "execution_count": 33,
   "metadata": {},
   "outputs": [
    {
     "data": {
      "text/plain": [
       "['304q2', '5y5', '572z']"
      ]
     },
     "execution_count": 33,
     "metadata": {},
     "output_type": "execute_result"
    }
   ],
   "source": [
    "# 4. Write a function that sorts each string in a list by the letter in alphabetic ascending order (a-z).\n",
    "\n",
    "# Examples\n",
    "\n",
    "# sort_by_letter([\"932c\", \"832u32\", \"2344b\"])\n",
    "# ➞ [\"2344b\", \"932c\", \"832u32\"]\n",
    "\n",
    "# sort_by_letter([\"99a\", \"78b\", \"c2345\", \"11d\"])\n",
    "# ➞ [\"99a\", \"78b\", \"c2345\", \"11d\"]\n",
    "\n",
    "# sort_by_letter([\"572z\", \"5y5\", \"304q2\"])\n",
    "# ➞ [\"304q2\", \"5y5\", \"572z\"]\n",
    "\n",
    "# sort_by_letter([])\n",
    "# ➞ []\n",
    "\n",
    "def sort_by_letter(l:list)->list:\n",
    "    return sorted(l, key=lambda x: str(\"\".join([i for i in x if i.isalpha()])))\n",
    "\n",
    "sort_by_letter([\"572z\", \"5y5\", \"304q2\"])"
   ]
  },
  {
   "cell_type": "code",
   "execution_count": 49,
   "metadata": {},
   "outputs": [
    {
     "data": {
      "text/plain": [
       "'C'"
      ]
     },
     "execution_count": 49,
     "metadata": {},
     "output_type": "execute_result"
    }
   ],
   "source": [
    "# 5. There are three cups on a table, at positions A, B, and C. At the start, there is a ball hidden under \n",
    "# the cup at position B.\n",
    "\n",
    "# However, I perform several swaps on the cups, which is notated as two letters. For example, \n",
    "# if I swap the cups at positions A and B, I could notate this as AB or BA.\n",
    "\n",
    "# Create a function that returns the letter position that the ball is at, once I finish swapping the cups. \n",
    "# The swaps will be given to you as a list.\n",
    "\n",
    "# Example\n",
    "\n",
    "# cup_swapping([\"AB\", \"CA\", \"AB\"]) ➞ \"C\"\n",
    "\n",
    "# Ball begins at position B.\n",
    "# Cups A and B swap, so the ball is at position A.\n",
    "# Cups C and A swap, so the ball is at position C.\n",
    "# Cups A and B swap, but the ball is at position C, so it doesn't move.\n",
    "\n",
    "\n",
    "def cup_swapping(lst:list)->list:\n",
    "    initial = lst[0][0]\n",
    "    for i, string in enumerate(lst):\n",
    "        if i == 0:\n",
    "            continue\n",
    "        if initial in string:\n",
    "            initial = lst[i][0]\n",
    "            ball_in = lst[i][0]\n",
    "    return ball_in\n",
    "\n",
    "cup_swapping([\"AB\", \"CA\", \"AC\", \"CA\"])\n"
   ]
  }
 ],
 "metadata": {
  "kernelspec": {
   "display_name": "Python 3",
   "language": "python",
   "name": "python3"
  },
  "language_info": {
   "codemirror_mode": {
    "name": "ipython",
    "version": 3
   },
   "file_extension": ".py",
   "mimetype": "text/x-python",
   "name": "python",
   "nbconvert_exporter": "python",
   "pygments_lexer": "ipython3",
   "version": "3.8.3"
  }
 },
 "nbformat": 4,
 "nbformat_minor": 2
}
