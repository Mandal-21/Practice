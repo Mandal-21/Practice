{
 "cells": [
  {
   "cell_type": "code",
   "execution_count": 13,
   "metadata": {},
   "outputs": [
    {
     "data": {
      "text/plain": [
       "31499"
      ]
     },
     "execution_count": 13,
     "metadata": {},
     "output_type": "execute_result"
    }
   ],
   "source": [
    "# 1. For this challenge, forget how to add two numbers together. \n",
    "# The best explanation on what to do for this function is this meme:\n",
    "\n",
    "# Examples\n",
    "\n",
    "# meme_sum(26, 39) ➞ 515\n",
    "# # 2+3 = 5, 6+9 = 15\n",
    "# # 26 + 39 = 515\n",
    "\n",
    "# meme_sum(122, 81) ➞ 1103\n",
    "# # 1+0 = 1, 2+8 = 10, 2+1 = 3\n",
    "# # 122 + 81 = 1103\n",
    "\n",
    "# meme_sum(1222, 30277) ➞ 31499\n",
    "\n",
    "def meme_sum(num1, num2):\n",
    "    num1_list = list(str(num1))\n",
    "    num2_list = list(str(num2))\n",
    "    if len(num1_list) < len(num2_list):\n",
    "        diff = len(num2_list) - len(num1_list)\n",
    "        for i in range(diff):\n",
    "            num1_list.insert(0, '0')\n",
    "    if len(num1_list) > len(num2_list):\n",
    "        diff = len(num1_list) - len(num2_list)\n",
    "        for i in range(diff):\n",
    "            num2_list.insert(0, '0')\n",
    "    result = ''\n",
    "    for i in zip(num1_list, num2_list):\n",
    "        num = int(i[0]) + int(i[1])\n",
    "        result += str(num)\n",
    "    return int(result)\n",
    "\n",
    "meme_sum(1222, 30277)"
   ]
  },
  {
   "cell_type": "code",
   "execution_count": 17,
   "metadata": {},
   "outputs": [
    {
     "data": {
      "text/plain": [
       "29"
      ]
     },
     "execution_count": 17,
     "metadata": {},
     "output_type": "execute_result"
    }
   ],
   "source": [
    "# 2. Given an integer, create a function that returns the next prime. \n",
    "# If the number is prime, return the number itself.\n",
    "\n",
    "# Examples\n",
    "\n",
    "# next_prime(12) ➞ 13\n",
    "\n",
    "# next_prime(24) ➞ 29\n",
    "\n",
    "# next_prime(11) ➞ 11\n",
    "# # 11 is a prime, so we return the number itself.\n",
    "\n",
    "def next_prime(num):\n",
    "    i = 2\n",
    "    j = num + 1\n",
    "    while i < num:\n",
    "        if num%i == 0:\n",
    "            while True:\n",
    "                for e in range(2, j):\n",
    "                    if j%e == 0:\n",
    "                        break\n",
    "                else:\n",
    "                    return j\n",
    "                j += 1   \n",
    "        i += 1\n",
    "    return num\n",
    "\n",
    "next_prime(24)"
   ]
  },
  {
   "cell_type": "code",
   "execution_count": 20,
   "metadata": {},
   "outputs": [
    {
     "data": {
      "text/plain": [
       "12"
      ]
     },
     "execution_count": 20,
     "metadata": {},
     "output_type": "execute_result"
    }
   ],
   "source": [
    "# 3. If a person traveled up a hill for 18mins at 20mph and then traveled back down the same path at \n",
    "# 60mph then their average speed traveled was 30mph.\n",
    "\n",
    "# Write a function that returns the average speed traveled given an uphill time, uphill rate and a downhill rate. \n",
    "# Uphill time is given in minutes. Return the rate as an integer (mph). No rounding is necessary.\n",
    "\n",
    "# Examples\n",
    "\n",
    "# ave_spd(18, 20, 60) ➞ 30\n",
    "\n",
    "# ave_spd(30, 10, 30) ➞ 15\n",
    "\n",
    "# ave_spd(30, 8, 24) ➞ 12\n",
    "\n",
    "def ave_spd(time, speed1, speed2):\n",
    "    return int(2*speed1*speed2/(speed1+speed2))\n",
    "\n",
    "ave_spd(30, 8, 24)"
   ]
  },
  {
   "cell_type": "code",
   "execution_count": 26,
   "metadata": {},
   "outputs": [
    {
     "data": {
      "text/plain": [
       "5"
      ]
     },
     "execution_count": 26,
     "metadata": {},
     "output_type": "execute_result"
    }
   ],
   "source": [
    "# 4. The Kempner Function, applied to a composite number, permits to find the smallest integer greater \n",
    "# than zero whose factorial is exactly divided by the number.\n",
    "\n",
    "# kempner(6) ➞ 3\n",
    "\n",
    "# 1! = 1 % 6 > 0\n",
    "# 2! = 2 % 6 > 0\n",
    "# 3! = 6 % 6 === 0\n",
    "\n",
    "# kempner(10) ➞ 5\n",
    "\n",
    "# 1! = 1 % 10 > 0\n",
    "# 2! = 2 % 10 > 0\n",
    "# 3! = 6 % 10 > 0\n",
    "# 4! = 24 % 10 > 0\n",
    "# 5! = 120 % 10 === 0\n",
    "\n",
    "# A Kempner Function applied to a prime will always return the prime itself.\n",
    "\n",
    "# kempner(2) ➞ 2\n",
    "# kempner(5) ➞ 5\n",
    "\n",
    "# Given an integer n, implement a Kempner Function.\n",
    "\n",
    "def kempner(num):\n",
    "    result = 1\n",
    "    while True:\n",
    "        factorial = 1\n",
    "        for i in range(1,result + 1):\n",
    "            factorial = factorial*i\n",
    "        if factorial%num == 0:\n",
    "            return result\n",
    "        result += 1\n",
    "        \n",
    "kempner(10)"
   ]
  },
  {
   "cell_type": "code",
   "execution_count": 39,
   "metadata": {},
   "outputs": [
    {
     "data": {
      "text/plain": [
       "5"
      ]
     },
     "execution_count": 39,
     "metadata": {},
     "output_type": "execute_result"
    }
   ],
   "source": [
    "# 5. You work in a factory, and your job is to take items from a conveyor belt and pack them into boxes. \n",
    "# Each box can hold a maximum of 10 kgs. Given a list containing the weight (in kg) of each item, \n",
    "# how many boxes would you need to pack all of the items?\n",
    "\n",
    "# Example\n",
    "\n",
    "# boxes([2, 1, 2, 5, 4, 3, 6, 1, 1, 9, 3, 2]) ➞ 5\n",
    "\n",
    "# # Box 1 = [2, 1, 2, 5] (10kg)\n",
    "# # Box 2 = [4, 3] (7kg)\n",
    "# # Box 3 = [6, 1, 1] (8kg)\n",
    "# # Box 4 = [9] (9kg)\n",
    "# # Box 5 = [3, 2] (5kg)\n",
    "\n",
    "def boxes(lst):\n",
    "    count = 0\n",
    "    add = 0\n",
    "    for i in lst:\n",
    "        if (add + i) <= 10:\n",
    "            add += i\n",
    "        else:\n",
    "            count += 1\n",
    "            add = 0\n",
    "            add += i\n",
    "    return count + 1\n",
    "\n",
    "boxes([2, 1, 2, 5, 4, 3, 6, 1, 1, 9, 3, 2])"
   ]
  }
 ],
 "metadata": {
  "kernelspec": {
   "display_name": "Python 3",
   "language": "python",
   "name": "python3"
  },
  "language_info": {
   "codemirror_mode": {
    "name": "ipython",
    "version": 3
   },
   "file_extension": ".py",
   "mimetype": "text/x-python",
   "name": "python",
   "nbconvert_exporter": "python",
   "pygments_lexer": "ipython3",
   "version": "3.8.3"
  }
 },
 "nbformat": 4,
 "nbformat_minor": 2
}
