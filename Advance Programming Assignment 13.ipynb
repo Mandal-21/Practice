{
 "cells": [
  {
   "cell_type": "code",
   "execution_count": 10,
   "metadata": {},
   "outputs": [
    {
     "data": {
      "text/plain": [
       "['b', 'g', 'w']"
      ]
     },
     "execution_count": 10,
     "metadata": {},
     "output_type": "execute_result"
    }
   ],
   "source": [
    "# 1. Create a function that takes a list and string. \n",
    "# The function should remove the letters in the string from the list, and return the list.\n",
    "\n",
    "# Examples\n",
    "\n",
    "# remove_letters([\"s\", \"t\", \"r\", \"i\", \"n\", \"g\", \"w\"], \"string\") ➞ [\"w\"]\n",
    "\n",
    "# remove_letters([\"b\", \"b\", \"l\", \"l\", \"g\", \"n\", \"o\", \"a\", \"w\"], \"balloon\") ➞ [\"b\", \"g\", \"w\"]\n",
    "\n",
    "# remove_letters([\"d\", \"b\", \"t\", \"e\", \"a\", \"i\"], \"edabit\") ➞ []\n",
    "\n",
    "def remove_letters(lst, string):\n",
    "    i = 0\n",
    "    lst_string = list(string)\n",
    "    while i < len(string):\n",
    "        if string[i] in lst:\n",
    "            lst.remove(string[i])\n",
    "        i += 1\n",
    "    return lst\n",
    "\n",
    "remove_letters([\"b\", \"b\", \"l\", \"l\", \"g\", \"n\", \"o\", \"a\", \"w\"], \"balloon\")"
   ]
  },
  {
   "cell_type": "code",
   "execution_count": 91,
   "metadata": {},
   "outputs": [
    {
     "data": {
      "text/plain": [
       "39"
      ]
     },
     "execution_count": 91,
     "metadata": {},
     "output_type": "execute_result"
    }
   ],
   "source": [
    "# 2. A block sequence in three dimensions. We can write a formula for this one:\n",
    "\n",
    "# Create a function that takes a number (step) as an argument and returns the amount of blocks in that step.\n",
    "\n",
    "# Examples\n",
    "\n",
    "# blocks(1) ➞ 5\n",
    "\n",
    "# blocks(5) ➞ 39\n",
    "\n",
    "# blocks(2) ➞ 12\n",
    "\n",
    "def blocks(n):\n",
    "    return 5 + int((((7 + n -2) + 7)/2)*(n-1))\n",
    "\n",
    "blocks(5)"
   ]
  },
  {
   "cell_type": "code",
   "execution_count": 96,
   "metadata": {},
   "outputs": [
    {
     "data": {
      "text/plain": [
       "20"
      ]
     },
     "execution_count": 96,
     "metadata": {},
     "output_type": "execute_result"
    }
   ],
   "source": [
    "# 3. Create a function that subtracts one positive integer from another, \n",
    "# without using any arithmetic operators such as -, %, /, +, etc.\n",
    "\n",
    "# Examples\n",
    "\n",
    "# my_sub(5, 9) ➞ 4\n",
    "\n",
    "# my_sub(10, 30) ➞ 20\n",
    "\n",
    "# my_sub(0, 0) ➞ 0\n",
    "\n",
    "def my_sub(y, x):\n",
    "    while (y!=0):\n",
    "        borrow = (~x)&y\n",
    "        x = x^y\n",
    "        y = borrow<<1\n",
    "    return x\n",
    "\n",
    "my_sub(10, 30)"
   ]
  },
  {
   "cell_type": "code",
   "execution_count": 105,
   "metadata": {},
   "outputs": [
    {
     "data": {
      "text/plain": [
       "2200"
      ]
     },
     "execution_count": 105,
     "metadata": {},
     "output_type": "execute_result"
    }
   ],
   "source": [
    "# 4. Create a function that takes a string containing money in dollars and pounds sterling (seperated by comma) \n",
    "# and returns the sum of dollar bills only, as an integer.\n",
    "\n",
    "# For the input string:\n",
    "\n",
    "#    - Each amount is prefixed by the currency symbol: $ for dollars and £ for pounds.\n",
    "#    - Thousands are represented by the suffix k.\n",
    "\n",
    "# i.e. $4k = $4,000 and £40k = £40,000\n",
    "\n",
    "# Examples\n",
    "\n",
    "# add_bill(\"d20,p40,p60,d50\") ➞ 20 + 50 = 70\n",
    "\n",
    "# add_bill(\"p30,d20,p60,d150,p360\") ➞ 20  + 150 = 170\n",
    "\n",
    "# add_bill(\"p30,d2k,p60,d200,p360\") ➞ 2 * 1000 + 200 = 2200\n",
    "\n",
    "import re\n",
    "\n",
    "def add_bill(string):\n",
    "    dollar_list = [i for i in string.split(\",\") if 'p' not in i]\n",
    "    sum_ = 0\n",
    "    for money in dollar_list:\n",
    "        if 'k' in money:\n",
    "            num = int(re.search(r'\\d+', money).group())*1000\n",
    "            sum_ += num\n",
    "        else:\n",
    "            num = int(re.search(r'\\d+', money).group())\n",
    "            sum_ += num\n",
    "    return sum_\n",
    "\n",
    "add_bill(\"p30,d2k,p60,d200,p360\")"
   ]
  },
  {
   "cell_type": "code",
   "execution_count": 116,
   "metadata": {},
   "outputs": [
    {
     "data": {
      "text/plain": [
       "[[1], [2], [3], [4]]"
      ]
     },
     "execution_count": 116,
     "metadata": {},
     "output_type": "execute_result"
    }
   ],
   "source": [
    "# 5. Create a function that flips a horizontal list into a vertical list, \n",
    "# and a vertical list into a horizontal list.\n",
    "\n",
    "# In other words, take an 1 x n list (1 row + n columns) and flip it into a n x 1 list (n rows and 1 column), \n",
    "# and vice versa.\n",
    "\n",
    "# Examples\n",
    "\n",
    "# flip_list([1, 2, 3, 4]) ➞ [[1], [2], [3], [4]]\n",
    "# # Take a horizontal list and flip it vertical.\n",
    "\n",
    "# flip_list([[5], [6], [9]]) ➞ [5, 6, 9]\n",
    "# # Take a vertical list and flip it horizontal.\n",
    "\n",
    "# flip_list([]) ➞ []\n",
    "\n",
    "def flip_list(lst):\n",
    "    if len(lst) == 0:\n",
    "        return lst\n",
    "    elif type(lst[0]) == list:\n",
    "        return [i[0] for i in lst]\n",
    "    else:\n",
    "        return [[i] for i in lst]\n",
    "\n",
    "flip_list([1, 2, 3, 4])"
   ]
  }
 ],
 "metadata": {
  "kernelspec": {
   "display_name": "Python 3",
   "language": "python",
   "name": "python3"
  },
  "language_info": {
   "codemirror_mode": {
    "name": "ipython",
    "version": 3
   },
   "file_extension": ".py",
   "mimetype": "text/x-python",
   "name": "python",
   "nbconvert_exporter": "python",
   "pygments_lexer": "ipython3",
   "version": "3.8.3"
  }
 },
 "nbformat": 4,
 "nbformat_minor": 2
}
