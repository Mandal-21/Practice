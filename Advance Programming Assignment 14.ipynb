{
 "cells": [
  {
   "cell_type": "code",
   "execution_count": 5,
   "metadata": {},
   "outputs": [
    {
     "data": {
      "text/plain": [
       "[12.0, 7.5, 14.5]"
      ]
     },
     "execution_count": 5,
     "metadata": {},
     "output_type": "execute_result"
    }
   ],
   "source": [
    "# 1. Given a list of numbers, create a function that removes 25% from every number in the list except \n",
    "# the smallest number, and adds the total amount removed to the smallest number.\n",
    "\n",
    "# Examples\n",
    "\n",
    "# show_the_love([4, 1, 4]) ➞ [3, 3, 3]\n",
    "\n",
    "# show_the_love([16, 10, 8]) ➞ [12, 7.5, 14.5]\n",
    "\n",
    "# show_the_love([2, 100]) ➞ [27, 75]\n",
    "\n",
    "def show_the_love(lst):\n",
    "    min_num = min(lst)\n",
    "    sum_ = 0\n",
    "    for i, e in enumerate(lst):\n",
    "        if min_num != e:\n",
    "            decreased = 0.25 * e\n",
    "            lst[i] = e - decreased\n",
    "            sum_ += decreased\n",
    "    increased_min = min_num + sum_\n",
    "    lst = [increased_min if i==min_num else i for i in lst] \n",
    "    return lst\n",
    "\n",
    "show_the_love([16, 10, 8])"
   ]
  },
  {
   "cell_type": "code",
   "execution_count": 12,
   "metadata": {},
   "outputs": [
    {
     "data": {
      "text/plain": [
       "['ahm', 'ct', '']"
      ]
     },
     "execution_count": 12,
     "metadata": {},
     "output_type": "execute_result"
    }
   ],
   "source": [
    "# 2. Create a function that takes in two words as input and returns a list of three elements, \n",
    "# in the following order:\n",
    "\n",
    "#    1.Shared letters between two words.\n",
    "#    2.Letters unique to word 1.\n",
    "#    3.Letters unique to word 2.\n",
    "\n",
    "# Each element should have unique letters, and have each letter be alphabetically sorted.\n",
    "\n",
    "# Examples\n",
    "\n",
    "# letters(\"sharp\", \"soap\") ➞ [\"aps\", \"hr\", \"o\"]\n",
    "\n",
    "# letters(\"board\", \"bored\") ➞ [\"bdor\", \"a\", \"e\"]\n",
    "\n",
    "# letters(\"happiness\", \"envelope\") ➞ [\"enp\", \"ahis\", \"lov\"]\n",
    "\n",
    "# letters(\"kerfuffle\", \"fluffy\") ➞ [\"flu\", \"ekr\", \"y\"]\n",
    "# # Even with multiple matching letters (e.g. 3 f's), there should \n",
    "# # only exist a single \"f\" in your first element.\n",
    "\n",
    "# letters(\"match\", \"ham\") ➞ [\"ahm\", \"ct\", \"\"]\n",
    "# # \"ham\" does not contain any letters that are not found already \n",
    "# # in \"match\".\n",
    "\n",
    "def letters(word1, word2):\n",
    "    word1_set = set(sorted(list(word1)))\n",
    "    word2_set = set(sorted(list(word2)))\n",
    "    common = sorted(list(word1_set & word2_set))\n",
    "    word1_uncommon = sorted([i for i in word1_set if i not in common])\n",
    "    word2_uncommon = sorted([i for i in word2_set if i not in common])\n",
    "    return [\"\".join(common), \"\".join(word1_uncommon), \"\".join(word2_uncommon)]\n",
    "\n",
    "letters(\"match\", \"ham\")"
   ]
  },
  {
   "cell_type": "code",
   "execution_count": 21,
   "metadata": {},
   "outputs": [
    {
     "data": {
      "text/plain": [
       "[[5, 2], [9, 1], [8, 8]]"
      ]
     },
     "execution_count": 21,
     "metadata": {},
     "output_type": "execute_result"
    }
   ],
   "source": [
    "# 3. Write a function that pairs the first number in an array with the last, \n",
    "# the second number with the second to last, etc.\n",
    "\n",
    "# Examples\n",
    "\n",
    "# pairs([1, 2, 3, 4, 5, 6, 7]) ➞ [[1, 7], [2, 6], [3, 5], [4, 4]]\n",
    "\n",
    "# pairs([1, 2, 3, 4, 5, 6]) ➞ [[1, 6], [2, 5], [3, 4]]\n",
    "\n",
    "# pairs([5, 9, 8, 1, 2]) ➞ [[5, 2], [9, 1], [8, 8]]\n",
    "\n",
    "# pairs([]) ➞ []\n",
    "\n",
    "def pairs(lst):\n",
    "    len_ = len(lst)\n",
    "    if len_%2 == 0:\n",
    "        mid = int(len_/2)\n",
    "    else:\n",
    "        mid = int(len_/2 + 1)\n",
    "    result = []\n",
    "    for i in range(mid):\n",
    "        result.append([lst[i], lst[-i-1]])\n",
    "    return result\n",
    "\n",
    "pairs([5, 9, 8, 1, 2])"
   ]
  },
  {
   "cell_type": "code",
   "execution_count": 34,
   "metadata": {},
   "outputs": [
    {
     "data": {
      "text/plain": [
       "'-1'"
      ]
     },
     "execution_count": 34,
     "metadata": {},
     "output_type": "execute_result"
    }
   ],
   "source": [
    "# 4. Write a function that adds two numbers. The catch, however, is that the numbers will be strings.\n",
    "\n",
    "# Examples\n",
    "\n",
    "# add_str_nums(\"4\", \"5\") ➞ \"9\"\n",
    "\n",
    "# add_str_nums(\"abcdefg\", \"3\") ➞ \"-1\"\n",
    "\n",
    "# add_str_nums(\"1\", \"\") ➞ \"1\"\n",
    "\n",
    "# add_str_nums(\"1874682736267235927359283579235789257\", \"32652983572985729\") ➞ \n",
    "# \"1874682736267235927391936562808774986\"\n",
    "\n",
    "def add_str_nums(str1, str2):\n",
    "    cond = all([True if i.isdigit() or i == \"\" else False for i in [str1, str2]])\n",
    "    if cond:\n",
    "        if str1 == \"\":\n",
    "            str1 = \"0\"\n",
    "            ans = str(eval(str1 + \"+\" + str2))\n",
    "        if str2 == \"\":\n",
    "            str2 = \"0\"\n",
    "            ans = str(eval(str1 + \"+\" + str2))\n",
    "        else:\n",
    "            ans = str(eval(str1 + \"+\" + str2))\n",
    "    \n",
    "        return ans\n",
    "    return str(-1)\n",
    "\n",
    "add_str_nums(\"abcdefg\", \"3\")"
   ]
  },
  {
   "cell_type": "code",
   "execution_count": 72,
   "metadata": {},
   "outputs": [
    {
     "data": {
      "text/plain": [
       "'This is a mixed up string.'"
      ]
     },
     "execution_count": 72,
     "metadata": {},
     "output_type": "execute_result"
    }
   ],
   "source": [
    "# 5. lPaeesh le pemu mnxit ehess rtnisg! Oh, sorry, that was supposed to say: Please help me unmix these strings!\n",
    "\n",
    "# Somehow my strings have all become mixed up; every pair of characters has been swapped. \n",
    "# Help me undo this so I can understand my strings again.\n",
    "\n",
    "# Examples\n",
    "\n",
    "# unmix(\"123456\") ➞ \"214365\"\n",
    "\n",
    "# unmix(\"hTsii  s aimex dpus rtni.g\") ➞ \"This is a mixed up string.\"\n",
    "\n",
    "# unmix(\"badce\") ➞ \"abcde\"\n",
    "\n",
    "def unmix(string):\n",
    "    lst = list(string)\n",
    "    new_lst = []\n",
    "    len_ = len(lst)\n",
    "    for i in range(len_-1):\n",
    "        if i%2 == 0:\n",
    "            new_lst.extend([lst[i+1], lst[i]])\n",
    "    if len_%2 != 0:\n",
    "        new_lst.append(lst[-1])\n",
    "    return \"\".join(new_lst)\n",
    "\n",
    "unmix(\"hTsii  s aimex dpus rtni.g\")"
   ]
  }
 ],
 "metadata": {
  "kernelspec": {
   "display_name": "Python 3",
   "language": "python",
   "name": "python3"
  },
  "language_info": {
   "codemirror_mode": {
    "name": "ipython",
    "version": 3
   },
   "file_extension": ".py",
   "mimetype": "text/x-python",
   "name": "python",
   "nbconvert_exporter": "python",
   "pygments_lexer": "ipython3",
   "version": "3.8.3"
  }
 },
 "nbformat": 4,
 "nbformat_minor": 2
}
