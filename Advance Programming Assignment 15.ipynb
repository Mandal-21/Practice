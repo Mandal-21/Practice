{
 "cells": [
  {
   "cell_type": "code",
   "execution_count": 13,
   "metadata": {},
   "outputs": [
    {
     "data": {
      "text/plain": [
       "False"
      ]
     },
     "execution_count": 13,
     "metadata": {},
     "output_type": "execute_result"
    }
   ],
   "source": [
    "# 1. Write a function that returns True if a given name can generate an array of words.\n",
    "\n",
    "# Examples\n",
    "\n",
    "# anagram(\"Justin Bieber\", [\"injures\", \"ebb\", \"it\"]) ➞ True\n",
    "\n",
    "# anagram(\"Natalie Portman\", [\"ornamental\", \"pita\"]) ➞ True\n",
    "\n",
    "# anagram(\"Chris Pratt\", [\"chirps\", \"rat\"]) ➞ False\n",
    "# # Not all letters are used\n",
    "\n",
    "# anagram(\"Jeff Goldblum\", [\"jog\", \"meld\", \"bluffs\"]) ➞ False\n",
    "# # \"s\" does not exist in the original name\n",
    "\n",
    "\n",
    "from collections import Counter\n",
    "\n",
    "def anagram(s1, lst):\n",
    "    s1 = \"\".join(s1.split()).lower()\n",
    "    s2 = ''\n",
    "    for i in lst:\n",
    "        s2 += i.lower()\n",
    "    if Counter(s1) == Counter(s2):\n",
    "        return True\n",
    "    return False\n",
    "\n",
    "anagram('Jeff Goldblum', ['jog', 'meld', 'bluffs'])"
   ]
  },
  {
   "cell_type": "code",
   "execution_count": 35,
   "metadata": {},
   "outputs": [
    {
     "data": {
      "text/plain": [
       "[{'name': 'c', 'score': 115, 'reputation': 30},\n",
       " {'name': 'b', 'score': 90, 'reputation': 40},\n",
       " {'name': 'a', 'score': 100, 'reputation': 20}]"
      ]
     },
     "execution_count": 35,
     "metadata": {},
     "output_type": "execute_result"
    }
   ],
   "source": [
    "# 2. Given an array of users, each defined by an object with the following properties: name, score, \n",
    "# reputation create a function that sorts the array to form the correct leaderboard.\n",
    "\n",
    "# The leaderboard takes into consideration the score of each user of course, but an emphasis is put on \n",
    "# their reputation in the community, so to get the trueScore, you should add the reputation multiplied by \n",
    "# 2 to the score.\n",
    "\n",
    "# Once you know the trueScore of each user, sort the array according to it in descending order.\n",
    "\n",
    "# Examples\n",
    "\n",
    "# leaderboards([\n",
    "#   { \"name\": \"a\", \"score\": 100, \"reputation\": 20 },\n",
    "#   { \"name\": \"b\", \"score\": 90, \"reputation\": 40 },\n",
    "#   { \"name\": \"c\", \"score\": 115, \"reputation\": 30 },\n",
    "# ]) ➞ [\n",
    "#   { \"name\": \"c\", \"score\": 115, \"reputation\": 30 },  # trueScore = 175\n",
    "#   { \"name\": \"b\", \"score\": 90, \"reputation\": 40 },   # trueScore = 170\n",
    "#   { \"name\": \"a\", \"score\": 100, \"reputation\": 20 }   # trueScore = 140\n",
    "# ]\n",
    "import numpy as np\n",
    "def leaderboards(arr):\n",
    "    max_ = 0\n",
    "    i = 0\n",
    "    while i < len(arr):\n",
    "        trueScore = arr[i][\"reputation\"]*2 + arr[i][\"score\"]\n",
    "        if trueScore > max_:\n",
    "            max_ = trueScore\n",
    "            arr.insert(0, arr[i])\n",
    "            arr.pop(i+1)\n",
    "\n",
    "        i += 1\n",
    "        \n",
    "    return arr\n",
    "\n",
    "leaderboards([\n",
    "  { \"name\": \"a\", \"score\": 100, \"reputation\": 20 },\n",
    "  { \"name\": \"b\", \"score\": 90, \"reputation\": 40 },\n",
    "  { \"name\": \"c\", \"score\": 115, \"reputation\": 30 },\n",
    "])"
   ]
  },
  {
   "cell_type": "code",
   "execution_count": 54,
   "metadata": {},
   "outputs": [
    {
     "data": {
      "text/plain": [
       "\"-e'- a -e-y -a----y --y!\""
      ]
     },
     "execution_count": 54,
     "metadata": {},
     "output_type": "execute_result"
    }
   ],
   "source": [
    "# 3. Create a function that, given a phrase and a number of letters guessed, returns a string \n",
    "# with hyphens - for every letter of the phrase not guessed, and each letter guessed in place.\n",
    "\n",
    "# Examples\n",
    "\n",
    "# hangman(\"helicopter\", [\"o\", \"e\", \"s\"]) ➞ \"-e---o--e-\"\n",
    "\n",
    "# hangman(\"tree\", [\"r\", \"t\", \"e\"]) ➞ \"tree\"\n",
    "\n",
    "# hangman(\"Python rules\", [\"a\", \"n\", \"p\", \"r\", \"z\"]) ➞ \"P----n r----\"\n",
    "\n",
    "# hangman(\"He\"s a very naughty boy!\", [\"e\", \"a\", \"y\"]) ➞ \"-e\"- a -e-y -a----y --y!\"\n",
    "\n",
    "import string as st\n",
    "def hangman(string, lst):\n",
    "    result = ''\n",
    "    for i in string:\n",
    "        if i in st.punctuation or i == \" \":\n",
    "            result += i\n",
    "            continue\n",
    "        if i.lower() in lst:\n",
    "            result += i\n",
    "        else:\n",
    "            result += \"-\"\n",
    "    return result\n",
    "\n",
    "hangman(\"He's a very naughty boy!\", [\"e\", \"a\", \"y\"])"
   ]
  },
  {
   "cell_type": "code",
   "execution_count": 65,
   "metadata": {},
   "outputs": [
    {
     "data": {
      "text/plain": [
       "256"
      ]
     },
     "execution_count": 65,
     "metadata": {},
     "output_type": "execute_result"
    }
   ],
   "source": [
    "# 4. The Collatz sequence is as follows:\n",
    "\n",
    "#   - Start with some given integer n.\n",
    "#   - If it is even, the next number will be n divided by 2.\n",
    "#   - If it is odd, multiply it by 3 and add 1 to make the next number.\n",
    "#   - The sequence stops when it reaches 1.\n",
    "\n",
    "# According to the Collatz conjecture, it will always reach 1. If that's true, \n",
    "# you can construct a finite sequence following the aforementioned method for any given integer.\n",
    "\n",
    "# Write a function that takes in an integer n and returns the highest integer \n",
    "# in the corresponding Collatz sequence.\n",
    "\n",
    "# Examples\n",
    "\n",
    "# max_collatz(10) ➞ 16\n",
    "# # Collatz sequence: 10, 5, 16, 8, 4, 2, 1\n",
    "\n",
    "# max_collatz(32) ➞ 32\n",
    "# # Collatz sequence: 32, 16, 8, 4, 2, 1\n",
    "\n",
    "# max_collatz(85) ➞ 256\n",
    "# # Collatz sequence: 85, 256, 128, 64, 32, 16, 8, 4, 2, 1\n",
    "\n",
    "def max_collatz(num):\n",
    "    max_list = [num]\n",
    "    while True:\n",
    "        if num == 1:\n",
    "            break\n",
    "        if num%2 == 0:\n",
    "            num = int(num/2)\n",
    "            max_list.append(num)\n",
    "        else:\n",
    "            num = num*3 + 1\n",
    "            max_list.append(num)\n",
    "    return max(max_list)\n",
    "\n",
    "max_collatz(85)"
   ]
  },
  {
   "cell_type": "code",
   "execution_count": 160,
   "metadata": {},
   "outputs": [
    {
     "data": {
      "text/plain": [
       "[444, 563, 789, 1, 2, 5, 9]"
      ]
     },
     "execution_count": 160,
     "metadata": {},
     "output_type": "execute_result"
    }
   ],
   "source": [
    "# 5. Write a function that sorts a list of integers by their digit length in descending order, \n",
    "# then settles ties by sorting numbers with the same digit length in ascending order.\n",
    "\n",
    "# Examples\n",
    "\n",
    "# digit_sort([77, 23, 5, 7, 101])\n",
    "# ➞ [101, 23, 77, 5, 7]\n",
    "\n",
    "# digit_sort([1, 5, 9, 2, 789, 563, 444])\n",
    "# ➞ [444, 563, 789, 1, 2, 5, 9]\n",
    "\n",
    "# digit_sort([53219, 3772, 564, 32, 1])\n",
    "# ➞ [53219, 3772, 564, 32, 1]\n",
    "\n",
    "import collections\n",
    "def digit_sort(lst):\n",
    "    lst = [str(i) for i in lst]\n",
    "    c = 1\n",
    "    dict_ = {}\n",
    "    for i in range(len(lst)-1):\n",
    "        if len(lst[i]) == len(lst[i+1]):\n",
    "            if len(lst[i]) not in dict_:\n",
    "                dict_.update({len(lst[i]): [lst[i]]})\n",
    "            else:\n",
    "                dict_[len(lst[i])].append(lst[i])\n",
    "                if i == len(lst) - 2:\n",
    "                    dict_[len(lst[i])].append(lst[i+1])\n",
    "            continue\n",
    "        else:\n",
    "            if i == len(lst) - 2:\n",
    "                if len(lst[i]) not in dict_:\n",
    "                    dict_.update({len(lst[-1]): [lst[-1]]})\n",
    "                else:\n",
    "                    dict_[len(lst[-1])].append(lst[-1])\n",
    "            if len(lst[i]) not in dict_:\n",
    "                    dict_.update({len(lst[i]): [lst[i]]})\n",
    "            else:\n",
    "                dict_[len(lst[i])].append(lst[i])\n",
    "                \n",
    "            \n",
    "            c += 1\n",
    "\n",
    "    \n",
    "    final_lst = []\n",
    "    final_dict = dict(sorted(dict_.items(), reverse = True))\n",
    "    for i in final_dict.values():\n",
    "        x = sorted(i, reverse = False)\n",
    "        final_lst += x\n",
    "        \n",
    "        \n",
    "    return [int(i) for i in final_lst]\n",
    "\n",
    "digit_sort([1, 5, 9, 2, 789, 563, 444])"
   ]
  }
 ],
 "metadata": {
  "kernelspec": {
   "display_name": "Python 3",
   "language": "python",
   "name": "python3"
  },
  "language_info": {
   "codemirror_mode": {
    "name": "ipython",
    "version": 3
   },
   "file_extension": ".py",
   "mimetype": "text/x-python",
   "name": "python",
   "nbconvert_exporter": "python",
   "pygments_lexer": "ipython3",
   "version": "3.8.3"
  }
 },
 "nbformat": 4,
 "nbformat_minor": 2
}
