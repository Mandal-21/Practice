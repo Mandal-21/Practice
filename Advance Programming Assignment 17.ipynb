{
 "cells": [
  {
   "cell_type": "code",
   "execution_count": 1,
   "metadata": {},
   "outputs": [
    {
     "data": {
      "text/plain": [
       "array([[5, 6, 9],\n",
       "       [5, 7, 1]])"
      ]
     },
     "execution_count": 1,
     "metadata": {},
     "output_type": "execute_result"
    }
   ],
   "source": [
    "# 1. Create a function that transposes a 2D matrix.\n",
    "\n",
    "# Examples\n",
    "\n",
    "# transpose_matrix([\n",
    "#   [1, 1, 1],\n",
    "#   [2, 2, 2],\n",
    "#   [3, 3, 3]\n",
    "# ]) ➞ [\n",
    "#   [1, 2, 3],\n",
    "#   [1, 2, 3],\n",
    "#   [1, 2, 3]\n",
    "# ]\n",
    "\n",
    "# transpose_matrix([\n",
    "#   [5, 5],\n",
    "#   [6, 7],\n",
    "#   [9, 1]\n",
    "# ]) ➞ [\n",
    "#   [5, 6, 9],\n",
    "#   [5, 7, 1]\n",
    "# ]\n",
    "\n",
    "import numpy as np\n",
    "def transpose_matrix(arr):\n",
    "    return np.array(arr).T\n",
    "\n",
    "transpose_matrix([\n",
    "  [5, 5],\n",
    "  [6, 7],\n",
    "  [9, 1]\n",
    "])"
   ]
  },
  {
   "cell_type": "code",
   "execution_count": 26,
   "metadata": {},
   "outputs": [
    {
     "data": {
      "text/plain": [
       "False"
      ]
     },
     "execution_count": 26,
     "metadata": {},
     "output_type": "execute_result"
    }
   ],
   "source": [
    "# 2. Create a function that determines whether a string is a valid hex code.\n",
    "\n",
    "# A hex code must begin with a pound key # and is exactly 6 characters in length. \n",
    "# Each character must be a digit from 0-9 or an alphabetic character from A-F. \n",
    "# All alphabetic characters may be uppercase or lowercase.\n",
    "\n",
    "# Examples\n",
    "\n",
    "# is_valid_hex_code(\"#CD5C5C\") ➞ True\n",
    "\n",
    "# is_valid_hex_code(\"#EAECEE\") ➞ True\n",
    "\n",
    "# is_valid_hex_code(\"#eaecee\") ➞ True\n",
    "\n",
    "# is_valid_hex_code(\"#CD5C58C\") ➞ False\n",
    "# # Length exceeds 6\n",
    "\n",
    "# is_valid_hex_code(\"#CD5C5Z\") ➞ False\n",
    "# # Not all alphabetic characters in A-F\n",
    "\n",
    "# is_valid_hex_code(\"#CD5C&C\") ➞ False\n",
    "# # Contains unacceptable character\n",
    "\n",
    "# is_valid_hex_code(\"CD5C5C\") ➞ False\n",
    "# # Missing #\n",
    "\n",
    "import string\n",
    "def is_valid_hex_code(hexcode):\n",
    "    hexcode = hexcode.lower()\n",
    "    if len(hexcode) == 7 and hexcode[0] == \"#\":\n",
    "        for i in hexcode:\n",
    "            if i.isalpha():\n",
    "                if i in string.ascii_lowercase[:6]:\n",
    "                    pass\n",
    "                else:\n",
    "                    return False\n",
    "        return True\n",
    "    return False\n",
    "\n",
    "is_valid_hex_code(\"CD5C5C\")"
   ]
  },
  {
   "cell_type": "code",
   "execution_count": 43,
   "metadata": {},
   "outputs": [
    {
     "data": {
      "text/plain": [
       "'75%'"
      ]
     },
     "execution_count": 43,
     "metadata": {},
     "output_type": "execute_result"
    }
   ],
   "source": [
    "# 3. Given a list of math equations (given as strings), return the percentage of correct answers as a string. \n",
    "# Round to the nearest whole number.\n",
    "\n",
    "# Examples\n",
    "\n",
    "# mark_maths([\"2+2=4\", \"3+2=5\", \"10-3=3\", \"5+5=10\"]) ➞ \"75%\"\n",
    "\n",
    "# mark_maths([\"1-2=-2\"]), \"0%\"\n",
    "\n",
    "# mark_maths([\"2+3=5\", \"4+4=9\", \"3-1=2\"]) ➞ \"67%\"\n",
    "\n",
    "import math\n",
    "def mark_maths(lst):\n",
    "    marks = 0\n",
    "    len_ = len(lst)\n",
    "    for i in lst:\n",
    "        q, a = i.split(\"=\")\n",
    "        if str(eval(q)) == a:\n",
    "            marks += 1\n",
    "    return str(math.ceil((marks/len_)*100)) + \"%\"\n",
    "\n",
    "mark_maths([\"2+2=4\", \"3+2=5\", \"10-3=3\", \"5+5=10\"])"
   ]
  },
  {
   "cell_type": "code",
   "execution_count": 46,
   "metadata": {},
   "outputs": [
    {
     "data": {
      "text/plain": [
       "True"
      ]
     },
     "execution_count": 46,
     "metadata": {},
     "output_type": "execute_result"
    }
   ],
   "source": [
    "# 4. There are two players, Alice and Bob, each with a 3-by-3 grid. \n",
    "# A referee tells Alice to fill out one particular row in the grid (say the second row) \n",
    "# by putting either a 1 or a 0 in each box, such that the sum of the numbers in that row is odd. \n",
    "# The referee tells Bob to fill out one column in the grid (say the first column) by putting either a 1 or a 0 \n",
    "# in each box, such that the sum of the numbers in that column is even.\n",
    "\n",
    "# Alice and Bob win the game if Alice’s numbers give an odd sum, Bob’s give an even sum, and (most important) \n",
    "# they’ve each written down the same number in the one square where their row and column intersect.\n",
    "\n",
    "# Examples\n",
    "\n",
    "# magic_square_game([2, \"100\"], [1, \"101\"]) ➞ False\n",
    "\n",
    "# magic_square_game([2, \"001\"], [1, \"101\"]) ➞ True\n",
    "\n",
    "# magic_square_game([3, \"111\"], [2, \"011\"]) ➞ True\n",
    "\n",
    "# magic_square_game([1, \"010\"], [3, \"101\"]) ➞ False\n",
    "\n",
    "# # Two lists, Alice [row, \"her choice\"], Bob [column, \"his choice\"]\n",
    "\n",
    "def magic_square_game(alice, bob):\n",
    "    if alice[1][bob[0]-1] == bob[1][alice[0]-1]:\n",
    "        return True\n",
    "    return False\n",
    "\n",
    "magic_square_game([3, \"111\"], [2, \"011\"])"
   ]
  },
  {
   "cell_type": "code",
   "execution_count": 105,
   "metadata": {},
   "outputs": [
    {
     "data": {
      "text/plain": [
       "'1h 52min 0s'"
      ]
     },
     "execution_count": 105,
     "metadata": {},
     "output_type": "execute_result"
    }
   ],
   "source": [
    "# 5. From point A, an object is moving towards point B at constant velocity va (in km/hr). \n",
    "# From point B, another object is moving towards point A at constant velocity vb (in km/hr). \n",
    "# Knowing this and the distance between point A and B (in km), write a function that returns \n",
    "# how much time passes until both objects meet.\n",
    "\n",
    "# Format the output like this:\n",
    "\n",
    "# \"2h 23min 34s\"\n",
    "\n",
    "# Examples\n",
    "\n",
    "# lets_meet(100, 10, 30) ➞ \"2h 30min 0s\"\n",
    "\n",
    "# lets_meet(280, 70, 80) ➞ \"1h 52min 0s\"\n",
    "\n",
    "# lets_meet(90, 75, 65) ➞ \"0h 38min 34s\"\n",
    "import math\n",
    "def lets_meet(dist, s1, s2):\n",
    "    t = round(dist/(s1+s2),4)\n",
    "    mins, hours = math.modf(t)\n",
    "    hours = int(hours)\n",
    "    mins = mins*60\n",
    "    seconds, _ = math.modf(mins)\n",
    "    seconds = int(seconds*60)\n",
    "    \n",
    "    \n",
    "    return f\"{hours}h {int(mins)}min {seconds}s\"\n",
    "\n",
    "lets_meet(280, 70, 80)"
   ]
  }
 ],
 "metadata": {
  "kernelspec": {
   "display_name": "Python 3",
   "language": "python",
   "name": "python3"
  },
  "language_info": {
   "codemirror_mode": {
    "name": "ipython",
    "version": 3
   },
   "file_extension": ".py",
   "mimetype": "text/x-python",
   "name": "python",
   "nbconvert_exporter": "python",
   "pygments_lexer": "ipython3",
   "version": "3.8.3"
  }
 },
 "nbformat": 4,
 "nbformat_minor": 2
}
