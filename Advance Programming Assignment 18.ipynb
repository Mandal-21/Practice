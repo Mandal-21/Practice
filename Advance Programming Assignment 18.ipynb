{
 "cells": [
  {
   "cell_type": "code",
   "execution_count": 4,
   "id": "3780536d",
   "metadata": {},
   "outputs": [
    {
     "data": {
      "text/plain": [
       "[200, 10500]"
      ]
     },
     "execution_count": 4,
     "metadata": {},
     "output_type": "execute_result"
    }
   ],
   "source": [
    "# 1. A robot has been given a list of movement instructions. Each instruction is either \n",
    "# left, right, up or down, followed by a distance to move. The robot starts at [0, 0]. \n",
    "# You want to calculate where the robot will end up and return its final position as a list.\n",
    "\n",
    "# To illustrate, if the robot is given the following instructions:\n",
    "\n",
    "# [\"right 10\", \"up 50\", \"left 30\", \"down 10\"]\n",
    "\n",
    "# It will end up 20 left and 40 up from where it started, so we return [-20, 40].\n",
    "\n",
    "# Examples\n",
    "\n",
    "# track_robot([\"right 10\", \"up 50\", \"left 30\", \"down 10\"]) ➞ [-20, 40]\n",
    "\n",
    "# track_robot([]) ➞ [0, 0]\n",
    "# // If there are no instructions, the robot doesn't move.\n",
    "\n",
    "# track_robot([\"right 100\", \"right 100\", \"up 500\", \"up 10000\"]) ➞ [200, 10500]\n",
    "\n",
    "def track_robot(lst):\n",
    "    right_left = []\n",
    "    up_down = []\n",
    "    for dist in lst:\n",
    "        if \"right\" in dist:\n",
    "            right_left.append(int(dist.split(\" \")[-1]))\n",
    "        if \"left\" in dist:\n",
    "            right_left.append(-int(dist.split(\" \")[-1]))\n",
    "        if \"up\" in dist:\n",
    "            up_down.append(int(dist.split(\" \")[-1]))\n",
    "        if \"down\" in dist:\n",
    "            up_down.append(-int(dist.split(\" \")[-1]))\n",
    "            \n",
    "    return [sum(right_left), sum(up_down)]\n",
    "\n",
    "\n",
    "track_robot([\"right 100\", \"right 100\", \"up 500\", \"up 10000\"])"
   ]
  },
  {
   "cell_type": "code",
   "execution_count": 12,
   "id": "0b0cca2a",
   "metadata": {
    "scrolled": true
   },
   "outputs": [
    {
     "data": {
      "text/plain": [
       "'strengths'"
      ]
     },
     "execution_count": 12,
     "metadata": {},
     "output_type": "execute_result"
    }
   ],
   "source": [
    "# 2. Write a function that will return the longest word in a sentence. \n",
    "# In cases where more than one word is found, return the first one.\n",
    "\n",
    "# Examples\n",
    "\n",
    "# find_longest(\"A thing of beauty is a joy forever.\") ➞ \"forever\"\n",
    "\n",
    "# find_longest(\"Forgetfulness is by all means powerless!\") ➞ \"forgetfulness\"\n",
    "\n",
    "# find_longest(\"\\\"Strengths\\\" is the longest and most commonly used word that contains only a single vowel.\") ➞ \n",
    "# \"strengths\"\n",
    "\n",
    "import string\n",
    "def find_longest(sent):\n",
    "    sent_cleaned = \"\".join([i.lower() for i in sent if i not in string.punctuation])\n",
    "    max_len_word = sent_cleaned[0]\n",
    "    lst_sent = sent_cleaned.split()\n",
    "    for i in lst_sent:\n",
    "        if len(max_len_word) < len(i):\n",
    "            max_len_word = i\n",
    "    return max_len_word\n",
    "    \n",
    "\n",
    "find_longest(\"\\\"Strengths\\\" is the longest and most commonly used word that contains only a single vowel.\")"
   ]
  },
  {
   "cell_type": "code",
   "execution_count": 15,
   "id": "f6170b87",
   "metadata": {},
   "outputs": [
    {
     "data": {
      "text/plain": [
       "'qualified'"
      ]
     },
     "execution_count": 15,
     "metadata": {},
     "output_type": "execute_result"
    }
   ],
   "source": [
    "# 3. Create a function to check if a candidate is qualified in an imaginary coding interview of an \n",
    "# imaginary tech startup.\n",
    "\n",
    "# The criteria for a candidate to be qualified in the coding interview is:\n",
    "\n",
    "#    1. The candidate should have complete all the questions.\n",
    "#    2. The maximum time given to complete the interview is 120 minutes.\n",
    "#    3. The maximum time given for very easy questions is 5 minutes each.\n",
    "#    4. The maximum time given for easy questions is 10 minutes each.\n",
    "#    5. The maximum time given for medium questions is 15 minutes each.\n",
    "#    6. The maximum time given for hard questions is 20 minutes each.\n",
    "\n",
    "# If all the above conditions are satisfied, return \"qualified\", else return \"disqualified\".\n",
    "\n",
    "# You will be given a list of time taken by a candidate to solve a particular question and \n",
    "# the total time taken by the candidate to complete the interview.\n",
    "\n",
    "# Given a list , in a true condition will always be in the format \n",
    "# [very easy, very easy, easy, easy, medium, medium, hard, hard].\n",
    "\n",
    "# The maximum time to complete the interview includes a buffer time of 20 minutes.\n",
    "\n",
    "# Examples\n",
    "\n",
    "# interview([5, 5, 10, 10, 15, 15, 20, 20], 120) ➞ \"qualified\"\n",
    "\n",
    "# interview([2, 3, 8, 6, 5, 12, 10, 18], 64) ➞  \"qualified\"\n",
    "\n",
    "# interview([5, 5, 10, 10, 25, 15, 20, 20], 120) ➞ \"disqualified\"\n",
    "# # Exceeded the time limit for a medium question.\n",
    "\n",
    "# interview([5, 5, 10, 10, 15, 15, 20], 120) ➞ \"disqualified\"\n",
    "# # Did not complete all the questions.\n",
    "\n",
    "# interview([5, 5, 10, 10, 15, 15, 20, 20], 130) ➞ \"disqualified\"\n",
    "# # Solved all the questions in their respected time limits but exceeded the total time limit of the interview.\n",
    "\n",
    "def interview(lst, total):\n",
    "    if total <= 120:\n",
    "        for i in lst[:2]:\n",
    "            if i > 5:\n",
    "                return \"disqualified\"\n",
    "        for i in lst[2:4]:\n",
    "            if i > 10:\n",
    "                return \"disqualified\"\n",
    "        for i in lst[4:6]:\n",
    "            if i > 15:\n",
    "                return \"disqualified\"\n",
    "        for i in lst[4:8]:\n",
    "            if i > 20:\n",
    "                return \"disqualified\"\n",
    "        return \"qualified\"\n",
    "    \n",
    "    return \"disqualified\"\n",
    "\n",
    "interview([2, 3, 8, 6, 5, 12, 10, 18], 64)"
   ]
  },
  {
   "cell_type": "code",
   "execution_count": 1,
   "id": "25052585",
   "metadata": {},
   "outputs": [
    {
     "data": {
      "text/plain": [
       "[[2, 3], [4, 5], [6]]"
      ]
     },
     "execution_count": 1,
     "metadata": {},
     "output_type": "execute_result"
    }
   ],
   "source": [
    "# 4. Write a function that divides a list into chunks of size n, where n is the length of each chunk.\n",
    "\n",
    "# Examples\n",
    "\n",
    "# chunkify([2, 3, 4, 5], 2) ➞ [[2, 3], [4, 5]]\n",
    "\n",
    "# chunkify([2, 3, 4, 5, 6], 2) ➞ [[2, 3], [4, 5], [6]]\n",
    "\n",
    "# chunkify([2, 3, 4, 5, 6, 7], 3) ➞ [[2, 3, 4], [5, 6, 7]]\n",
    "\n",
    "# chunkify([2, 3, 4, 5, 6, 7], 1) ➞ [[2], [3], [4], [5], [6], [7]]\n",
    "\n",
    "# chunkify([2, 3, 4, 5, 6, 7], 7) ➞ [[2, 3, 4, 5, 6, 7]]\n",
    "\n",
    "def chunkify(my_list, n):\n",
    "    \n",
    "    return [my_list[i * n:(i + 1) * n] for i in range((len(my_list) + n - 1) // n )]\n",
    "\n",
    "chunkify([2, 3, 4, 5, 6], 2)"
   ]
  },
  {
   "cell_type": "code",
   "execution_count": 13,
   "id": "f72f4c25",
   "metadata": {},
   "outputs": [
    {
     "data": {
      "text/plain": [
       "[5.99, 0.2, 8.5, 1.99]"
      ]
     },
     "execution_count": 13,
     "metadata": {},
     "output_type": "execute_result"
    }
   ],
   "source": [
    "# 5. You are given a list of strings consisting of grocery items, with prices in parentheses. \n",
    "# Return a list of prices in float format.\n",
    "\n",
    "# Examples\n",
    "\n",
    "# get_prices([\"salad ($4.99)\"]) ➞ [4.99]\n",
    "\n",
    "# get_prices([\n",
    "#   \"artichokes ($1.99)\",\n",
    "#   \"rotiserrie chicken ($5.99)\",\n",
    "#   \"gum ($0.75)\"\n",
    "# ])\n",
    "\n",
    "# ➞ [1.99, 5.99, 0.75]\n",
    "\n",
    "# get_prices([\n",
    "#   \"ice cream ($5.99)\",\n",
    "#   \"banana ($0.20)\",\n",
    "#   \"sandwich ($8.50)\",\n",
    "#   \"soup ($1.99)\"\n",
    "# ])\n",
    "\n",
    "# ➞ [5.99, 0.2, 8.50, 1.99]\n",
    "\n",
    "import re\n",
    "def get_prices(lst):\n",
    "    money = [float(i.split(\"$\")[-1].split(\")\")[0]) for i in lst]\n",
    "    return money\n",
    "\n",
    "get_prices([\n",
    "  \"ice cream ($5.99)\",\n",
    "  \"banana ($0.20)\",\n",
    "  \"sandwich ($8.50)\",\n",
    "  \"soup ($1.99)\"\n",
    "])"
   ]
  }
 ],
 "metadata": {
  "kernelspec": {
   "display_name": "Python 3",
   "language": "python",
   "name": "python3"
  },
  "language_info": {
   "codemirror_mode": {
    "name": "ipython",
    "version": 3
   },
   "file_extension": ".py",
   "mimetype": "text/x-python",
   "name": "python",
   "nbconvert_exporter": "python",
   "pygments_lexer": "ipython3",
   "version": "3.6.9"
  }
 },
 "nbformat": 4,
 "nbformat_minor": 5
}
