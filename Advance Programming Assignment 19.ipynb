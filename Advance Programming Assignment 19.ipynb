{
 "cells": [
  {
   "cell_type": "code",
   "execution_count": 1,
   "id": "d1fad9be",
   "metadata": {},
   "outputs": [
    {
     "data": {
      "text/plain": [
       "[['c', 'd', 'c', 'd'],\n",
       " ['d', 'c', 'd', 'c'],\n",
       " ['c', 'd', 'c', 'd'],\n",
       " ['d', 'c', 'd', 'c']]"
      ]
     },
     "execution_count": 1,
     "metadata": {},
     "output_type": "execute_result"
    }
   ],
   "source": [
    "# 1. Create a checker board generator, which takes as inputs n and 2 elements \n",
    "# to generate an n x n checkerboard with those two elements as alternating squares.\n",
    "\n",
    "# Examples\n",
    "\n",
    "# checker_board(2, 7, 6) ➞ [\n",
    "#   [7, 6],\n",
    "#   [6, 7]\n",
    "# ]\n",
    "\n",
    "# checker_board(3, \"A\", \"B\") ➞ [\n",
    "#   [\"A\", \"B\", \"A\"],\n",
    "#   [\"B\", \"A\", \"B\"],\n",
    "#   [\"A\", \"B\", \"A\"]\n",
    "# ]\n",
    "\n",
    "# checker_board(4, \"c\", \"d\") ➞ [\n",
    "#   [\"c\", \"d\", \"c\", \"d\"],\n",
    "#   [\"d\", \"c\", \"d\", \"c\"],\n",
    "#   [\"c\", \"d\", \"c\", \"d\"],\n",
    "#   [\"d\", \"c\", \"d\", \"c\"]\n",
    "# ]\n",
    "\n",
    "# checker_board(4, \"c\", \"c\") ➞ \"invalid\"\n",
    "\n",
    "def checker_board(n, c1, c2):\n",
    "    if c1 != c2:\n",
    "        result = []\n",
    "        for i in range(n):\n",
    "            if i%2 == 0:\n",
    "                result.append([c1 if i%2==0 else c2 for i in range(n)])\n",
    "            else:\n",
    "                result.append([c1 if i%2!=0 else c2 for i in range(n)])\n",
    "        return result\n",
    "    return \"invalid\"\n",
    "\n",
    "checker_board(4, \"c\", \"d\")"
   ]
  },
  {
   "cell_type": "code",
   "execution_count": 4,
   "id": "bb16b7d1",
   "metadata": {},
   "outputs": [
    {
     "data": {
      "text/plain": [
       "False"
      ]
     },
     "execution_count": 4,
     "metadata": {},
     "output_type": "execute_result"
    }
   ],
   "source": [
    "# 2. A string is an almost-palindrome if, by changing only one character, you can make it a palindrome. \n",
    "# Create a function that returns True if a string is an almost-palindrome and False otherwise.\n",
    "\n",
    "# Examples\n",
    "\n",
    "# almost_palindrome(\"abcdcbg\") ➞ True\n",
    "# # Transformed to \"abcdcba\" by changing \"g\" to \"a\".\n",
    "\n",
    "# almost_palindrome(\"abccia\") ➞ True\n",
    "# # Transformed to \"abccba\" by changing \"i\" to \"b\".\n",
    "\n",
    "# almost_palindrome(\"abcdaaa\") ➞ False\n",
    "# # Can't be transformed to a palindrome in exactly 1 turn.\n",
    "\n",
    "# almost_palindrome(\"1234312\") ➞ False\n",
    "\n",
    "def almost_palindrome(string):\n",
    "    rev_string = string[::-1]\n",
    "    i = 0\n",
    "    count = 0\n",
    "    while i < len(string):\n",
    "        if string[i] == rev_string[i]:\n",
    "            i += 1\n",
    "            continue\n",
    "        count += 1\n",
    "        i += 1\n",
    "        \n",
    "    if count > 2:\n",
    "        return False\n",
    "    return True\n",
    "\n",
    "almost_palindrome(\"abcdaaa\")"
   ]
  },
  {
   "cell_type": "code",
   "execution_count": 9,
   "id": "3c44eab3",
   "metadata": {},
   "outputs": [
    {
     "data": {
      "text/plain": [
       "8"
      ]
     },
     "execution_count": 9,
     "metadata": {},
     "output_type": "execute_result"
    }
   ],
   "source": [
    "# 3. Create a function that finds how many prime numbers there are, up to the given integer.\n",
    "\n",
    "# Examples\n",
    "\n",
    "# prime_numbers(10) ➞ 4\n",
    "# # 2, 3, 5 and 7\n",
    "\n",
    "# prime_numbers(20) ➞ 8\n",
    "# # 2, 3, 5, 7, 11, 13, 17 and 19\n",
    "\n",
    "# prime_numbers(30) ➞ 10\n",
    "# # 2, 3, 5, 7, 11, 13, 17, 19, 23 and 29\n",
    "\n",
    "def prime_numbers(n):\n",
    "    result = []\n",
    "    for num in range(n + 1):\n",
    "        if num > 1:\n",
    "            for i in range(2, num):\n",
    "                if (num % i) == 0:\n",
    "                    break\n",
    "            else:\n",
    "                result.append(num)\n",
    "    return len(result)\n",
    "\n",
    "prime_numbers(20)"
   ]
  },
  {
   "cell_type": "code",
   "execution_count": 13,
   "id": "2004e922",
   "metadata": {},
   "outputs": [
    {
     "data": {
      "text/plain": [
       "['Tuesday', 'Wednesday', 'Saturday']"
      ]
     },
     "execution_count": 13,
     "metadata": {},
     "output_type": "execute_result"
    }
   ],
   "source": [
    "# 4. If today was Monday, in two days, it would be Wednesday.\n",
    "\n",
    "# Create a function that takes in a list of days as input and the number of days to increment by. \n",
    "# Return a list of days after n number of days has passed.\n",
    "\n",
    "# Examples\n",
    "\n",
    "# after_n_days([\"Thursday\", \"Monday\"], 4) ➞ [\"Monday\", \"Friday\"]\n",
    "\n",
    "# after_n_days([\"Sunday\", \"Sunday\", \"Sunday\"], 1) ➞ [\"Monday\", \"Monday\", \"Monday\"]\n",
    "\n",
    "# after_n_days([\"Monday\", \"Tuesday\", \"Friday\"], 1) ➞ [\"Tuesday\", \"Wednesday\", \"Saturday\"]\n",
    "\n",
    "def after_n_days(lst, n):\n",
    "    week = [\"Monday\", \"Tuesday\", \"Wednesday\", \"Thursday\", \"Friday\", \"Saturday\", \"Sunday\"]\n",
    "    new_week = []\n",
    "    for day in lst:\n",
    "        pos = week.index(day)\n",
    "        if (pos+n) >= len(week):\n",
    "            new_week.append(week[pos+n-len(week)])\n",
    "        else:\n",
    "            new_week.append(week[pos+n])\n",
    "    return new_week\n",
    "\n",
    "after_n_days([\"Monday\", \"Tuesday\", \"Friday\"], 1)"
   ]
  },
  {
   "cell_type": "code",
   "execution_count": 21,
   "id": "73e615ff",
   "metadata": {},
   "outputs": [
    {
     "data": {
      "text/plain": [
       "False"
      ]
     },
     "execution_count": 21,
     "metadata": {},
     "output_type": "execute_result"
    }
   ],
   "source": [
    "# 5. You are in the process of creating a chat application and want to add an anonymous name feature. \n",
    "# This anonymous name feature will create an alias that consists of two capitalized words beginning \n",
    "# with the same letter as the users first name.\n",
    "\n",
    "# Create a function that determines if the list of users is mapped to a list of anonymous names correctly.\n",
    "\n",
    "# Examples\n",
    "\n",
    "# is_correct_aliases([\"Adrian M.\", \"Harriet S.\", \"Mandy T.\"], [\"Amazing Artichoke\", \"Hopeful Hedgehog\", \n",
    "#                                                              \"Marvelous Mouse\"]) ➞ True\n",
    "\n",
    "# is_correct_aliases([\"Rachel F.\", \"Pam G.\", \"Fred Z.\", \"Nancy K.\"], [\"Reassuring Rat\", \"Peaceful Panda\", \n",
    "#                                                                     \"Fantastic Frog\", \"Notable Nickel\"]) ➞ True\n",
    "\n",
    "# is_correct_aliases([\"Beth T.\"], [\"Brandishing Mimosa\"]) ➞ False\n",
    "# # Both words in \"Brandishing Mimosa\" should begin with a \"B\" - \"Brandishing Beaver\" would do the trick.\n",
    "from itertools import product\n",
    "\n",
    "def is_correct_aliases(users, anonymous):\n",
    "    i = 0\n",
    "    while i < len(users):\n",
    "        first_char_user = users[i][0]\n",
    "        anonymous_split = anonymous[i].split()\n",
    "        if anonymous_split[0][0] == anonymous_split[1][0]:\n",
    "            if first_char_user == anonymous_split[0][0]:\n",
    "                i+=1\n",
    "                pass\n",
    "            else:\n",
    "                return False\n",
    "        else:\n",
    "            return False\n",
    "        \n",
    "    return True\n",
    "\n",
    "is_correct_aliases([\"Beth T.\"], [\"Brandishing Mimosa\"])\n",
    "    "
   ]
  }
 ],
 "metadata": {
  "kernelspec": {
   "display_name": "Python 3",
   "language": "python",
   "name": "python3"
  },
  "language_info": {
   "codemirror_mode": {
    "name": "ipython",
    "version": 3
   },
   "file_extension": ".py",
   "mimetype": "text/x-python",
   "name": "python",
   "nbconvert_exporter": "python",
   "pygments_lexer": "ipython3",
   "version": "3.8.8"
  }
 },
 "nbformat": 4,
 "nbformat_minor": 5
}
