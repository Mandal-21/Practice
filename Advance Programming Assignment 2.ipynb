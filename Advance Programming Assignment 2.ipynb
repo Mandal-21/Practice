{
 "cells": [
  {
   "cell_type": "code",
   "execution_count": 2,
   "metadata": {},
   "outputs": [
    {
     "data": {
      "text/plain": [
       "141"
      ]
     },
     "execution_count": 2,
     "metadata": {},
     "output_type": "execute_result"
    }
   ],
   "source": [
    "# 1. Write a function that takes a positive integer num and calculates how many\n",
    "# dots exist in a pentagonal shape around the center dot on the Nth iteration.\n",
    "# In the image below you can see the first iteration is only a single dot. On the\n",
    "# second, there are 6 dots. On the third, there are 16 dots, and on the fourth\n",
    "# there are 31 dots.\n",
    "\n",
    "def pentagonal(num:int)->int: \n",
    "    num = num - 1\n",
    "    number = ((5*(num**2)) + (5*num) + 2) / 2 \n",
    "    return int(number)\n",
    "\n",
    "pentagonal(8)"
   ]
  },
  {
   "cell_type": "code",
   "execution_count": 11,
   "metadata": {},
   "outputs": [
    {
     "data": {
      "text/plain": [
       "'1lpp0aca'"
      ]
     },
     "execution_count": 11,
     "metadata": {},
     "output_type": "execute_result"
    }
   ],
   "source": [
    "# 2.  Make a function that encrypts a given input with these steps:\n",
    "\n",
    "# Input: \"apple\"\n",
    "\n",
    "# Step 1: Reverse the input: \"elppa\"\n",
    "\n",
    "# Step 2: Replace all vowels using the following chart:\n",
    "\n",
    "# a => 0\n",
    "# e => 1\n",
    "# i => 2\n",
    "# o => 2\n",
    "# u => 3\n",
    "\n",
    "# # \"1lpp0\"\n",
    "\n",
    "# Step 3: Add \"aca\" to the end of the word: \"1lpp0aca\"\n",
    "\n",
    "# Output: \"1lpp0aca\"\n",
    "\n",
    "# Examples\n",
    "\n",
    "# encrypt(\"banana\") ➞ \"0n0n0baca\"\n",
    "\n",
    "# encrypt(\"karaca\") ➞ \"0c0r0kaca\"\n",
    "\n",
    "# encrypt(\"burak\") ➞ \"k0r3baca\"\n",
    "\n",
    "# encrypt(\"alpaca\") ➞ \"0c0pl0aca\"\n",
    "\n",
    "def encrypt(word:str)->str:\n",
    "    \n",
    "    vowel_dict = {\n",
    "        \"a\": \"0\",\n",
    "        \"e\": \"1\",\n",
    "        \"i\": \"2\",\n",
    "        \"o\": \"2\",\n",
    "        \"u\": \"3\",\n",
    "    }\n",
    "    \n",
    "    resverse_word = list(word[::-1])\n",
    "    op_list = []\n",
    "    for i in resverse_word:\n",
    "        if i in vowel_dict:\n",
    "            op_list.append(vowel_dict.get(i))\n",
    "        else:\n",
    "            op_list.append(i)\n",
    "    return \"\".join(op_list) + \"aca\"\n",
    "\n",
    "encrypt(\"apple\")"
   ]
  },
  {
   "cell_type": "code",
   "execution_count": 15,
   "metadata": {},
   "outputs": [
    {
     "data": {
      "text/plain": [
       "True"
      ]
     },
     "execution_count": 15,
     "metadata": {},
     "output_type": "execute_result"
    }
   ],
   "source": [
    "# 3. Given the month and year as numbers, return whether that month contains a Friday 13th.\n",
    "# (i.e You can check Python's datetime module)\n",
    "\n",
    "# Examples\n",
    "\n",
    "# has_friday_13(3, 2020) ➞ True\n",
    "\n",
    "# has_friday_13(10, 2017) ➞ True\n",
    "\n",
    "# has_friday_13(1, 1985) ➞ False\n",
    "\n",
    "import datetime\n",
    "def has_friday_13(month, year):\n",
    "    date_month_year = datetime.date(year, month, 13)\n",
    "    weekday = date_month_year.strftime(\"%A\")\n",
    "    if weekday == \"Friday\":\n",
    "        return True\n",
    "    return False\n",
    "\n",
    "has_friday_13(10, 2017)"
   ]
  },
  {
   "cell_type": "code",
   "execution_count": 17,
   "metadata": {},
   "outputs": [
    {
     "data": {
      "text/plain": [
       "2"
      ]
     },
     "execution_count": 17,
     "metadata": {},
     "output_type": "execute_result"
    }
   ],
   "source": [
    "# 4. Write a regular expression that will help us count how many bad cookies are produced every day. \n",
    "# You must use RegEx negative lookbehind.\n",
    "\n",
    "# Example\n",
    "\n",
    "# lst = [\"bad cookie\", \"good cookie\", \"bad cookie\", \"good cookie\", \"good cookie\"]\n",
    "# pattern = \"yourregularexpressionhere\"\n",
    "\n",
    "# len(re.findall(pattern, \", \".join(lst))) ➞ 2\n",
    "\n",
    "import re\n",
    "lst = [\"bad cookie\", \"good cookie\", \"bad cookie\", \"good cookie\", \"good cookie\"]\n",
    "pattern = \"bad\"\n",
    "len(re.findall(pattern, \", \".join(lst)))"
   ]
  },
  {
   "cell_type": "code",
   "execution_count": 22,
   "metadata": {},
   "outputs": [
    {
     "data": {
      "text/plain": [
       "{'tables'}"
      ]
     },
     "execution_count": 22,
     "metadata": {},
     "output_type": "execute_result"
    }
   ],
   "source": [
    "# 5. Given a list of words in the singular form, return a set of those words in the plural form \n",
    "# if they appear more than once in the list.\n",
    "\n",
    "# Examples\n",
    "\n",
    "# pluralize([\"cow\", \"pig\", \"cow\", \"cow\"]) ➞ { \"cows\", \"pig\" }\n",
    "\n",
    "# pluralize([\"table\", \"table\", \"table\"]) ➞ { \"tables\" }\n",
    "\n",
    "# pluralize([\"chair\", \"pencil\", \"arm\"]) ➞ { \"chair\", \"pencil\", \"arm\" }\n",
    "\n",
    "from collections import Counter\n",
    "def pluralize(l:list)->set:\n",
    "    count_dic = dict(Counter(l))\n",
    "    set_of_l = set({})\n",
    "    for key, value in count_dic.items():\n",
    "        if value > 1:\n",
    "            set_of_l.add(key + \"s\")\n",
    "        else:\n",
    "            set_of_l.add(key)\n",
    "    return set_of_l\n",
    "    \n",
    "pluralize([\"table\", \"table\", \"table\"])"
   ]
  }
 ],
 "metadata": {
  "kernelspec": {
   "display_name": "Python 3",
   "language": "python",
   "name": "python3"
  },
  "language_info": {
   "codemirror_mode": {
    "name": "ipython",
    "version": 3
   },
   "file_extension": ".py",
   "mimetype": "text/x-python",
   "name": "python",
   "nbconvert_exporter": "python",
   "pygments_lexer": "ipython3",
   "version": "3.8.3"
  }
 },
 "nbformat": 4,
 "nbformat_minor": 2
}
