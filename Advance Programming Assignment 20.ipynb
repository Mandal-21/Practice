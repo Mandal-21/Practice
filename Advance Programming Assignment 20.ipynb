{
 "cells": [
  {
   "cell_type": "code",
   "execution_count": 1,
   "id": "925553a8",
   "metadata": {},
   "outputs": [
    {
     "data": {
      "text/plain": [
       "\"<p class='one two three'></p>\""
      ]
     },
     "execution_count": 1,
     "metadata": {},
     "output_type": "execute_result"
    }
   ],
   "source": [
    "# 1. Create a function based on the input and output. Look at the examples, there is a pattern.\n",
    "\n",
    "# Examples\n",
    "\n",
    "# secret(\"p.one.two.three\") ➞ \"<p class='one two three'></p>\"\n",
    "\n",
    "# secret(\"p.one\") ➞ \"<p class='one'></p>\"\n",
    "\n",
    "# secret(\"p.four.five\") ➞ \"<p class='four five'></p>\"\n",
    "\n",
    "def secret(string):\n",
    "    html = string.split(\".\")\n",
    "    tag = html[0]\n",
    "    class_ = \" \".join(html[1:])\n",
    "    return f\"<{tag} class='{class_}'></{tag}>\"\n",
    "\n",
    "secret(\"p.one.two.three\")"
   ]
  },
  {
   "cell_type": "code",
   "execution_count": 45,
   "id": "0117c296",
   "metadata": {},
   "outputs": [
    {
     "data": {
      "text/plain": [
       "0"
      ]
     },
     "execution_count": 45,
     "metadata": {},
     "output_type": "execute_result"
    }
   ],
   "source": [
    "# 2. Create a function which counts how many lone 1s appear in a given\n",
    "# number. Lone means the number doesnt appear twice or more in a row.\n",
    "# Examples\n",
    "# count_lone_ones(101) ➞ 2\n",
    "# count_lone_ones(1191) ➞ 1\n",
    "# count_lone_ones(1111) ➞ 0\n",
    "# count_lone_ones(462) ➞ 0\n",
    "\n",
    "def count_lone_ones(num):\n",
    "    n = str(num)\n",
    "    i = 0\n",
    "    count = 0\n",
    "    while i < len(n)-1:\n",
    "        if (n[i] == \"1\" and n[i+1] == \"1\"):\n",
    "            i+=2\n",
    "            \n",
    "        if (n[i] != \"1\" and n[i+1] == \"1\") or (n[i] == \"1\" and n[i+1] != \"1\"):\n",
    "            count+=1\n",
    "            \n",
    "        i+=1\n",
    "    return count \n",
    "\n",
    "count_lone_ones(1111)"
   ]
  },
  {
   "cell_type": "code",
   "execution_count": 70,
   "id": "b0cd0e9a",
   "metadata": {},
   "outputs": [
    {
     "data": {
      "text/plain": [
       "array([[ 1,  4,  7, 10, 13, 16],\n",
       "       [ 2,  5,  8, 11, 14, 17],\n",
       "       [ 3,  6,  9, 12, 15, 18]])"
      ]
     },
     "execution_count": 70,
     "metadata": {},
     "output_type": "execute_result"
    }
   ],
   "source": [
    "# 3. Write a method that accepts two integer parameters rows and cols. \n",
    "# The output is a 2d array of numbers displayed in column-major order,\n",
    "# meaning the numbers shown increase sequentially down each column and \n",
    "# wrap to the top of the next column to the right once the bottom of the current column is reached.\n",
    "\n",
    "# Examples\n",
    "\n",
    "# printGrid(3, 6) ➞ [\n",
    "#   [1, 4, 7, 10, 13, 16],\n",
    "#   [2, 5, 8, 11, 14, 17],\n",
    "#   [3, 6, 9, 12, 15, 18]\n",
    "# ]\n",
    "\n",
    "# printGrid(5, 3) ➞ [\n",
    "#   [1, 6, 11],\n",
    "#   [2, 7, 12],\n",
    "#   [3, 8, 13],\n",
    "#   [4, 9, 14],\n",
    "#   [5, 10, 15]\n",
    "# ]\n",
    "\n",
    "# printGrid(4, 1) ➞ [\n",
    "#   [1],\n",
    "#   [2],\n",
    "#   [3],\n",
    "#   [4]\n",
    "# ]\n",
    "\n",
    "import numpy as np\n",
    "\n",
    "def printGrid(row,col):\n",
    "    result = []\n",
    "    i = 0\n",
    "    for r in range(1, row+1):\n",
    "        temp = []      \n",
    "        \n",
    "        for c in range(1, col+1):\n",
    "            if c !=1:\n",
    "                c = temp[-1] + row \n",
    "            else:\n",
    "                c = c + i\n",
    "            temp.append(c)\n",
    "        else:\n",
    "            i += 1\n",
    "            result.append(temp)\n",
    "        \n",
    "    return np.array(result)\n",
    "\n",
    "printGrid(3, 6)"
   ]
  },
  {
   "cell_type": "code",
   "execution_count": 77,
   "id": "d5b2fa7a",
   "metadata": {},
   "outputs": [
    {
     "data": {
      "text/plain": [
       "2"
      ]
     },
     "execution_count": 77,
     "metadata": {},
     "output_type": "execute_result"
    }
   ],
   "source": [
    "# 4. Given a list of integers, return the smallest positive integer not present in the list.\n",
    "# Here is a representative example. Consider the list:\n",
    "# [-2, 6, 4, 5, 7, -1, 7, 1, 3, 6, 6, -2, 9, 10, 2, 2]\n",
    "# After reordering, the list becomes:\n",
    "# [-2, -2, -1, 1, 2, 2, 3, 4, 5, 6, 6, 6, 7, 7, 9, 10]\n",
    "# from which we see that the smallest missing positive integer is 8.\n",
    "\n",
    "# min_miss_pos([-2, 6, 4, 5, 7, -1, 1, 3, 6, -2, 9, 10, 2, 2]) ➞ 8\n",
    "# After sorting, list becomes [-2, -2, -1, 1, 2, 2, 3, 4, 5, 6, 6, 7, 9, 10]\n",
    "# So the smallest missing positive integer is 8\n",
    "# min_miss_pos([5, 9, -2, 0, 1, 3, 9, 3, 8, 9]) ➞ 2\n",
    "# After sorting, list becomes [-2, 0, 1, 3, 3, 5, 8, 9, 9, 9]\n",
    "# So the smallest missing positive integer is 2\n",
    "# min_miss_pos([0, 4, 4, -1, 9, 4, 5, 2, 10, 7, 6, 3, 10, 9]) ➞ 1\n",
    "# After sorting, list becomes [-1, 0, 2, 3, 4, 4, 4, 5, 6, 7, 9, 9, 10, 10]\n",
    "# So the smallest missing positive integer is 1\n",
    "\n",
    "def min_miss_pos(lst):\n",
    "    pos_sorted_num = [i for i in sorted(set(lst)) if i > 0]\n",
    "    for i, n in enumerate(pos_sorted_num):\n",
    "        if pos_sorted_num[i+1] != pos_sorted_num[i] + 1:\n",
    "            return pos_sorted_num[i] + 1\n",
    "    \n",
    "\n",
    "min_miss_pos([5, 9, -2, 0, 1, 3, 9, 3, 8, 9])"
   ]
  },
  {
   "cell_type": "code",
   "execution_count": 79,
   "id": "bda6648f",
   "metadata": {},
   "outputs": [
    {
     "data": {
      "text/plain": [
       "['Batman', 'Spider-Man']"
      ]
     },
     "execution_count": 79,
     "metadata": {},
     "output_type": "execute_result"
    }
   ],
   "source": [
    "# 5. Google is launching a network of autonomous pizza delivery drones and wants you to \n",
    "# create a flexible rewards system (Pizza Points™) that can be tweaked in the future. The rules are simple: \n",
    "# if a customer has made at least N orders of at least Y price, they get a FREE pizza!\n",
    "\n",
    "# Create a function that takes a dictionary of customers, a minimum number of orders and a minimum order price. \n",
    "# Return a list of customers that are eligible for a free pizza.\n",
    "\n",
    "# Examples\n",
    "\n",
    "customers = {\n",
    "  \"Batman\": [22, 30, 11, 17, 15, 52, 27, 12],\n",
    "  \"Spider-Man\": [5, 17, 30, 33, 40, 22, 26, 10, 11, 45]\n",
    "}\n",
    "\n",
    "#   pizza_points(customers, 5, 20) ➞ [\"Spider-Man\"]\n",
    "\n",
    "#   pizza_points(customers, 3, 10) ➞ [\"Batman\", \"Spider-Man\"]\n",
    "\n",
    "#   pizza_points(customers, 5, 100) ➞ []\n",
    "\n",
    "def pizza_points(customers, min_order, min_price):\n",
    "    cust_lst = []\n",
    "    for key, values in customers.items():\n",
    "        temp = len([i for i in values if i >= min_price])\n",
    "        if temp >= min_order:\n",
    "            cust_lst.append(key)\n",
    "    return cust_lst\n",
    "\n",
    "pizza_points(customers, 3, 10)"
   ]
  }
 ],
 "metadata": {
  "kernelspec": {
   "display_name": "Python 3",
   "language": "python",
   "name": "python3"
  },
  "language_info": {
   "codemirror_mode": {
    "name": "ipython",
    "version": 3
   },
   "file_extension": ".py",
   "mimetype": "text/x-python",
   "name": "python",
   "nbconvert_exporter": "python",
   "pygments_lexer": "ipython3",
   "version": "3.8.8"
  }
 },
 "nbformat": 4,
 "nbformat_minor": 5
}
