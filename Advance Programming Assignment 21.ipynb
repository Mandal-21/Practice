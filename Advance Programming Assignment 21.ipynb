{
 "cells": [
  {
   "cell_type": "code",
   "execution_count": 13,
   "id": "a4a5c8eb",
   "metadata": {},
   "outputs": [
    {
     "data": {
      "text/plain": [
       "1"
      ]
     },
     "execution_count": 13,
     "metadata": {},
     "output_type": "execute_result"
    }
   ],
   "source": [
    "# 1. Given a sentence, return the number of words which have the same first and last letter.\n",
    "\n",
    "# Examples\n",
    "\n",
    "# count_same_ends(\"Pop! goes the balloon\") ➞ 1\n",
    "\n",
    "# count_same_ends(\"And the crowd goes wild!\") ➞ 0\n",
    "\n",
    "# count_same_ends(\"No I am not in a gang.\") ➞ 1\n",
    "\n",
    "import string\n",
    "def count_same_ends(sent):\n",
    "    exclude = set(string.punctuation)\n",
    "    s = ''.join(ch for ch in sent if ch not in exclude)\n",
    "    return len([i  for i in s.split() if i[0] == i[-1] if len(i) > 1])\n",
    "\n",
    "count_same_ends(\"No I am not in a gang.\")"
   ]
  },
  {
   "cell_type": "code",
   "execution_count": 21,
   "id": "22f7d4fa",
   "metadata": {},
   "outputs": [
    {
     "data": {
      "text/plain": [
       "'Xsirhgnzh rh gsv 25gs lu Wvxvnyvi'"
      ]
     },
     "execution_count": 21,
     "metadata": {},
     "output_type": "execute_result"
    }
   ],
   "source": [
    "# 2. The Atbash cipher is an encryption method in which each letter of a word is replaced \n",
    "# with its \"mirror\" letter in the alphabet: A <=> Z; B <=> Y; C <=> X; etc.\n",
    "\n",
    "# Create a function that takes a string and applies the Atbash cipher to it.\n",
    "\n",
    "# Examples\n",
    "\n",
    "# atbash(\"apple\") ➞ \"zkkov\"\n",
    "\n",
    "# atbash(\"Hello world!\") ➞ \"Svool dliow!\"\n",
    "\n",
    "# atbash(\"Christmas is the 25th of December\") ➞ \"Xsirhgnzh rh gsv 25gs lu Wvxvnyvi\"\n",
    "\n",
    "import string\n",
    "def atbash(sent):\n",
    "    lower_case_alpha = dict(zip(string.ascii_lowercase, string.ascii_lowercase[::-1]))\n",
    "    upper_case_alpha = dict(zip(string.ascii_uppercase, string.ascii_uppercase[::-1]))\n",
    "    lst_of_e = list(sent)\n",
    "    for i, e in enumerate(lst_of_e):\n",
    "        if e.isupper():\n",
    "            lst_of_e[i] = upper_case_alpha.get(e)\n",
    "        elif e.islower():\n",
    "            lst_of_e[i] = lower_case_alpha.get(e)\n",
    "    return \"\".join(lst_of_e)\n",
    "\n",
    "atbash(\"Christmas is the 25th of December\")"
   ]
  },
  {
   "cell_type": "code",
   "execution_count": 23,
   "id": "2992fe48",
   "metadata": {},
   "outputs": [
    {
     "data": {
      "text/plain": [
       "'Italian'"
      ]
     },
     "execution_count": 23,
     "metadata": {},
     "output_type": "execute_result"
    }
   ],
   "source": [
    "# 3. Create a class Employee that will take a full name as argument, as well as a set of \n",
    "# none, one or more keywords. Each instance should have a name and a lastname attributes plus one more \n",
    "# attribute for each of the keywords, if any.\n",
    "\n",
    "# Examples\n",
    "\n",
    "# john = Employee(\"John Doe\")\n",
    "# mary = Employee(\"Mary Major\", salary=120000)\n",
    "# richard = Employee(\"Richard Roe\", salary=110000, height=178)\n",
    "# giancarlo = Employee(\"Giancarlo Rossi\", salary=115000, height=182, nationality=\"Italian\")\n",
    "\n",
    "# john.name ➞ \"John\"\n",
    "# mary.lastname ➞ \"Major\"\n",
    "# richard.height ➞ 178\n",
    "# giancarlo.nationality ➞ \"Italian\"\n",
    "\n",
    "# class Employee:\n",
    "#     def __init__(self, full_name, *args):\n",
    "#         self.name = full_name.split()[0]\n",
    "#         self.lastname = full_name.split()[1]\n",
    "#         self.args = *args\n",
    "        \n",
    "#     def args(args)\n",
    "    \n",
    "class Employee:\n",
    "    def __init__(self, full_name, **kwargs):\n",
    "        self.name = full_name.split()[0]\n",
    "        self.lastname = full_name.split()[1]\n",
    "        for k, v in kwargs.items():\n",
    "            setattr(self, k, v)\n",
    "\n",
    "    def __str__(self):\n",
    "        attrs = [\"%s=%s\" % (k, v) for (k, v) in self.__dict__.items()]\n",
    "        classname = self.__class__.__name__\n",
    "        return \"%s: %s\" % (classname, \" \".join(attrs))\n",
    "    \n",
    "giancarlo = Employee(\"Giancarlo Rossi\", salary=115000, height=182, nationality=\"Italian\")\n",
    "giancarlo.nationality"
   ]
  },
  {
   "cell_type": "code",
   "execution_count": 31,
   "id": "f4235be7",
   "metadata": {},
   "outputs": [
    {
     "data": {
      "text/plain": [
       "True"
      ]
     },
     "execution_count": 31,
     "metadata": {},
     "output_type": "execute_result"
    }
   ],
   "source": [
    "# 4. Create a function that determines whether each seat can \"see\" the front-stage. \n",
    "# A number can \"see\" the front-stage if it is strictly greater than the number before it.\n",
    "\n",
    "# Everyone can see the front-stage in the example below:\n",
    "\n",
    "# # FRONT STAGE\n",
    "# [[1, 2, 3, 2, 1, 1],\n",
    "# [2, 4, 4, 3, 2, 2],\n",
    "# [5, 5, 5, 5, 4, 4],\n",
    "# [6, 6, 7, 6, 5, 5]]\n",
    "\n",
    "# # Starting from the left, the 6 > 5 > 2 > 1, so all numbers can see.\n",
    "# # 6 > 5 > 4 > 2 - so all numbers can see, etc.\n",
    "\n",
    "# Not everyone can see the front-stage in the example below:\n",
    "\n",
    "# # FRONT STAGE\n",
    "# [[1, 2, 3, 2, 1, 1], \n",
    "# [2, 4, 4, 3, 2, 2], \n",
    "# [5, 5, 5, 10, 4, 4], \n",
    "# [6, 6, 7, 6, 5, 5]]\n",
    "\n",
    "# # The 10 is directly in front of the 6 and blocking its view.\n",
    "\n",
    "# The function should return True if every number can see the front-stage, and False \n",
    "# if even a single number cannot.\n",
    "\n",
    "# Examples\n",
    "\n",
    "# can_see_stage([\n",
    "#   [1, 2, 3],\n",
    "#   [4, 5, 6],\n",
    "#   [7, 8, 9]\n",
    "# ]) ➞ True\n",
    "\n",
    "# can_see_stage([\n",
    "#   [0, 0, 0],\n",
    "#   [1, 1, 1],\n",
    "#   [2, 2, 2]\n",
    "# ]) ➞ True\n",
    "\n",
    "# can_see_stage([\n",
    "#   [2, 0, 0], \n",
    "#   [1, 1, 1], \n",
    "#   [2, 2, 2]\n",
    "# ]) ➞ False\n",
    "\n",
    "# can_see_stage([\n",
    "#   [1, 0, 0],\n",
    "#   [1, 1, 1],\n",
    "#   [2, 2, 2]\n",
    "# ]) ➞ False\n",
    "\n",
    "# # Number must be strictly smaller than \n",
    "# # the number directly behind it.\n",
    "\n",
    "import numpy as np\n",
    "def can_see_stage(arr):\n",
    "    arr = np.array(arr).T\n",
    "    for i in range(arr.shape[0]):\n",
    "        if all(arr[i][j] < arr[i][j + 1] for j in range(len(arr[i])-1)):\n",
    "            pass\n",
    "        else:\n",
    "            return False\n",
    "    return True\n",
    "\n",
    "can_see_stage([\n",
    "  [0, 0, 0],\n",
    "  [1, 1, 1],\n",
    "  [2, 2, 2]\n",
    "])"
   ]
  },
  {
   "cell_type": "code",
   "execution_count": 110,
   "id": "34d517fb",
   "metadata": {},
   "outputs": [
    {
     "data": {
      "text/plain": [
       "1"
      ]
     },
     "execution_count": 110,
     "metadata": {},
     "output_type": "execute_result"
    }
   ],
   "source": [
    "# 5. Create a Pizza class with the attributes order_number and ingredients\n",
    "# (which is given as a list). Only the ingredients will be given as input.\n",
    "# You should also make it so that its possible to choose a ready made pizza\n",
    "# flavour rather than typing out the ingredients manually! As well as creating\n",
    "# this Pizza class, hard-code the following pizza flavours.\n",
    "\n",
    "# Name\t                    Ingredients\n",
    "# hawaiian\t          ham, pineapple\n",
    "# meat_festival\tbeef, meatball, bacon\n",
    "# garden_feast\tspinach, olives, mushroom\n",
    "\n",
    "# Examples\n",
    "\n",
    "# p1 = Pizza([\"bacon\", \"parmesan\", \"ham\"])    # order 1\n",
    "# p2 = Pizza.garden_feast()                  # order 2\n",
    "\n",
    "# p1.ingredients ➞ [\"bacon\", \"parmesan\", \"ham\"]\n",
    "\n",
    "# p2.ingredients ➞ [\"spinach\", \"olives\", \"mushroom\"]\n",
    "\n",
    "# p1.order_number ➞ 1\n",
    "\n",
    "# p2.order_number ➞ 2\n",
    "\n",
    "class Pizza(object):\n",
    "    \n",
    "    order_number = 1\n",
    "    \n",
    "    def __init__(self, *args):\n",
    "        self.ingredients = args\n",
    "        self.order_number = 1\n",
    "        \n",
    "    def hawaiian():\n",
    "        self.ingredients = [\"ham\", \"pipeapple\"]\n",
    "        self.order_number += 1\n",
    "    \n",
    "    def meat_festival():\n",
    "        self.ingredients = [\"beef\", \"meatball\", \"bacon\"]\n",
    "        self.order_number += 1\n",
    "        \n",
    "    def garden_feast():\n",
    "        global order_number\n",
    "        ingredient = [\"spinach\", \"olives\", \"mushroom\"]\n",
    "        order_number = \"1\"\n",
    "        setattr(Pizza, order_number, eval(\"2\"))\n",
    "        return ingredient\n",
    "        \n",
    "    def __str__(self, ingredient):\n",
    "        attrs = [\"%s=%s\" % (k, v) for (k, v) in self.__dict__.items()]\n",
    "        classname = self.__class__.__name__\n",
    "        return \"%s: %s\" % (classname, \" \".join(attrs))\n",
    "\n",
    "p1 = Pizza([\"bacon\", \"parmesan\", \"ham\"])\n",
    "p2 = Pizza.garden_feast()\n",
    "p1.order_number"
   ]
  }
 ],
 "metadata": {
  "kernelspec": {
   "display_name": "Python 3",
   "language": "python",
   "name": "python3"
  },
  "language_info": {
   "codemirror_mode": {
    "name": "ipython",
    "version": 3
   },
   "file_extension": ".py",
   "mimetype": "text/x-python",
   "name": "python",
   "nbconvert_exporter": "python",
   "pygments_lexer": "ipython3",
   "version": "3.8.8"
  }
 },
 "nbformat": 4,
 "nbformat_minor": 5
}
