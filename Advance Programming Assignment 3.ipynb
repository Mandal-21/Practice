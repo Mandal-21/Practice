{
 "cells": [
  {
   "cell_type": "code",
   "execution_count": 8,
   "metadata": {},
   "outputs": [
    {
     "data": {
      "text/plain": [
       "17"
      ]
     },
     "execution_count": 8,
     "metadata": {},
     "output_type": "execute_result"
    }
   ],
   "source": [
    "# 1. Create a function to perform basic arithmetic operations that includes \n",
    "# addition, subtraction, multiplication and division on a \n",
    "# string number (e.g. \"12 + 24\" or \"23 - 21\" or \"12 // 12\" or \"12 * 21\").\n",
    "\n",
    "# Here, we have 1 followed by a space, operator followed by another space and 2. \n",
    "# For the challenge, we are going to have only two numbers between 1 valid operator. \n",
    "# The return value should be a number.\n",
    "\n",
    "# eval() is not allowed. In case of division, whenever the second number equals \"0\" return -1.\n",
    "\n",
    "# For example:\n",
    "\n",
    "# \"15 // 0\"  ➞ -1\n",
    "\n",
    "def arithmetic_operation(operation:str)->int:\n",
    "    l_operation = operation.split()\n",
    "    \n",
    "    if l_operation[1] == \"+\":\n",
    "        return int(l_operation[0]) + int(l_operation[-1])\n",
    "    \n",
    "    if l_operation[1] == \"-\":\n",
    "        return int(l_operation[0]) - int(l_operation[-1])\n",
    "    \n",
    "    if l_operation[1] == \"*\":\n",
    "        return int(l_operation[0]) * int(l_operation[-1])\n",
    "    \n",
    "    if l_operation[1] == \"//\":\n",
    "        try:\n",
    "            return int(l_operation[0]) // int(l_operation[-1])\n",
    "        except:\n",
    "            return -1\n",
    "\n",
    "arithmetic_operation(\"15 + 2\")"
   ]
  },
  {
   "cell_type": "code",
   "execution_count": 15,
   "metadata": {},
   "outputs": [
    {
     "data": {
      "text/plain": [
       "47.08"
      ]
     },
     "execution_count": 15,
     "metadata": {},
     "output_type": "execute_result"
    }
   ],
   "source": [
    "# 2. Write a function that takes the coordinates of three points in the form of a\n",
    "# 2d array and returns the perimeter of the triangle. The given points are the\n",
    "# vertices of a triangle on a two-dimensional plane.\n",
    "# Examples\n",
    "# perimeter( [ [15, 7], [5, 22], [11, 1] ] ) ➞ 47.08\n",
    "# perimeter( [ [0, 0], [0, 1], [1, 0] ] ) ➞ 3.42\n",
    "# perimeter( [ [-10, -10], [10, 10 ], [-10, 10] ] ) ➞ 68.28\n",
    "import math\n",
    "def perimeter(coordinates:list)->float:\n",
    "    def distance(two_cord:list)->float:\n",
    "        return math.sqrt((two_cord[0][0] - two_cord[1][0])**2 +(two_cord[0][1] - two_cord[1][1])**2)\n",
    "    \n",
    "    sum_ = 0\n",
    "    for i in range(3):\n",
    "        try:\n",
    "            d = distance([coordinates[i],coordinates[i+1]])\n",
    "            sum_ += d\n",
    "        except:\n",
    "            d = distance([coordinates[0],coordinates[-1]])\n",
    "            sum_ += d\n",
    "    return round(sum_, 2)\n",
    "\n",
    "perimeter( [ [15, 7], [5, 22], [11, 1] ] )"
   ]
  },
  {
   "cell_type": "code",
   "execution_count": 21,
   "metadata": {},
   "outputs": [
    {
     "data": {
      "text/plain": [
       "4"
      ]
     },
     "execution_count": 21,
     "metadata": {},
     "output_type": "execute_result"
    }
   ],
   "source": [
    "# 3. A city skyline can be represented as a 2-D list with 1s representing buildings. \n",
    "# In the example below, the height of the tallest building is 4 (second-most right column).\n",
    "\n",
    "# [[0, 0, 0, 0, 0, 0],\n",
    "# [0, 0, 0, 0, 1, 0],\n",
    "# [0, 0, 1, 0, 1, 0],\n",
    "# [0, 1, 1, 1, 1, 0],\n",
    "# [1, 1, 1, 1, 1, 1]]\n",
    "\n",
    "# Create a function that takes a skyline (2-D list of 0's and 1's) and \n",
    "# returns the height of the tallest skyscraper.\n",
    "\n",
    "def tallest_skyscraper(arr: list)->int:\n",
    "    shape = len(arr)\n",
    "    for i, lst in enumerate(arr):\n",
    "        if 1 in lst:\n",
    "            return shape - i \n",
    "        \n",
    "    return 0\n",
    "\n",
    "tallest_skyscraper([\n",
    "  [0, 1, 0, 0],\n",
    "  [0, 1, 0, 0],\n",
    "  [0, 1, 1, 0],\n",
    "  [1, 1, 1, 1]\n",
    "]) \n",
    "\n"
   ]
  },
  {
   "cell_type": "code",
   "execution_count": 39,
   "metadata": {},
   "outputs": [
    {
     "data": {
      "text/plain": [
       "8200"
      ]
     },
     "execution_count": 39,
     "metadata": {},
     "output_type": "execute_result"
    }
   ],
   "source": [
    "# 4. A financial institution provides professional services to banks and claims charges \n",
    "# from the customers based on the number of man-days provided. \n",
    "# Internally, it has set a scheme to motivate and reward staff to meet and \n",
    "# exceed targeted billable utilization and revenues by paying a bonus \n",
    "# for each day claimed from customers in excess of a threshold target.\n",
    "\n",
    "# This quarterly scheme is calculated with a threshold target of 32 days per quarter, \n",
    "# and the incentive payment for each billable day in excess of such threshold target is shown as follows:\n",
    "\n",
    "# Days\t                             Bonus\n",
    "# 0 to 32 days\t                   Zero\n",
    "# 33 to 40 days\t         SGD$325 per billable day\n",
    "# 41 to 48 days\t         SGD$550 per billable day\n",
    "# Greater than 48 days      SGD$600 per billable day\n",
    "\n",
    "# Please note that incentive payment is calculated progressively. \n",
    "# As an example, if an employee reached total billable days of 45 in a quarter, \n",
    "# his/her incentive payment is computed as follows:\n",
    "\n",
    "# 32*0 + 8*325 + 5*550 = 5350\n",
    "\n",
    "# Write a function to read the billable days of an employee and \n",
    "# return the bonus he/she has obtained in that quarter.\n",
    "\n",
    "def bonus(num:int)->int:\n",
    "    if num >= 32:\n",
    "        if num <= 40:\n",
    "            total = (num - 32)*325\n",
    "            \n",
    "        if num <= 48:\n",
    "            total = (8)*325 + (num - 40)*550\n",
    "            \n",
    "        if num > 48:\n",
    "            total = (8)*325 + (8)*550 + (num - 48)*600\n",
    "            \n",
    "        return total\n",
    "    return 0\n",
    "\n",
    "bonus(50)"
   ]
  },
  {
   "cell_type": "code",
   "execution_count": 54,
   "metadata": {},
   "outputs": [
    {
     "data": {
      "text/plain": [
       "True"
      ]
     },
     "execution_count": 54,
     "metadata": {},
     "output_type": "execute_result"
    }
   ],
   "source": [
    "# 5. A number is said to be Disarium if the sum of its digits raised to their \n",
    "# respective positions is the number itself.\n",
    "\n",
    "# Create a function that determines whether a number is a Disarium or not.\n",
    "\n",
    "# Examples\n",
    "\n",
    "# is_disarium(75) ➞ False\n",
    "# # 7^1 + 5^2 = 7 + 25 = 32\n",
    "\n",
    "# is_disarium(135) ➞ True\n",
    "# # 1^1 + 3^2 + 5^3 = 1 + 9 + 125 = 135\n",
    "\n",
    "# is_disarium(544) ➞ False\n",
    "\n",
    "# is_disarium(518) ➞ True\n",
    "\n",
    "# is_disarium(466) ➞ False\n",
    "\n",
    "# is_disarium(8) ➞ True\n",
    "\n",
    "def is_disarium(num:int)->int:\n",
    "    sum_ = 0\n",
    "\n",
    "    for i, n in enumerate(str(num)):\n",
    "        sum_ += (int(n)**(i+1))\n",
    "    \n",
    "    if sum_ == num:\n",
    "        return True\n",
    "    else:\n",
    "        return False\n",
    "        \n",
    "is_disarium(8)"
   ]
  }
 ],
 "metadata": {
  "kernelspec": {
   "display_name": "Python 3",
   "language": "python",
   "name": "python3"
  },
  "language_info": {
   "codemirror_mode": {
    "name": "ipython",
    "version": 3
   },
   "file_extension": ".py",
   "mimetype": "text/x-python",
   "name": "python",
   "nbconvert_exporter": "python",
   "pygments_lexer": "ipython3",
   "version": "3.8.3"
  }
 },
 "nbformat": 4,
 "nbformat_minor": 2
}
