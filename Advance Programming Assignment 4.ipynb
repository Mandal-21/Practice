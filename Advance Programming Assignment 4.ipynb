{
 "cells": [
  {
   "cell_type": "code",
   "execution_count": 9,
   "metadata": {},
   "outputs": [
    {
     "data": {
      "text/plain": [
       "6765"
      ]
     },
     "execution_count": 9,
     "metadata": {},
     "output_type": "execute_result"
    }
   ],
   "source": [
    "# 1. In mathematics, the Fibonacci numbers, commonly denoted Fn, form a\n",
    "# sequence, called the Fibonacci sequence, such that each number is the sum\n",
    "# of the two preceding ones, starting from 0 and 1:\n",
    "\n",
    "# The beginning of the sequence is this:\n",
    "# 0, 1, 1, 2, 3, 5, 8, 13, 21, 34, 55, 89, 144, ...\n",
    "# The function fastFib(num) returns the fibonacci number Fn, of the given num\n",
    "# as an argument.\n",
    "\n",
    "def fib_fast(num:int)->int:\n",
    "    a = 0\n",
    "    b = 1\n",
    "    i = 0\n",
    "    sum_ = 0\n",
    "    while i < num:\n",
    "        a = b\n",
    "        b = sum_\n",
    "        sum_ = a + b\n",
    "        i = i + 1\n",
    "    return sum_\n",
    "\n",
    "fib_fast(20)"
   ]
  },
  {
   "cell_type": "code",
   "execution_count": 19,
   "metadata": {},
   "outputs": [
    {
     "data": {
      "text/plain": [
       "'4d 61 72 74 79 20 50 6f 70 70 69 6e 73 6f 6e'"
      ]
     },
     "execution_count": 19,
     "metadata": {},
     "output_type": "execute_result"
    }
   ],
   "source": [
    "# 2. Create a function that takes a strings characters as ASCII and \n",
    "# returns each characters hexadecimal value as a string.\n",
    "\n",
    "# Examples\n",
    "\n",
    "# convert_to_hex(\"hello world\") ➞ \"68 65 6c 6c 6f 20 77 6f 72 6c 64\"\n",
    "\n",
    "# convert_to_hex(\"Big Boi\") ➞ \"42 69 67 20 42 6f 69\"\n",
    "\n",
    "# convert_to_hex(\"Marty Poppinson\") ➞ \"4d 61 72 74 79 20 50 6f 70 70 69 6e 73 6f 6e\"\n",
    "\n",
    "def convert_to_hex(words:str)->str:\n",
    "    l_hex = []\n",
    "    for char in words:\n",
    "        l_hex.append(hex(ord(char))[2:])\n",
    "    return \" \".join(l_hex)\n",
    "\n",
    "convert_to_hex(\"Marty Poppinson\")"
   ]
  },
  {
   "cell_type": "code",
   "execution_count": 23,
   "metadata": {},
   "outputs": [
    {
     "data": {
      "text/plain": [
       "'UPPERCASE'"
      ]
     },
     "execution_count": 23,
     "metadata": {},
     "output_type": "execute_result"
    }
   ],
   "source": [
    "# 3. Someone has attempted to censor my strings by replacing every vowel with \n",
    "# a *, l*k* th*s. Luckily, I've been able to find the vowels that were removed.\n",
    "\n",
    "# Given a censored string and a string of the censored vowels, return the original uncensored string.\n",
    "\n",
    "# Example\n",
    "\n",
    "# uncensor(\"Wh*r* d*d my v*w*ls g*?\", \"eeioeo\") ➞ \"Where did my vowels go?\"\n",
    "\n",
    "# uncensor(\"abcd\", \"\") ➞ \"abcd\"\n",
    "\n",
    "# uncensor(\"*PP*RC*S*\", \"UEAE\") ➞ \"UPPERCASE\"\n",
    "\n",
    "\n",
    "def uncensor(words:str, vowel:str)->str:\n",
    "    l_char = []\n",
    "    i = 0\n",
    "    for char in words:\n",
    "        if char == \"*\":\n",
    "            l_char.append(vowel[i])\n",
    "            i = i + 1\n",
    "        else:\n",
    "            l_char.append(char)\n",
    "    return \"\".join(l_char)\n",
    "\n",
    "uncensor(\"*PP*RC*S*\", \"UEAE\")"
   ]
  },
  {
   "cell_type": "code",
   "execution_count": 26,
   "metadata": {},
   "outputs": [
    {
     "data": {
      "text/plain": [
       "'dns.google'"
      ]
     },
     "execution_count": 26,
     "metadata": {},
     "output_type": "execute_result"
    }
   ],
   "source": [
    "# 4. Write a function that takes an IP address and returns the domain name using PTR DNS records.\n",
    "\n",
    "# Example\n",
    "\n",
    "# get_domain(\"8.8.8.8\") ➞ \"dns.google\"\n",
    "\n",
    "# get_domain(\"8.8.4.4\") ➞ \"dns.google\"\n",
    "\n",
    "import socket\n",
    "def get_domain(ip:str)->str:\n",
    "    return socket.gethostbyaddr(ip)[0]\n",
    "\n",
    "get_domain(\"8.8.4.4\")"
   ]
  },
  {
   "cell_type": "code",
   "execution_count": 36,
   "metadata": {},
   "outputs": [
    {
     "data": {
      "text/plain": [
       "34560"
      ]
     },
     "execution_count": 36,
     "metadata": {},
     "output_type": "execute_result"
    }
   ],
   "source": [
    "# 5. Create a function that takes an integer n and returns the factorial of factorials. \n",
    "# See below examples for a better understanding:\n",
    "\n",
    "# Examples\n",
    "\n",
    "# fact_of_fact(4) ➞ 288\n",
    "# # 4! * 3! * 2! * 1! = 288\n",
    "\n",
    "# fact_of_fact(5) ➞ 34560\n",
    "\n",
    "# fact_of_fact(6) ➞ 24883200\n",
    "\n",
    "\n",
    "def fact_of_fact(num:int)->int:\n",
    "    def fact(n:int)->int:\n",
    "        if n == 1:\n",
    "            return n\n",
    "        return n*fact(n-1)\n",
    "    \n",
    "    mul = 1\n",
    "    for i in range(1, num+1):\n",
    "        mul = mul * fact(i)\n",
    "        \n",
    "    return mul\n",
    "\n",
    "fact_of_fact(5)"
   ]
  }
 ],
 "metadata": {
  "kernelspec": {
   "display_name": "Python 3",
   "language": "python",
   "name": "python3"
  },
  "language_info": {
   "codemirror_mode": {
    "name": "ipython",
    "version": 3
   },
   "file_extension": ".py",
   "mimetype": "text/x-python",
   "name": "python",
   "nbconvert_exporter": "python",
   "pygments_lexer": "ipython3",
   "version": "3.8.3"
  }
 },
 "nbformat": 4,
 "nbformat_minor": 2
}
