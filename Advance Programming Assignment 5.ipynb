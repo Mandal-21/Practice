{
 "cells": [
  {
   "cell_type": "code",
   "execution_count": 5,
   "metadata": {},
   "outputs": [
    {
     "data": {
      "text/plain": [
       "2"
      ]
     },
     "execution_count": 5,
     "metadata": {},
     "output_type": "execute_result"
    }
   ],
   "source": [
    "# 1. Create a function that takes a number n (integer greater than zero) as an\n",
    "# argument, and returns 2 if n is odd and 8 if n is even.\n",
    "# You can only use the following arithmetic operators: addition of numbers +,\n",
    "# subtraction of numbers -, multiplication of number *, division of number /, and\n",
    "# exponentiation **.\n",
    "# You are not allowed to use any other methods in this challenge (i.e. no if\n",
    "# statements, comparison operators, etc).\n",
    "# Examples\n",
    "# f(1) ➞ 2\n",
    "# f(2) ➞ 8\n",
    "# f(3) ➞ 2\n",
    "\n",
    "def f(num:int)->int:\n",
    "    Even_Odd = [8, 2]\n",
    "    return (Even_Odd[int(no) % 2])\n",
    "\n",
    "f(3)"
   ]
  },
  {
   "cell_type": "code",
   "execution_count": 31,
   "metadata": {},
   "outputs": [
    {
     "data": {
      "text/plain": [
       "'None'"
      ]
     },
     "execution_count": 31,
     "metadata": {},
     "output_type": "execute_result"
    }
   ],
   "source": [
    "# 2. Create a function that returns the majority vote in a list. \n",
    "# A majority vote is an element that occurs > N/2 times in a list (where N is the length of the list).\n",
    "\n",
    "# Examples\n",
    "# majority_vote([\"A\", \"A\", \"B\"]) ➞ \"A\"\n",
    "# majority_vote([\"A\", \"A\", \"A\", \"B\", \"C\", \"A\"]) ➞ \"A\"\n",
    "# majority_vote([\"A\", \"B\", \"B\", \"A\", \"C\", \"C\"]) ➞ None\n",
    "\n",
    "def majority_vote(votes:list)->list:\n",
    "    count_dict = dict()\n",
    "    for i in votes:\n",
    "        if i not in count_dict:\n",
    "            count_dict.update({i: 0})\n",
    "        count_dict[i] += 1\n",
    "    if len(set(count_dict.values())) > 1:\n",
    "        return max(count_dict, key=count_dict.get)\n",
    "    return \"None\"\n",
    "\n",
    "majority_vote([\"A\", \"B\", \"B\", \"A\", \"C\", \"C\"])"
   ]
  },
  {
   "cell_type": "code",
   "execution_count": 34,
   "metadata": {},
   "outputs": [
    {
     "data": {
      "text/plain": [
       "'The *** jumped **** the moon.'"
      ]
     },
     "execution_count": 34,
     "metadata": {},
     "output_type": "execute_result"
    }
   ],
   "source": [
    "# 3. Create a function that takes a string txt and censors any word from a given list lst. \n",
    "# The text removed must be replaced by the given character char.\n",
    "\n",
    "# Examples\n",
    "\n",
    "# censor_string(\"Today is a Wednesday!\", [\"Today\", \"a\"], \"-\") ➞ \"----- is - Wednesday!\"\n",
    "\n",
    "# censor_string(\"The cow jumped over the moon.\", [\"cow\", \"over\"], \"*\"), \"The *** jumped **** the moon.\")\n",
    "\n",
    "# censor_string(\"Why did the chicken cross the road?\", [\"Did\", \"chicken\", \"road\"], \"*\") ➞ \n",
    "# \"Why *** the ******* cross the ****?\"\n",
    "\n",
    "\n",
    "def censor_string(sentence:str, censor_list:list, replacement_char:str)->str:\n",
    "    word_list = []\n",
    "    for word in sentence.split():\n",
    "        if word in censor_list:\n",
    "            word_list.append(len(word)*replacement_char)\n",
    "        else:\n",
    "            word_list.append(word)\n",
    "    return \" \".join(word_list)\n",
    "\n",
    "censor_string(\"The cow jumped over the moon.\", [\"cow\", \"over\"], \"*\")"
   ]
  },
  {
   "cell_type": "code",
   "execution_count": 52,
   "metadata": {},
   "outputs": [
    {
     "data": {
      "text/plain": [
       "False"
      ]
     },
     "execution_count": 52,
     "metadata": {},
     "output_type": "execute_result"
    }
   ],
   "source": [
    "# 4. In mathematics a Polydivisible Number (or magic number) is a number in a given number base with \n",
    "# digits abcde... that has the following properties:\n",
    "\n",
    "# -  Its first digit a is not 0.\n",
    "# - The number formed by its first two digits ab is a multiple of 2.\n",
    "# - The number formed by its first three digits abc is a multiple of 3.\n",
    "# - The number formed by its first four digits abcd is a multiple of 4.\n",
    "\n",
    "# Create a function which takes an integer n and returns True \n",
    "# if the given number is a Polydivisible Number and False otherwise.\n",
    "\n",
    "# Examples\n",
    "\n",
    "# is_polydivisible(1232) ➞ True\n",
    "# # 1     / 1 = 1\n",
    "# # 12    / 2 = 6\n",
    "# # 123   / 3 = 41\n",
    "# # 1232  / 4 = 308\n",
    "\n",
    "# is_polydivisible(123220 ) ➞ False\n",
    "# # 1   / 1 = 1\n",
    "# # 12   / 2 = 6\n",
    "# # 123   / 3 = 41\n",
    "# # 1232   / 4 = 308\n",
    "# # 12322   / 5 = 2464.4         # Not a Whole Number\n",
    "# # 123220   /6 = 220536.333...  # Not a Whole Number\n",
    "\n",
    "def is_polydivisible(num:int)->bool:\n",
    "    str_num = str(num)\n",
    "    \n",
    "    for i in range(len(str_num)):\n",
    "        x = int(str_num[:i+1]) / (i+1)\n",
    "        if (x - int(x)) == 0:\n",
    "            pass\n",
    "        else:\n",
    "            return False\n",
    "    return True\n",
    "\n",
    "is_polydivisible(123220)"
   ]
  },
  {
   "cell_type": "code",
   "execution_count": 61,
   "metadata": {},
   "outputs": [
    {
     "data": {
      "text/plain": [
       "87"
      ]
     },
     "execution_count": 61,
     "metadata": {},
     "output_type": "execute_result"
    }
   ],
   "source": [
    "# 5. Create a function that takes a list of numbers and returns the sum of all prime numbers in the list.\n",
    "\n",
    "# Examples\n",
    "# sum_primes([1, 2, 3, 4, 5, 6, 7, 8, 9, 10]) ➞ 17\n",
    "# sum_primes([2, 3, 4, 11, 20, 50, 71]) ➞ 87\n",
    "# sum_primes([]) ➞ None\n",
    "\n",
    "def sum_primes(lst:list)->int:\n",
    "    sum_ = 0\n",
    "    for num in lst:\n",
    "        if num > 1:\n",
    "            for i in range(2, num):\n",
    "                if num%i == 0:\n",
    "                    break\n",
    "            else:\n",
    "                sum_ += num\n",
    "    if sum_ > 0: \n",
    "        return sum_\n",
    "    return \"None\"\n",
    "\n",
    "sum_primes([2, 3, 4, 11, 20, 50, 71])"
   ]
  }
 ],
 "metadata": {
  "kernelspec": {
   "display_name": "Python 3",
   "language": "python",
   "name": "python3"
  },
  "language_info": {
   "codemirror_mode": {
    "name": "ipython",
    "version": 3
   },
   "file_extension": ".py",
   "mimetype": "text/x-python",
   "name": "python",
   "nbconvert_exporter": "python",
   "pygments_lexer": "ipython3",
   "version": "3.8.3"
  }
 },
 "nbformat": 4,
 "nbformat_minor": 2
}
