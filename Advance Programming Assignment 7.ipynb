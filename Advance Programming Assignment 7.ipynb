{
 "cells": [
  {
   "cell_type": "code",
   "execution_count": 25,
   "metadata": {},
   "outputs": [
    {
     "data": {
      "text/plain": [
       "5"
      ]
     },
     "execution_count": 25,
     "metadata": {},
     "output_type": "execute_result"
    }
   ],
   "source": [
    "# 1. Write a function that counts how many concentric layers a rug.\n",
    "\n",
    "# Examples\n",
    "\n",
    "# count_layers([\n",
    "#   \"AAAA\",\n",
    "#   \"ABBA\",\n",
    "#   \"AAAA\"\n",
    "# ]) ➞ 2\n",
    "\n",
    "# count_layers([\n",
    "#   \"AAAAAAAAA\",\n",
    "#   \"ABBBBBBBA\",\n",
    "#   \"ABBAAABBA\",\n",
    "#   \"ABBBBBBBA\",\n",
    "#   \"AAAAAAAAA\"\n",
    "# ]) ➞ 3\n",
    "\n",
    "# count_layers([\n",
    "#   \"AAAAAAAAAAA\",\n",
    "#   \"AABBBBBBBAA\",\n",
    "#   \"AABCCCCCBAA\",\n",
    "#   \"AABCAAACBAA\",\n",
    "#   \"AABCADACBAA\",\n",
    "#   \"AABCAAACBAA\",\n",
    "#   \"AABCCCCCBAA\",\n",
    "#   \"AABBBBBBBAA\",\n",
    "#   \"AAAAAAAAAAA\"\n",
    "# ]) ➞ 5\n",
    "\n",
    "import math\n",
    "def count_layers(lst:list)->int:\n",
    "    return math.ceil(len(lst)/2)\n",
    "\n",
    "count_layers([\n",
    "  \"AAAAAAAAAAA\",\n",
    "  \"AABBBBBBBAA\",\n",
    "  \"AABCCCCCBAA\",\n",
    "  \"AABCAAACBAA\",\n",
    "  \"AABCADACBAA\",\n",
    "  \"AABCAAACBAA\",\n",
    "  \"AABCCCCCBAA\",\n",
    "  \"AABBBBBBBAA\",\n",
    "  \"AAAAAAAAAAA\"\n",
    "])"
   ]
  },
  {
   "cell_type": "code",
   "execution_count": 7,
   "metadata": {},
   "outputs": [
    {
     "data": {
      "text/plain": [
       "9"
      ]
     },
     "execution_count": 7,
     "metadata": {},
     "output_type": "execute_result"
    }
   ],
   "source": [
    "# 2. There are many different styles of music and many albums exhibit multiple styles. \n",
    "# Create a function that takes a list of musical styles from albums and returns how many styles are unique.\n",
    "\n",
    "# Examples\n",
    "\n",
    "# unique_styles([\n",
    "#   \"Dub,Dancehall\",\n",
    "#   \"Industrial,Heavy Metal\",\n",
    "#   \"Techno,Dubstep\",\n",
    "#   \"Synth-pop,Euro-Disco\",\n",
    "#   \"Industrial,Techno,Minimal\"\n",
    "# ]) ➞ 9\n",
    "\n",
    "# unique_styles([\n",
    "#   \"Soul\",\n",
    "#   \"House,Folk\",\n",
    "#   \"Trance,Downtempo,Big Beat,House\",\n",
    "#   \"Deep House\",\n",
    "#   \"Soul\"\n",
    "# ]) ➞ 7\n",
    "\n",
    "def unique_styles(lst:list)->int:\n",
    "    l_s = []\n",
    "    for music in lst:\n",
    "        l_s.extend(music.split(\",\"))\n",
    "    return len(set(l_s))\n",
    "\n",
    "unique_styles([\n",
    "  \"Dub,Dancehall\",\n",
    "  \"Industrial,Heavy Metal\",\n",
    "  \"Techno,Dubstep\",\n",
    "  \"Synth-pop,Euro-Disco\",\n",
    "  \"Industrial,Techno,Minimal\"\n",
    "])"
   ]
  },
  {
   "cell_type": "code",
   "execution_count": 11,
   "metadata": {},
   "outputs": [
    {
     "data": {
      "text/plain": [
       "'No'"
      ]
     },
     "execution_count": 11,
     "metadata": {},
     "output_type": "execute_result"
    }
   ],
   "source": [
    "# 3. Create a function that finds a target number in a list of prime numbers. \n",
    "# Implement a binary search algorithm in your function. The target number will be from 2 through 97. \n",
    "# If the target is prime then return \"yes\" else return \"no\".\n",
    "\n",
    "# Examples\n",
    "\n",
    "# primes = [2, 3, 5, 7, 11, 13, 17, 19, 23, 29, 31, 37, 41, 43, 47, 53, 59, 61, 67, 71, 73, 79, 83, 89, 97]\n",
    "\n",
    "\n",
    "# is_prime(primes, 3) ➞ \"yes\"\n",
    "# is_prime(primes, 4) ➞ \"no\"\n",
    "# is_prime(primes, 67) ➞ \"yes\"\n",
    "# is_prime(primes, 36) ➞ \"no\"\n",
    "\n",
    "def is_prime(primes, num):\n",
    "    low = 0\n",
    "    high = len(primes)\n",
    "    mid = int((low+high)/2)\n",
    "    \n",
    "    while low <= high:\n",
    "        if num == primes[mid]:\n",
    "            return \"Yes\"\n",
    "        \n",
    "        if num < primes[mid]:\n",
    "            high = mid - 1\n",
    "            mid = int((low+high)/2)\n",
    "        \n",
    "        if num > primes[mid]:\n",
    "            low = mid + 1\n",
    "            mid = int((low+high)/2)\n",
    "        \n",
    "    return \"No\"\n",
    "\n",
    "primes = [2, 3, 5, 7, 11, 13, 17, 19, 23, 29, 31, 37, 41, 43, 47, 53, 59, 61, 67, 71, 73, 79, 83, 89, 97]\n",
    "is_prime(primes, 36)"
   ]
  },
  {
   "cell_type": "code",
   "execution_count": 15,
   "metadata": {},
   "outputs": [
    {
     "data": {
      "text/plain": [
       "3"
      ]
     },
     "execution_count": 15,
     "metadata": {},
     "output_type": "execute_result"
    }
   ],
   "source": [
    "# 4. Create a function that takes in n, a, b and returns the number of positive values raised to the nth power \n",
    "# that lie in the range [a, b], inclusive.\n",
    "\n",
    "# Examples\n",
    "\n",
    "# power_ranger(2, 49, 65) ➞ 2\n",
    "# # 2 squares (n^2) lie between 49 and 65, 49 (7^2) and 64 (8^2)\n",
    "\n",
    "# power_ranger(3, 1, 27) ➞ 3\n",
    "# # 3 cubes (n^3) lie between 1 and 27, 1 (1^3), 8 (2^3) and 27 (3^3)\n",
    "\n",
    "# power_ranger(10, 1, 5) ➞ 1\n",
    "# # 1 value raised to the 10th power lies between 1 and 5, 1 (1^10)\n",
    "\n",
    "# power_ranger(5, 31, 33) ➞ 1\n",
    "\n",
    "# power_ranger(4, 250, 1300) ➞ 3\n",
    "\n",
    "def power_ranger(n, a, b):\n",
    "    values = 0\n",
    "    \n",
    "    for i in range(b):\n",
    "        temp = i**n\n",
    "        if (a <= temp <= b):\n",
    "            values += 1\n",
    "            \n",
    "    return values\n",
    "\n",
    "power_ranger(4, 250, 1300)"
   ]
  },
  {
   "cell_type": "code",
   "execution_count": 24,
   "metadata": {},
   "outputs": [
    {
     "data": {
      "text/plain": [
       "90981"
      ]
     },
     "execution_count": 24,
     "metadata": {},
     "output_type": "execute_result"
    }
   ],
   "source": [
    "# 5. Given a number, return the difference between the maximum and minimum numbers that can be formed \n",
    "# when the digits are rearranged.\n",
    "\n",
    "# Examples\n",
    "\n",
    "# rearranged_difference(972882) ➞ 760833\n",
    "# # 988722 - 227889 = 760833\n",
    "\n",
    "# rearranged_difference(3320707) ➞ 7709823\n",
    "# # 7733200 - 23377 = 7709823\n",
    "\n",
    "# rearranged_difference(90010) ➞ 90981\n",
    "# # 91000 - 19 = 90981\n",
    "\n",
    "def rearranged_difference(num:int)->int:\n",
    "    max_str = \"\".join([str(j) for j in sorted([int(i) for i in str(num)])[::-1]])\n",
    "    min_str = \"\".join([str(j) for j in sorted([int(i) for i in str(num) if i != \"0\"])])\n",
    "    \n",
    "    return int(max_str) - int(min_str)\n",
    "\n",
    "rearranged_difference(90010)"
   ]
  }
 ],
 "metadata": {
  "kernelspec": {
   "display_name": "Python 3",
   "language": "python",
   "name": "python3"
  },
  "language_info": {
   "codemirror_mode": {
    "name": "ipython",
    "version": 3
   },
   "file_extension": ".py",
   "mimetype": "text/x-python",
   "name": "python",
   "nbconvert_exporter": "python",
   "pygments_lexer": "ipython3",
   "version": "3.8.3"
  }
 },
 "nbformat": 4,
 "nbformat_minor": 2
}
