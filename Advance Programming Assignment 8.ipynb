{
 "cells": [
  {
   "cell_type": "code",
   "execution_count": 12,
   "metadata": {},
   "outputs": [
    {
     "data": {
      "text/plain": [
       "True"
      ]
     },
     "execution_count": 12,
     "metadata": {},
     "output_type": "execute_result"
    }
   ],
   "source": [
    "# 1. Given a sentence as txt, return True if any two adjacent words have this property: \n",
    "# One word ends with a vowel, while the word immediately after begins with a vowel (a e i o u).\n",
    "\n",
    "# Examples\n",
    "\n",
    "# vowel_links(\"a very large appliance\") ➞ True\n",
    "\n",
    "# vowel_links(\"go to edabit\") ➞ True\n",
    "\n",
    "# vowel_links(\"an open fire\") ➞ False\n",
    "\n",
    "# vowel_links(\"a sudden applause\") ➞ False\n",
    "\n",
    "def vowel_links(sentence:str)->bool:\n",
    "    vowel = [\"a\", \"e\", \"i\", \"o\", \"u\"]\n",
    "    words_list = sentence.split()\n",
    "    for i in range(len(words_list)-1):\n",
    "        if (words_list[i][-1] in vowel) & (words_list[i+1][0] in vowel):\n",
    "            return True\n",
    "    return False\n",
    "\n",
    "vowel_links(\"a very large appliance\")"
   ]
  },
  {
   "cell_type": "code",
   "execution_count": 53,
   "metadata": {},
   "outputs": [
    {
     "data": {
      "text/plain": [
       "False"
      ]
     },
     "execution_count": 53,
     "metadata": {},
     "output_type": "execute_result"
    }
   ],
   "source": [
    "# 2. You are given three inputs: a string, one letter, and a second letter.\n",
    "\n",
    "# Write a function that returns True if every instance of the first letter occurs before every instance \n",
    "# of the second letter.\n",
    "\n",
    "# Examples\n",
    "\n",
    "# first_before_second(\"a rabbit jumps joyfully\", \"a\", \"j\") ➞ True\n",
    "# # Every instance of \"a\" occurs before every instance of \"j\".\n",
    "\n",
    "# first_before_second(\"knaves knew about waterfalls\", \"k\", \"w\") ➞  True\n",
    "\n",
    "# first_before_second(\"happy birthday\", \"a\", \"y\") ➞ False\n",
    "# # The \"a\" in \"birthday\" occurs after the \"y\" in \"happy\".\n",
    "\n",
    "# first_before_second(\"precarious kangaroos\", \"k\", \"a\") ➞ False\n",
    "\n",
    "def first_before_second(sentence:str, first:str, second:str)->bool:\n",
    "    len_of_sen = len(sentence)\n",
    "    FLAG = False\n",
    "    for i, char in enumerate(sentence):\n",
    "        if sentence[i:].find(first) != -1:\n",
    "            if sentence[:].find(first,i) < sentence[:].find(second):\n",
    "                FLAG = True\n",
    "            else:\n",
    "                FLAG = False\n",
    "\n",
    "    return FLAG\n",
    "                    \n",
    "            \n",
    "first_before_second(\"precarious kangaroos\", \"k\", \"a\")"
   ]
  },
  {
   "cell_type": "code",
   "execution_count": 58,
   "metadata": {},
   "outputs": [
    {
     "data": {
      "text/plain": [
       "['A', 'B', 'T', 'A', 'I', 'Y']"
      ]
     },
     "execution_count": 58,
     "metadata": {},
     "output_type": "execute_result"
    }
   ],
   "source": [
    "# 3. Create a function that returns the characters from a list or string r on odd or even positions, \n",
    "# depending on the specifier s. The specifier will be \"odd\" for items on odd positions (1, 3, 5, ...) and \n",
    "# \"even\" for items on even positions (2, 4, 6, ...).\n",
    "\n",
    "# Examples\n",
    "\n",
    "# char_at_pos([2, 4, 6, 8, 10], \"even\") ➞ [4, 8]\n",
    "# # 4 & 8 occupy the 2nd & 4th positions\n",
    "\n",
    "# char_at_pos(\"EDABIT\", \"odd\") ➞ \"EAI\"\n",
    "# # \"E\", \"A\" and \"I\" occupy the 1st, 3rd and 5th positions\n",
    "\n",
    "# char_at_pos([\"A\", \"R\", \"B\", \"I\", \"T\", \"R\", \"A\", \"R\", \"I\", \"L\", \"Y\"], \"odd\") ➞ [\"A\", \"B\", \"T\", \"A\", \"I\", \"Y\"]\n",
    "\n",
    "def char_at_pos(lst:list, pos:str)->list:\n",
    "    if lst != str:\n",
    "        if pos.lower() == \"even\":\n",
    "            return [c for i, c in enumerate(lst) if (i+1)%2== 0]\n",
    "        return [c for i, c in enumerate(lst) if (i+1)%2!= 0]\n",
    "    else:\n",
    "        if pos.lower() == \"even\":\n",
    "            return ''.join([c for i, c in enumerate(lst) if (i+1)%2== 0])\n",
    "        return ''.join([c for i, c in enumerate(lst) if (i+1)%2!= 0])\n",
    "        \n",
    "    \n",
    "char_at_pos([\"A\", \"R\", \"B\", \"I\", \"T\", \"R\", \"A\", \"R\", \"I\", \"L\", \"Y\"], \"odd\")"
   ]
  },
  {
   "cell_type": "code",
   "execution_count": 79,
   "metadata": {},
   "outputs": [
    {
     "data": {
      "text/plain": [
       "1"
      ]
     },
     "execution_count": 79,
     "metadata": {},
     "output_type": "execute_result"
    }
   ],
   "source": [
    "# 4. Write a function that returns the greatest common divisor of all list elements. \n",
    "# If the greatest common divisor is 1, return 1.\n",
    "\n",
    "# Examples\n",
    "\n",
    "# GCD([10, 20, 40]) ➞ 10\n",
    "\n",
    "# GCD([1, 2, 3, 100]) ➞ 1\n",
    "\n",
    "# GCD([1024, 192, 2048, 512]) ➞ 64\n",
    "\n",
    "def GCD(l:list)->int:\n",
    "    def find_gcd(x, y):\n",
    "        while(y):\n",
    "            x, y = y, x % y\n",
    "\n",
    "        return x\n",
    "\n",
    "    num1=l[0]\n",
    "    num2=l[1]\n",
    "    gcd=find_gcd(num1,num2)\n",
    "\n",
    "    for i in range(0,len(l)):\n",
    "        gcd=find_gcd(gcd,l[i])\n",
    "      \n",
    "    return gcd\n",
    "\n",
    "GCD([1, 2, 3, 100])"
   ]
  },
  {
   "cell_type": "code",
   "execution_count": 78,
   "metadata": {},
   "outputs": [
    {
     "data": {
      "text/plain": [
       "'Decimal and binary.'"
      ]
     },
     "execution_count": 78,
     "metadata": {},
     "output_type": "execute_result"
    }
   ],
   "source": [
    "# 5. A number/string is a palindrome if the digits/characters are the same when read both forward and backward. \n",
    "# Examples include \"racecar\" and 12321. Given a positive number n, \n",
    "# check if n or the binary representation of n is palindromic. Return the following:\n",
    "\n",
    "# - \"Decimal only.\" if only n is a palindrome.\n",
    "# - \"Binary only.\" if only the binary representation of n is a palindrome.\n",
    "# - \"Decimal and binary.\" if both are palindromes.\n",
    "# - \"Neither!\" if neither are palindromes.\n",
    "\n",
    "# Examples\n",
    "\n",
    "# palindrome_type(1306031) ➞ \"Decimal only.\"\n",
    "# # decimal = 1306031\n",
    "# # binary  = \"100111110110110101111\"\n",
    "\n",
    "# palindrome_type(427787) ➞ \"Binary only.\"\n",
    "# # decimal = 427787\n",
    "# # binary  = \"1101000011100001011\"\n",
    "\n",
    "# palindrome_type(313) ➞ \"Decimal and binary.\"\n",
    "# # decimal = 313\n",
    "# # binary  = 100111001\n",
    "\n",
    "# palindrome_type(934) ➞ \"Neither!\"\n",
    "# # decimal = 934\n",
    "# # binary  = \"1110100110\"\n",
    "\n",
    "def palindrome_type(num:int)->str:\n",
    "    if num == int(str(num)[::-1]):\n",
    "        if bin(num)[2:] == str(bin(num)[2:])[::-1]:\n",
    "            return \"Decimal and binary.\"\n",
    "        return \"Decimal only.\"\n",
    "    elif bin(num)[2:] == str(bin(num)[2:])[::-1]:\n",
    "        return \"Binary only.\"\n",
    "    else:\n",
    "        return \"Neither!\"\n",
    "\n",
    "palindrome_type(313)"
   ]
  }
 ],
 "metadata": {
  "kernelspec": {
   "display_name": "Python 3",
   "language": "python",
   "name": "python3"
  },
  "language_info": {
   "codemirror_mode": {
    "name": "ipython",
    "version": 3
   },
   "file_extension": ".py",
   "mimetype": "text/x-python",
   "name": "python",
   "nbconvert_exporter": "python",
   "pygments_lexer": "ipython3",
   "version": "3.8.3"
  }
 },
 "nbformat": 4,
 "nbformat_minor": 2
}
