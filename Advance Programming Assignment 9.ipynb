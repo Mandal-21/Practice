{
 "cells": [
  {
   "cell_type": "code",
   "execution_count": 65,
   "metadata": {},
   "outputs": [
    {
     "data": {
      "text/plain": [
       "'102:40:18'"
      ]
     },
     "execution_count": 65,
     "metadata": {},
     "output_type": "execute_result"
    }
   ],
   "source": [
    "# 1. YouTube offers different playback speed options for users. \n",
    "# This allows users to increase or decrease the speed of the video content. Given the actual duration and \n",
    "# playback speed of the video, calculate the playback duration of the video.\n",
    "\n",
    "# Examples\n",
    "\n",
    "# playback_duration(\"00:30:00\", 2) ➞ \"00:15:00\"\n",
    "\n",
    "# playback_duration(\"01:20:00\", 1.5) ➞ \"00:53:20\"\n",
    "\n",
    "# playback_duration(\"51:20:09\", 0.5) ➞ \"102:40:18\"\n",
    "\n",
    "\n",
    "def playback_duration(time, speed):\n",
    "    time_list = time.split(\":\")\n",
    "    hours = int(time_list[0])*3600\n",
    "    minutes = int(time_list[1])*60\n",
    "    seconds = int(time_list[2])\n",
    "    \n",
    "    total_seconds = hours + minutes + seconds\n",
    "    seconds = total_seconds/speed\n",
    "    min_, sec = divmod(seconds, 60)\n",
    "    hour, min_ = divmod(min_, 60)\n",
    "    return \"%02d:%02d:%02d\" % (hour, min_, sec)\n",
    "\n",
    "playback_duration(\"51:20:09\", 0.5)"
   ]
  },
  {
   "cell_type": "code",
   "execution_count": 52,
   "metadata": {},
   "outputs": [
    {
     "data": {
      "text/plain": [
       "2022"
      ]
     },
     "execution_count": 52,
     "metadata": {},
     "output_type": "execute_result"
    }
   ],
   "source": [
    "# 2. We needs your help to construct a building which will be a pile of n cubes. \n",
    "# The cube at the bottom will have a volume of n^3, the cube above will have volume of (n-1)^3 and \n",
    "# so on until the top which will have a volume of 1^3.\n",
    "\n",
    "# Given the total volume m of the building, can you find the number of cubes n required for the building?\n",
    "\n",
    "# In other words, you have to return an integer n such that:\n",
    "\n",
    "# n^3 + (n-1)^3 + ... + 1^3 == m\n",
    "\n",
    "# Return None if there is no such number.\n",
    "\n",
    "# Examples\n",
    "\n",
    "# pile_of_cubes(1071225) ➞ 45\n",
    "\n",
    "# pile_of_cubes(4183059834009) ➞ 2022\n",
    "\n",
    "# pile_of_cubes(16) ➞ None\n",
    "\n",
    "import math\n",
    "\n",
    "def pile_of_cubes(num:int)->int:\n",
    "    haha = math.sqrt(num)\n",
    "    # print(num, haha, num%(int(haha)))\n",
    "    if num%(int(haha)) != 0:\n",
    "        return \"None\"\n",
    "    \n",
    "    i = 1\n",
    "    n = 0\n",
    "    while n <=haha:\n",
    "        n+=i\n",
    "        if n == haha:\n",
    "            return i\n",
    "        i+=1\n",
    "    return \"None\"\n",
    "\n",
    "pile_of_cubes(4183059834009)"
   ]
  },
  {
   "cell_type": "code",
   "execution_count": 32,
   "metadata": {},
   "outputs": [
    {
     "data": {
      "text/plain": [
       "4"
      ]
     },
     "execution_count": 32,
     "metadata": {},
     "output_type": "execute_result"
    }
   ],
   "source": [
    "# 3. A fulcrum of a list is an integer such that all elements to the left of it and \n",
    "# all elements to the right of it sum to the same value. Write a function that finds the fulcrum of a list.\n",
    "\n",
    "# To illustrate:\n",
    "\n",
    "# find_fulcrum([3, 1, 5, 2, 4, 6, -1]) ➞ 2\n",
    "# // Since [3, 1, 5] and [4, 6, -1] both sum to 9\n",
    "\n",
    "# Examples\n",
    "\n",
    "# find_fulcrum([1, 2, 4, 9, 10, -10, -9, 3]) ➞ 4\n",
    "\n",
    "# find_fulcrum([9, 1, 9]) ➞ 1\n",
    "\n",
    "# find_fulcrum([7, -1, 0, -1, 1, 1, 2, 3]) ➞ 0\n",
    "\n",
    "# find_fulcrum([8, 8, 8, 8]) ➞ -1\n",
    "\n",
    "def find_fulcrum(lst:list)->int:\n",
    "    for i, e in enumerate(lst):\n",
    "        if sum(lst[:i]) == sum(lst[i+1:]):\n",
    "            return e\n",
    "    return -1\n",
    "\n",
    "find_fulcrum([1, 2, 4, 9, 10, -10, -9, 3])"
   ]
  },
  {
   "cell_type": "code",
   "execution_count": 40,
   "metadata": {},
   "outputs": [
    {
     "data": {
      "text/plain": [
       "3"
      ]
     },
     "execution_count": 40,
     "metadata": {},
     "output_type": "execute_result"
    }
   ],
   "source": [
    "# 4. Given a list of integers representing the color of each sock, determine how many pairs of socks \n",
    "# with matching colors there are. For example, there are 7 socks with colors [1, 2, 1, 2, 1, 3, 2]. \n",
    "# There is one pair of color 1 and one of color 2. There are three odd socks left, one of each color. \n",
    "# The number of pairs is 2.\n",
    "\n",
    "# Create a function that returns an integer representing the number of matching pairs of socks that are available.\n",
    "\n",
    "# Examples\n",
    "\n",
    "# sock_merchant([10, 20, 20, 10, 10, 30, 50, 10, 20]) ➞ 3\n",
    "\n",
    "# sock_merchant([50, 20, 30, 90, 30, 20, 50, 20, 90]) ➞ 4\n",
    "\n",
    "# sock_merchant([]) ➞ 0\n",
    "\n",
    "from collections import Counter\n",
    "def sock_merchant(lst:list)->int:\n",
    "    dict_of_socks = dict(Counter(lst))\n",
    "    sum_ = 0\n",
    "    for value in dict_of_socks.values():\n",
    "        sum_ += value//2\n",
    "        \n",
    "    return sum_\n",
    "\n",
    "sock_merchant([10, 20, 20, 10, 10, 30, 50, 10, 20])"
   ]
  },
  {
   "cell_type": "code",
   "execution_count": 48,
   "metadata": {},
   "outputs": [
    {
     "data": {
      "text/plain": [
       "-23"
      ]
     },
     "execution_count": 48,
     "metadata": {},
     "output_type": "execute_result"
    }
   ],
   "source": [
    "# 5. Create a function that takes a string containing integers as well as other characters and \n",
    "# return the sum of the negative integers only.\n",
    "\n",
    "# Examples\n",
    "\n",
    "# negative_sum(\"-12 13%14&-11\") ➞ -23\n",
    "# # -12 + -11 = -23\n",
    "\n",
    "# negative_sum(\"22 13%14&-11-22 13 12\") ➞ -33\n",
    "# # -11 + -22 = -33\n",
    "\n",
    "import re\n",
    "def negative_sum(string:str)->int:\n",
    "    res = re.findall('[-]\\d+', string)\n",
    "    return sum([int(num) for num in res])\n",
    "\n",
    "negative_sum(\"-12 13%14&-11\")"
   ]
  }
 ],
 "metadata": {
  "kernelspec": {
   "display_name": "Python 3",
   "language": "python",
   "name": "python3"
  },
  "language_info": {
   "codemirror_mode": {
    "name": "ipython",
    "version": 3
   },
   "file_extension": ".py",
   "mimetype": "text/x-python",
   "name": "python",
   "nbconvert_exporter": "python",
   "pygments_lexer": "ipython3",
   "version": "3.8.3"
  }
 },
 "nbformat": 4,
 "nbformat_minor": 2
}
