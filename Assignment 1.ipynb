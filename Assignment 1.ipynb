{
 "cells": [
  {
   "cell_type": "raw",
   "metadata": {},
   "source": [
    "1. What are the differences between operators and values in the following?\n",
    "* \n",
    "'hello'\n",
    "-87.8\n",
    "-\n",
    "/\n",
    "+\n",
    "6\n",
    "\n",
    "Ans : The main difference between operators and values are that, operators are used to do mathematical calculation, putting a operator between two values we are getting one new value.\n",
    "* = operator\n",
    "'hello' = value\n",
    "-87.8 = value\n",
    "- = operator\n",
    "/ = operator\n",
    "+ = operator\n",
    "6 = value"
   ]
  },
  {
   "cell_type": "raw",
   "metadata": {},
   "source": [
    "2. What is the difference between string and variable?\n",
    "spam\n",
    "'spam'\n",
    "\n",
    "Ans : strings are datatype of data while variable are used to store certain values, it can store any datatype."
   ]
  },
  {
   "cell_type": "raw",
   "metadata": {},
   "source": [
    "3. Describe three different data forms.\n",
    "\n",
    "Ans : \n",
    "    Integers : Its is a number which can range from negative infinity to positive infinity.\n",
    "    Complex numbers : It contains a real and imaginary number (eg. 1 + 2j)\n",
    "    Boolean : It have two value i.e. True or False\n",
    "    Strings : Sequence of character which are immutable"
   ]
  },
  {
   "cell_type": "raw",
   "metadata": {},
   "source": [
    "4. What makes up an expression? What are the functions of all expressions?\n",
    "\n",
    "Ans : An expression is a combination of values, variables, operators, and calls to functions. Expressions need to be evaluated. If you ask Python to print an expression, the interpreter evaluates the expression and displays the result."
   ]
  },
  {
   "cell_type": "raw",
   "metadata": {},
   "source": [
    "5. In this chapter, assignment statements such as spam = 10 were added. What's the\n",
    "difference between a declaration and an expression?\n",
    "\n",
    "Ans : A statement is an instruction that the Python interpreter can execute. An expression is a combination of values, variables, and operators. If you type an expression on the command line, the interpreter evaluates it and displays the result."
   ]
  },
  {
   "cell_type": "raw",
   "metadata": {},
   "source": [
    "6. After running the following code, what does the variable bacon contain?\n",
    "bacon = 22\n",
    "bacon + 1\n",
    "\n",
    "Ans : Here the value of bacon will be 22 as we have incremented the bacon value but not stored in any variable."
   ]
  },
  {
   "cell_type": "raw",
   "metadata": {},
   "source": [
    "7. What should the values of the following two terms be?\n",
    "\n",
    "Ans : \n",
    "'spam' + 'spamspam' = 'spamspamspam'\n",
    "'spam'*3 = 'spamspamspam'"
   ]
  },
  {
   "cell_type": "raw",
   "metadata": {},
   "source": [
    "8. Why is it that eggs is a true variable name but 100 is not?\n",
    "\n",
    "Ans : We cannot give name of the variable as numerical."
   ]
  },
  {
   "cell_type": "raw",
   "metadata": {},
   "source": [
    "9. Which of the following three functions may be used to convert a value to an integer, a floating-point number, or a string?\n",
    "\n",
    "Ans : \n",
    "integer = int()\n",
    "floating-point number = float()\n",
    "string = str()"
   ]
  },
  {
   "cell_type": "raw",
   "metadata": {},
   "source": [
    "10. What is the error caused by this expression? What would you do about it?\n",
    "'I have eaten ' + 99 + ' burritos.'\n",
    "\n",
    "Ans : We can only concatinate same datatype. To solve this problem, i will do type casting of 99 numerical value as str(99) so that it all ends up concatinating string."
   ]
  }
 ],
 "metadata": {
  "kernelspec": {
   "display_name": "Python 3",
   "language": "python",
   "name": "python3"
  },
  "language_info": {
   "codemirror_mode": {
    "name": "ipython",
    "version": 3
   },
   "file_extension": ".py",
   "mimetype": "text/x-python",
   "name": "python",
   "nbconvert_exporter": "python",
   "pygments_lexer": "ipython3",
   "version": "3.8.3"
  }
 },
 "nbformat": 4,
 "nbformat_minor": 4
}
