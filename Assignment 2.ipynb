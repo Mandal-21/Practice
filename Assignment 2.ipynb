{
 "cells": [
  {
   "cell_type": "code",
   "execution_count": null,
   "metadata": {},
   "outputs": [],
   "source": [
    "1. What are the Boolean data type's two values? How do you go about writing them?\n",
    "\n",
    "Ans : Boolean data type contains two values i.e. True and False. It is used where we want a decision to happen."
   ]
  },
  {
   "cell_type": "code",
   "execution_count": null,
   "metadata": {},
   "outputs": [],
   "source": [
    "2. What are the three different types of Boolean operators?\n",
    "\n",
    "Ans : Three Types of Boolean operators are namely AND, OR and NOT"
   ]
  },
  {
   "cell_type": "code",
   "execution_count": null,
   "metadata": {},
   "outputs": [],
   "source": [
    "3. Make a list of each Boolean operator's truth tables \n",
    "(i.e. every possible combination of Boolean values for the operator and what it evaluate ).\n",
    "\n",
    "Ans : \n",
    "    1. AND\n",
    "    1 AND 1 = 1\n",
    "    1 AND 0 = 0\n",
    "    0 AND 1 = 0\n",
    "    0 AND 0 = 0\n",
    "    \n",
    "    2. OR\n",
    "    1 OR 1 = 1\n",
    "    1 OR 0 = 1\n",
    "    0 OR 1 = 1\n",
    "    0 OR 0 = 0\n",
    "    \n",
    "    3. NOT\n",
    "    1 NOT = 0\n",
    "    0 NOT = 1\n",
    "    \n",
    "Note: In python we refer True as 1 and False as 0"
   ]
  },
  {
   "cell_type": "code",
   "execution_count": null,
   "metadata": {},
   "outputs": [],
   "source": [
    "4. What are the values of the following expressions?\n",
    "\n",
    "Ans : \n",
    "(5 > 4) and (3 == 5)  --> False\n",
    "not (5 > 4)  --> False\n",
    "(5 > 4) or (3 == 5)  --> True\n",
    "not ((5 > 4) or (3 == 5))  --> False\n",
    "(True and True) and (True == False)  --> False\n",
    "(not False) or (not True)  --> True"
   ]
  },
  {
   "cell_type": "code",
   "execution_count": null,
   "metadata": {},
   "outputs": [],
   "source": [
    "5. What are the six different types of reference operators?\n",
    "\n",
    "Ans : \n",
    "    Equal-To (== )\n",
    "    Not-Equal-To (!= )\n",
    "    Greater-Than (> )\n",
    "    Less-Than (< )\n",
    "    Greater-Than-Equal-To (>= )\n",
    "    Less-Than-Equal-To (<= )"
   ]
  },
  {
   "cell_type": "code",
   "execution_count": null,
   "metadata": {},
   "outputs": [],
   "source": [
    "6. How do you tell the difference between the equal to and assignment operators?\n",
    "\n",
    "Ans : Assignment operators are used to assign value to a variable while equal to is used to do comparison between\n",
    "    values"
   ]
  },
  {
   "cell_type": "code",
   "execution_count": null,
   "metadata": {},
   "outputs": [],
   "source": [
    "7. Describe a condition and when you would use one.\n",
    "\n",
    "Ans : conditions are used to satisfy certain parameters which we require. It differs application to applications.\n",
    "    I would used when i want to check whether a creteria is satified in a given problem statement"
   ]
  },
  {
   "cell_type": "code",
   "execution_count": 1,
   "metadata": {},
   "outputs": [
    {
     "name": "stdout",
     "output_type": "stream",
     "text": [
      "spam\n"
     ]
    }
   ],
   "source": [
    "8. Recognize the following three blocks in this code:\n",
    "\n",
    "spam = 0\n",
    "if spam == 10:\n",
    "    print('eggs')\n",
    "    if spam > 5:\n",
    "        print('bacon')\n",
    "    else:\n",
    "        print('ham')\n",
    "    print('spam')\n",
    "print('spam')\n",
    "\n",
    "Ans : It will only sprint spam becaue if condition is not satisfied and it wont go inside the block."
   ]
  },
  {
   "cell_type": "code",
   "execution_count": null,
   "metadata": {},
   "outputs": [],
   "source": [
    "9. Create a programme that prints. \n",
    "If 1 is stored in spam, prints Hello; \n",
    "if 2 is stored in spam, prints Howdy; \n",
    "and if 3 is stored in spam, prints Salutations! \n",
    "if there's something else in spam.\n",
    "\n",
    "Ans : \n",
    "    "
   ]
  },
  {
   "cell_type": "code",
   "execution_count": 2,
   "metadata": {},
   "outputs": [
    {
     "name": "stdout",
     "output_type": "stream",
     "text": [
      "2\n",
      "Howdy\n"
     ]
    }
   ],
   "source": [
    "spam = int(input())\n",
    "if spam == 1:\n",
    "    print('Hello')\n",
    "elif spam == 2:\n",
    "    print('Howdy')\n",
    "elif spam == 3:\n",
    "    print('Salutations')\n",
    "else:\n",
    "    print('Spam')"
   ]
  },
  {
   "cell_type": "code",
   "execution_count": null,
   "metadata": {},
   "outputs": [],
   "source": [
    "10.If your programme is stuck in an endless loop, what keys can you press?\n",
    "\n",
    "Ans : ctrl + C"
   ]
  },
  {
   "cell_type": "code",
   "execution_count": null,
   "metadata": {},
   "outputs": [],
   "source": [
    "11. How can you tell the difference between break and continue?\n",
    "\n",
    "Ans : Continue statement is used to continue the iteration of the loop while break is used to terminate the loop"
   ]
  },
  {
   "cell_type": "code",
   "execution_count": null,
   "metadata": {},
   "outputs": [],
   "source": [
    "12. In a for loop, what is the difference between range(10), range(0, 10), and range(0, 10, 1)?\n",
    "\n",
    "Ans : All the above are same having starting value as 0, end value as 10 and step size of 1."
   ]
  },
  {
   "cell_type": "code",
   "execution_count": null,
   "metadata": {},
   "outputs": [],
   "source": [
    "13. Using a for loop, write a short programme that prints the numbers 1 to 10 \n",
    "Then, using a while loop, create an identical programme that prints the numbers 1 to 10.\n",
    "\n",
    "Ans : "
   ]
  },
  {
   "cell_type": "code",
   "execution_count": 4,
   "metadata": {},
   "outputs": [
    {
     "name": "stdout",
     "output_type": "stream",
     "text": [
      "1\n",
      "2\n",
      "3\n",
      "4\n",
      "5\n",
      "6\n",
      "7\n",
      "8\n",
      "9\n",
      "10\n",
      "1\n",
      "2\n",
      "3\n",
      "4\n",
      "5\n",
      "6\n",
      "7\n",
      "8\n",
      "9\n",
      "10\n"
     ]
    }
   ],
   "source": [
    "# For loop\n",
    "for i in range(1, 11):\n",
    "    print(i)\n",
    "    \n",
    "# while loop\n",
    "c = 1\n",
    "while c < 11:\n",
    "    print(c)\n",
    "    c += 1"
   ]
  },
  {
   "cell_type": "code",
   "execution_count": null,
   "metadata": {},
   "outputs": [],
   "source": [
    "14. If you had a bacon() function within a spam module, how  would you call it after importing spam?\n",
    "\n",
    "Ans : \n",
    "    import spam\n",
    "    val = spam.bacon()"
   ]
  }
 ],
 "metadata": {
  "kernelspec": {
   "display_name": "Python 3",
   "language": "python",
   "name": "python3"
  },
  "language_info": {
   "codemirror_mode": {
    "name": "ipython",
    "version": 3
   },
   "file_extension": ".py",
   "mimetype": "text/x-python",
   "name": "python",
   "nbconvert_exporter": "python",
   "pygments_lexer": "ipython3",
   "version": "3.8.3"
  }
 },
 "nbformat": 4,
 "nbformat_minor": 4
}
