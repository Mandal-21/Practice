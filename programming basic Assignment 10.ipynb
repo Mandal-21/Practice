{
 "cells": [
  {
   "cell_type": "code",
   "execution_count": 1,
   "metadata": {},
   "outputs": [
    {
     "name": "stdout",
     "output_type": "stream",
     "text": [
      "Sum of the list is 73\n"
     ]
    }
   ],
   "source": [
    "# 1. Write a Python program to find sum of elements in list?\n",
    "\n",
    "lis = [1, 2, 4, 45, 21]\n",
    "print('Sum of the list is', sum(lis))"
   ]
  },
  {
   "cell_type": "code",
   "execution_count": 2,
   "metadata": {},
   "outputs": [
    {
     "name": "stdout",
     "output_type": "stream",
     "text": [
      "Multiplication of all elements in the list is 7560\n"
     ]
    }
   ],
   "source": [
    "# 2. Write a Python program to Multiply all numbers in the list?\n",
    "\n",
    "lis = [1, 2, 4, 45, 21]\n",
    "mul = 1\n",
    "for i in lis:\n",
    "    mul = mul*i\n",
    "print('Multiplication of all elements in the list is', mul)"
   ]
  },
  {
   "cell_type": "code",
   "execution_count": 4,
   "metadata": {},
   "outputs": [
    {
     "name": "stdout",
     "output_type": "stream",
     "text": [
      "Smallest number in the list is 0.5\n"
     ]
    }
   ],
   "source": [
    "# 3. Write a Python program to find smallest number in a list?\n",
    "\n",
    "lis = [1, 2, 4, 45, 21, 0.5]\n",
    "print('Smallest number in the list is', min(lis))"
   ]
  },
  {
   "cell_type": "code",
   "execution_count": 5,
   "metadata": {},
   "outputs": [
    {
     "name": "stdout",
     "output_type": "stream",
     "text": [
      "Largest number in the list is 45\n"
     ]
    }
   ],
   "source": [
    "# 4. Write a Python program to find largest number in a list?\n",
    "\n",
    "lis = [1, 2, 4, 45, 21, 0.5]\n",
    "print('Largest number in the list is', max(lis))"
   ]
  },
  {
   "cell_type": "code",
   "execution_count": 9,
   "metadata": {},
   "outputs": [
    {
     "name": "stdout",
     "output_type": "stream",
     "text": [
      "Second largest number in the list is 21\n"
     ]
    }
   ],
   "source": [
    "# 5. Write a Python program to find second largest number in a list?\n",
    "\n",
    "lis = [1, 2, 4, 45, 21, 0.5]\n",
    "lis.sort(reverse=True)\n",
    "print(\"Second largest number in the list is\", lis[1])"
   ]
  },
  {
   "cell_type": "code",
   "execution_count": 12,
   "metadata": {},
   "outputs": [
    {
     "name": "stdout",
     "output_type": "stream",
     "text": [
      "N largest elements from the list is [45, 21]\n"
     ]
    }
   ],
   "source": [
    "# 6. Write a Python program to find N largest elements from a list?\n",
    "\n",
    "lis = [1, 2, 4, 45, 21, 0.5]\n",
    "lis.sort(reverse=True)\n",
    "N = 2\n",
    "print(\"N largest elements from the list is\", lis[:N])"
   ]
  },
  {
   "cell_type": "code",
   "execution_count": 16,
   "metadata": {},
   "outputs": [
    {
     "name": "stdout",
     "output_type": "stream",
     "text": [
      "Even Number in the list are [2, 4, 16, 4]\n"
     ]
    }
   ],
   "source": [
    "# 7. Write a Python program to print even numbers in a list?\n",
    "\n",
    "lis = [1, 2, 4, 45, 21, 0.5, 16, 4]\n",
    "even_num = [i for i in lis if i%2 == 0]\n",
    "print(\"Even Number in the list are\", even_num)"
   ]
  },
  {
   "cell_type": "code",
   "execution_count": 18,
   "metadata": {},
   "outputs": [
    {
     "name": "stdout",
     "output_type": "stream",
     "text": [
      "Even Number in the list are [1, 45, 21, 35]\n"
     ]
    }
   ],
   "source": [
    "# 8. Write a Python program to print odd numbers in a List?\n",
    "\n",
    "lis = [1, 2, 4, 45, 21, 35, 16, 4]\n",
    "odd_num = [i for i in lis if i%2 != 0]\n",
    "print(\"Even Number in the list are\", odd_num)"
   ]
  },
  {
   "cell_type": "code",
   "execution_count": 54,
   "metadata": {},
   "outputs": [
    {
     "name": "stdout",
     "output_type": "stream",
     "text": [
      "List without empty list [[1, 2, 4], ['sd', 3, 'ew'], 45, [13, 43, 'gf']]\n"
     ]
    }
   ],
   "source": [
    "# 9. Write a Python program to Remove empty List from List?\n",
    "\n",
    "def empty_list_removal(lis):\n",
    "    without_empty_lis = []\n",
    "    for l in lis:\n",
    "        if type(l) == list:\n",
    "            if len(l) != 0:\n",
    "                without_empty_lis.append(l)\n",
    "\n",
    "        else:\n",
    "            without_empty_lis.append(l)\n",
    "    return without_empty_lis\n",
    "\n",
    "lis = [[1, 2, 4], [], [\"sd\", 3, \"ew\"], [], [], 45, [13, 43, \"gf\"]]            \n",
    "print(\"List without empty list\", empty_list_removal(lis))"
   ]
  },
  {
   "cell_type": "code",
   "execution_count": 56,
   "metadata": {},
   "outputs": [
    {
     "name": "stdout",
     "output_type": "stream",
     "text": [
      "Original list\t [12, 'sdf', 98, '34fa']\n",
      "Cloned list\t [12, 'sdf', 98, '34fa']\n"
     ]
    }
   ],
   "source": [
    "# 10. Write a Python program to Cloning or Copying a list?\n",
    "\n",
    "def cloning(lis):\n",
    "    return lis[:]\n",
    "\n",
    "lis = [12, \"sdf\", 98, \"34fa\"]\n",
    "clone_list = cloning(lis)\n",
    "print(\"Original list\\t\", lis)\n",
    "print(\"Cloned list\\t\", clone_list)"
   ]
  },
  {
   "cell_type": "code",
   "execution_count": 65,
   "metadata": {},
   "outputs": [
    {
     "name": "stdout",
     "output_type": "stream",
     "text": [
      "Element 1 have occured 2 times\n"
     ]
    }
   ],
   "source": [
    "# 11. Write a Python program to Count occurrences of an element in a list?\n",
    "\n",
    "def occ_of_element(lis, element):\n",
    "    dict_ = {}\n",
    "    for l in lis:\n",
    "        if l not in dict_:\n",
    "            dict_[l] = 0\n",
    "        dict_[l] += 1 \n",
    "    return dict_[element]\n",
    "\n",
    "lis = [1, 2, 34, 2, 3, 55, 2, 4, 5, 4, 1, 45, 55]\n",
    "element = 1\n",
    "print(f\"Element {element} have occured {occ_of_element(lis, element)} times\")"
   ]
  }
 ],
 "metadata": {
  "kernelspec": {
   "display_name": "Python 3",
   "language": "python",
   "name": "python3"
  },
  "language_info": {
   "codemirror_mode": {
    "name": "ipython",
    "version": 3
   },
   "file_extension": ".py",
   "mimetype": "text/x-python",
   "name": "python",
   "nbconvert_exporter": "python",
   "pygments_lexer": "ipython3",
   "version": "3.8.3"
  }
 },
 "nbformat": 4,
 "nbformat_minor": 4
}
