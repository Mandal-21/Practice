{
 "cells": [
  {
   "cell_type": "code",
   "execution_count": 2,
   "metadata": {},
   "outputs": [
    {
     "name": "stdout",
     "output_type": "stream",
     "text": [
      "Word greater than length 4 is/are ['djnld', 'aefkuhkuhfka', 'ajhakclanl']\n"
     ]
    }
   ],
   "source": [
    "# 1. Write a Python program to find words which are greater than given length k?\n",
    "\n",
    "def length_of_word(lis, k):\n",
    "    k_len_words = []\n",
    "    for l in lis:\n",
    "        if type(l) == str:\n",
    "            if len(l) > k:\n",
    "                k_len_words.append(l)\n",
    "    return k_len_words\n",
    "\n",
    "lis = [\"djnld\", 34, \"ahka\", \"aefkuhkuhfka\", \"ajhakclanl\", \"caa\"]\n",
    "k = 4\n",
    "print(f\"Word greater than length {k} is/are {length_of_word(lis, k)}\")"
   ]
  },
  {
   "cell_type": "code",
   "execution_count": 14,
   "metadata": {},
   "outputs": [
    {
     "name": "stdout",
     "output_type": "stream",
     "text": [
      "After Removal of ith character from string is sjdbsbdk\n"
     ]
    }
   ],
   "source": [
    "# 2. Write a Python program for removing i-th character from a string?\n",
    "\n",
    "def removal_of_ith_character(s, i):\n",
    "    return s[:i-1] + s[i:]\n",
    "\n",
    "print('After Removal of ith character from string is', removal_of_ith_character('sjdbksbdk', 5))"
   ]
  },
  {
   "cell_type": "code",
   "execution_count": 17,
   "metadata": {},
   "outputs": [
    {
     "name": "stdout",
     "output_type": "stream",
     "text": [
      "Split :\t ['This', 'is', 'not', 'a', 'good', 'idea']\n",
      "Join :\t This-is-not-a-good-idea\n"
     ]
    }
   ],
   "source": [
    "# 3. Write a Python program to split and join a string?\n",
    "\n",
    "s = 'This is not a good idea' \n",
    "print(\"Split :\\t\", s.split())\n",
    "print(\"Join :\\t\", \"-\".join(s.split()))"
   ]
  },
  {
   "cell_type": "code",
   "execution_count": 19,
   "metadata": {},
   "outputs": [
    {
     "name": "stdout",
     "output_type": "stream",
     "text": [
      "10101110g string is binary : False\n"
     ]
    }
   ],
   "source": [
    "# 4. Write a Python to check if a given string is binary string or not?\n",
    "\n",
    "\n",
    "def binary_or_not(s):\n",
    "    set_s = set(s)\n",
    "    p = {'0', '1'}\n",
    "    if p == set_s or set_s == '0' or set_s == 1:\n",
    "        return \"True\"\n",
    "    else:\n",
    "        return \"False\"\n",
    "    \n",
    "s = \"10101110g\"\n",
    "print(s,\"string is binary :\", binary_or_not(s))"
   ]
  },
  {
   "cell_type": "code",
   "execution_count": 31,
   "metadata": {},
   "outputs": [
    {
     "data": {
      "text/plain": [
       "{'Circumstances',\n",
       " 'There',\n",
       " 'are',\n",
       " 'common',\n",
       " 'drive',\n",
       " 'mistake',\n",
       " 'people',\n",
       " 'some',\n",
       " 'that',\n",
       " 'we',\n",
       " 'which'}"
      ]
     },
     "execution_count": 31,
     "metadata": {},
     "output_type": "execute_result"
    }
   ],
   "source": [
    "# 5. Write a Python program to find uncommon words from two Strings?\n",
    "\n",
    "s1 = 'Circumstances which make people drive'\n",
    "s2 = 'There are some common mistake that we make'\n",
    "set(s1.split()).symmetric_difference(set(s2.split()))"
   ]
  },
  {
   "cell_type": "code",
   "execution_count": 43,
   "metadata": {},
   "outputs": [
    {
     "data": {
      "text/plain": [
       "'kjvnuhs dla'"
      ]
     },
     "execution_count": 43,
     "metadata": {},
     "output_type": "execute_result"
    }
   ],
   "source": [
    "# 6. Write a Python to find all duplicate characters in string?\n",
    "\n",
    "def duplicate_removal(s):\n",
    "    empty_s = [] \n",
    "    for i in s:\n",
    "        if i in empty_s:\n",
    "            continue\n",
    "        else:\n",
    "            empty_s.append(i)\n",
    "    return \"\".join(empty_s)\n",
    "\n",
    "duplicate_removal(s = 'kjkvjknvkuhksu kdnlas')"
   ]
  },
  {
   "cell_type": "code",
   "execution_count": 49,
   "metadata": {},
   "outputs": [
    {
     "name": "stdout",
     "output_type": "stream",
     "text": [
      "@It's all about time , String is not accepted.\n"
     ]
    }
   ],
   "source": [
    "# 7. Write a Python Program to check if a string contains any special character?\n",
    "\n",
    "import re\n",
    "\n",
    "def special_character_check(s):\n",
    "    regex = re.compile('[@_!#$%^&*()<>?/\\|}{~:]')\n",
    "    if(regex.search(s) == None):\n",
    "        print(s, \", String is accepted\")\n",
    "    else:\n",
    "        print(s, \", String is not accepted.\")\n",
    "        \n",
    "        \n",
    "special_character_check(\"@It's all about time\")"
   ]
  }
 ],
 "metadata": {
  "kernelspec": {
   "display_name": "Python 3",
   "language": "python",
   "name": "python3"
  },
  "language_info": {
   "codemirror_mode": {
    "name": "ipython",
    "version": 3
   },
   "file_extension": ".py",
   "mimetype": "text/x-python",
   "name": "python",
   "nbconvert_exporter": "python",
   "pygments_lexer": "ipython3",
   "version": "3.8.3"
  }
 },
 "nbformat": 4,
 "nbformat_minor": 4
}
