{
 "cells": [
  {
   "cell_type": "code",
   "execution_count": 10,
   "metadata": {},
   "outputs": [
    {
     "name": "stdout",
     "output_type": "stream",
     "text": [
      "0 7 14 21 28 35 42 49 56 63 70 77 84 91 98 "
     ]
    }
   ],
   "source": [
    "# Define a class with a generator which can iterate the numbers, which are divisible by\n",
    "# 7, between a given range 0 and n.\n",
    "\n",
    "class Generator:\n",
    "    def __init__(self, n):\n",
    "        self.n = n\n",
    "\n",
    "    def generator(self):\n",
    "        for i in range(0, self.n):\n",
    "            if i % 7 == 0:\n",
    "                yield i\n",
    "    \n",
    "for num in Generator(100).generator():\n",
    "    print(num, end = ' ')"
   ]
  },
  {
   "cell_type": "code",
   "execution_count": 13,
   "metadata": {},
   "outputs": [
    {
     "data": {
      "text/plain": [
       "{'New': 1,\n",
       " 'to': 1,\n",
       " 'Python': 5,\n",
       " 'or': 2,\n",
       " 'choosing': 1,\n",
       " 'between': 1,\n",
       " '2': 2,\n",
       " 'and': 1,\n",
       " '3?': 1,\n",
       " 'Read': 1,\n",
       " '3.': 1}"
      ]
     },
     "execution_count": 13,
     "metadata": {},
     "output_type": "execute_result"
    }
   ],
   "source": [
    "# Write a program to compute the frequency of the words from the input. The output\n",
    "# should output after sorting the key alphanumerically.\n",
    "\n",
    "string = \"New to Python or choosing between Python 2 and Python 3? Read Python 2 or Python 3.\"\n",
    "\n",
    "class WordCounter:\n",
    "    def word_count(string):\n",
    "        word_count_dict = {}\n",
    "        for word in string.split():\n",
    "            if word not in word_count_dict:\n",
    "                word_count_dict[word] = 0\n",
    "            word_count_dict[word] += 1\n",
    "        return word_count_dict\n",
    "\n",
    "    \n",
    "WordCounter.word_count(string)"
   ]
  },
  {
   "cell_type": "code",
   "execution_count": 32,
   "metadata": {},
   "outputs": [
    {
     "name": "stdout",
     "output_type": "stream",
     "text": [
      "Male\n",
      "Female\n"
     ]
    }
   ],
   "source": [
    "# Define a class Person and its two child classes: Male and Female. \n",
    "# All classes have a method \"getGender\" which can print \"Male\" for Male class and \"Female\" for Female class.\n",
    "\n",
    "class Person(object):\n",
    "    def getGender( self ):\n",
    "        return \"Unknown\"\n",
    "\n",
    "class Male( Person ):\n",
    "    def getGender( self ):\n",
    "        return \"Male\"\n",
    "\n",
    "class Female( Person ):\n",
    "    def getGender( self ):\n",
    "        return \"Female\"\n",
    "\n",
    "aMale = Male()\n",
    "aFemale= Female()\n",
    "print(aMale.getGender())\n",
    "print(aFemale.getGender())"
   ]
  },
  {
   "cell_type": "code",
   "execution_count": 15,
   "metadata": {},
   "outputs": [
    {
     "name": "stdout",
     "output_type": "stream",
     "text": [
      "I Play Hockey\n",
      "I Play Football\n",
      "I Love Hockey\n",
      "I Love Football\n",
      "You Play Hockey\n",
      "You Play Football\n",
      "You Love Hockey\n",
      "You Love Football\n"
     ]
    }
   ],
   "source": [
    "# Please write a program to generate all sentences where subject is in [\"I\", \"You\"] and \n",
    "# verb is in [\"Play\", \"Love\"] and the object is in [\"Hockey\",\"Football\"].\n",
    "\n",
    "subject = [\"I\", \"You\"]\n",
    "verb = [\"Play\", \"Love\"]\n",
    "object_ = [\"Hockey\", \"Football\"]\n",
    "\n",
    "for s in subject:\n",
    "    for v in verb:\n",
    "        for o in object_:\n",
    "            print(s,v,o)"
   ]
  },
  {
   "cell_type": "code",
   "execution_count": 19,
   "metadata": {},
   "outputs": [
    {
     "name": "stdout",
     "output_type": "stream",
     "text": [
      "Original string size\t 81\n",
      "Compressed string size\t 56\n",
      "Decompressed string size 81\n"
     ]
    }
   ],
   "source": [
    "# Please write a program to compress and decompress the string \n",
    "# \"hello world!hello world!hello world!hello world!\".\n",
    "\n",
    "import sys\n",
    "import zlib\n",
    "\n",
    "string = b\"hello world!hello world!hello world!hello world!\"\n",
    "print(\"Original string size\\t\", sys.getsizeof(string))\n",
    "compressed_string = zlib.compress(string)\n",
    "print(\"Compressed string size\\t\", sys.getsizeof(compressed_string))\n",
    "decompressed_string = zlib.decompress(compressed_string)\n",
    "print(\"Decompressed string size\", sys.getsizeof(decompressed_string))"
   ]
  },
  {
   "cell_type": "code",
   "execution_count": 30,
   "metadata": {},
   "outputs": [
    {
     "name": "stdout",
     "output_type": "stream",
     "text": [
      "[11, 12, 21, 23, 34, 45, 56, 57, 67]\n",
      "Index of element 67 is 9\n"
     ]
    }
   ],
   "source": [
    "# Please write a binary search function which searches an item in a sorted list. \n",
    "# The function should return the index of element to be searched in the list.\n",
    "\n",
    "def binary_search(array, element):\n",
    "    low = 0\n",
    "    high = len(array)\n",
    "    mid = int(low+high/2)\n",
    "    \n",
    "    while True:\n",
    "        mid = int(low+high/2)\n",
    "        if element == array[mid-1]:\n",
    "            return mid\n",
    "        if element > array[mid-1]:\n",
    "            low = mid + 1\n",
    "        if element < array[mid-1]:\n",
    "            high = mid - 1\n",
    "    return \"Element Not Found\"\n",
    "            \n",
    "array = [12, 34, 23, 21, 56, 67, 11, 57, 45]\n",
    "array.sort()\n",
    "print(array)\n",
    "element = 67\n",
    "print(\"Index of element\", element, \"is\", binary_search(array, element))"
   ]
  }
 ],
 "metadata": {
  "kernelspec": {
   "display_name": "Python 3",
   "language": "python",
   "name": "python3"
  },
  "language_info": {
   "codemirror_mode": {
    "name": "ipython",
    "version": 3
   },
   "file_extension": ".py",
   "mimetype": "text/x-python",
   "name": "python",
   "nbconvert_exporter": "python",
   "pygments_lexer": "ipython3",
   "version": "3.8.3"
  }
 },
 "nbformat": 4,
 "nbformat_minor": 4
}
