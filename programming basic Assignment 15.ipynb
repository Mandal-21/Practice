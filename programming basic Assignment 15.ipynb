{
 "cells": [
  {
   "cell_type": "code",
   "execution_count": 49,
   "metadata": {},
   "outputs": [
    {
     "name": "stdout",
     "output_type": "stream",
     "text": [
      "Enter range of number you want divisibility: 100\n",
      "0, 35, 70\n"
     ]
    }
   ],
   "source": [
    "# Please write a program using generator to print the numbers which can be divisible by 5 and\n",
    "# 7 between 0 and n in comma separated form while n is input by console.\n",
    "\n",
    "class Divisible:\n",
    "    def __init__(self, n):\n",
    "        self.n = n\n",
    "        \n",
    "    def divisibilty_by_7_and_5(self):\n",
    "        for num in range(n+1):\n",
    "            if (num%5 == 0) and (num%7 == 0):\n",
    "                yield num\n",
    "            \n",
    "n = int(input(\"Enter range of number you want divisibility: \"))\n",
    "l = []\n",
    "for i in Divisible.divisibilty_by_7_and_5(n+1):\n",
    "    l.append(str(i))\n",
    "print(\", \".join(l))"
   ]
  },
  {
   "cell_type": "code",
   "execution_count": 50,
   "metadata": {},
   "outputs": [
    {
     "name": "stdout",
     "output_type": "stream",
     "text": [
      "Enter range of number you want divisibility: 10\n",
      "0, 2, 4, 6, 8, 10\n"
     ]
    }
   ],
   "source": [
    "# Please write a program using generator to print the even numbers between 0 and n in comma\n",
    "# separated form while n is input by console.\n",
    "\n",
    "class EvenNumber:\n",
    "    def __init__(self, n):\n",
    "        self.n = n\n",
    "        \n",
    "    def even_num(self):\n",
    "        for num in range(n+1):\n",
    "            if (num%2 == 0):\n",
    "                yield num\n",
    "            \n",
    "n = int(input(\"Enter range of number you want divisibility: \"))\n",
    "l = []\n",
    "for i in EvenNumber.even_num(n):\n",
    "    l.append(str(i))\n",
    "print(\", \".join(l))"
   ]
  },
  {
   "cell_type": "code",
   "execution_count": 84,
   "metadata": {},
   "outputs": [
    {
     "name": "stdout",
     "output_type": "stream",
     "text": [
      "Fibonacci Series n: 7\n",
      "0, 1, 1, 2, 3, 5, 8, 13\n"
     ]
    }
   ],
   "source": [
    "# The Fibonacci Sequence is computed based on the following formula:\n",
    "# f(n)=0 if n=0\n",
    "# f(n)=1 if n=1\n",
    "# f(n)=f(n-1)+f(n-2) if n>1\n",
    "# Please write a program using list comprehension to print the Fibonacci Sequence in comma\n",
    "# separated form with a given n input by console.\n",
    "\n",
    "n = int(input(\"Fibonacci Series n: \"))\n",
    "series=[]\n",
    "series.append(0)\n",
    "series.append(1)\n",
    "_ = [series.append(series[k-1]+series[k-2]) for k in range(2,n+1)]\n",
    "print(\", \".join([str(i) for i in series]))"
   ]
  },
  {
   "cell_type": "code",
   "execution_count": 91,
   "metadata": {},
   "outputs": [
    {
     "name": "stdout",
     "output_type": "stream",
     "text": [
      "Your Email ID: amarmandal@microsoft.com\n",
      "User Name:\t amarmandal\n"
     ]
    }
   ],
   "source": [
    "# Assuming that we have some email addresses in the \"username@companyname.com\" format,\n",
    "# please write program to print the user name of a given email address. Both user names and\n",
    "# company names are composed of letters only.\n",
    "\n",
    "def user_name(email_id):\n",
    "    return email_id.split(\"@\")[0]\n",
    "\n",
    "email_id = input(\"Your Email ID: \")\n",
    "print(\"User Name:\\t \" + user_name(email_id))"
   ]
  },
  {
   "cell_type": "code",
   "execution_count": 111,
   "metadata": {},
   "outputs": [
    {
     "name": "stdout",
     "output_type": "stream",
     "text": [
      "529\n"
     ]
    }
   ],
   "source": [
    "# Define a class named Shape and its subclass Square. The Square class has an init function\n",
    "# which takes a length as argument. Both classes have a area function which can print the area\n",
    "# of the shape where Shape's area is 0 by default.\n",
    "\n",
    "class Shape(object):\n",
    "    def __init__(self):\n",
    "        pass\n",
    "\n",
    "    def area(self):\n",
    "        return 0\n",
    "\n",
    "class Square(Shape):\n",
    "    def __init__(self, l):\n",
    "        Shape.__init__(self)\n",
    "        self.length = l\n",
    "\n",
    "    def area(self):\n",
    "        return self.length*self.length\n",
    "\n",
    "aSquare= Square(23)\n",
    "print(aSquare.area())"
   ]
  }
 ],
 "metadata": {
  "kernelspec": {
   "display_name": "Python 3",
   "language": "python",
   "name": "python3"
  },
  "language_info": {
   "codemirror_mode": {
    "name": "ipython",
    "version": 3
   },
   "file_extension": ".py",
   "mimetype": "text/x-python",
   "name": "python",
   "nbconvert_exporter": "python",
   "pygments_lexer": "ipython3",
   "version": "3.8.3"
  }
 },
 "nbformat": 4,
 "nbformat_minor": 4
}
