{
 "cells": [
  {
   "cell_type": "code",
   "execution_count": 2,
   "metadata": {},
   "outputs": [
    {
     "data": {
      "text/plain": [
       "'in... in... incredible?'"
      ]
     },
     "execution_count": 2,
     "metadata": {},
     "output_type": "execute_result"
    }
   ],
   "source": [
    "# Question1. Write a function that stutters a word as if someone is struggling to read it. The\n",
    "# first two letters are repeated twice with an ellipsis ... and space after each, and then the\n",
    "# word is pronounced with a question mark ?.\n",
    "\n",
    "def stutter(word):\n",
    "    return word[0:2] + \"... \" + word[0:2] + \"... \" + word + \"?\"\n",
    "\n",
    "stutter(\"incredible\")"
   ]
  },
  {
   "cell_type": "code",
   "execution_count": 6,
   "metadata": {},
   "outputs": [
    {
     "name": "stdout",
     "output_type": "stream",
     "text": [
      "Radians: 20\n"
     ]
    },
    {
     "data": {
      "text/plain": [
       "1145.9"
      ]
     },
     "execution_count": 6,
     "metadata": {},
     "output_type": "execute_result"
    }
   ],
   "source": [
    "# Question 2.Create a function that takes an angle in radians and returns the corresponding\n",
    "# angle in degrees rounded to one decimal place.\n",
    "\n",
    "import math\n",
    "\n",
    "def radians_to_degree(radians):\n",
    "    return round(radians*180/math.pi, 1)\n",
    "\n",
    "radians_to_degree(float(input(\"Radians: \")))"
   ]
  },
  {
   "cell_type": "code",
   "execution_count": 8,
   "metadata": {},
   "outputs": [
    {
     "data": {
      "text/plain": [
       "False"
      ]
     },
     "execution_count": 8,
     "metadata": {},
     "output_type": "execute_result"
    }
   ],
   "source": [
    "# Question 3. In this challenge, establish if a given integer num is a Curzon number. If 1 plus\n",
    "# 2 elevated to num is exactly divisible by 1 plus 2 multiplied by num, then num is a Curzon\n",
    "# number.\n",
    "\n",
    "def is_curzon(num):\n",
    "    n1 = 2**num+1\n",
    "    n2 = 2*num+1\n",
    "    if n1%n2 == 0:\n",
    "        return True\n",
    "    return False\n",
    "\n",
    "is_curzon(10)"
   ]
  },
  {
   "cell_type": "code",
   "execution_count": 9,
   "metadata": {},
   "outputs": [
    {
     "name": "stdout",
     "output_type": "stream",
     "text": [
      "Side of Hexagon: 2\n"
     ]
    },
    {
     "data": {
      "text/plain": [
       "10.4"
      ]
     },
     "execution_count": 9,
     "metadata": {},
     "output_type": "execute_result"
    }
   ],
   "source": [
    "# Question 4.Given the side length x find the area of a hexagon.\n",
    "\n",
    "import math\n",
    "\n",
    "def area_of_hexagon(s):\n",
    "    return round(3*math.sqrt(3)*(s**2)/2, 1)\n",
    "\n",
    "\n",
    "area_of_hexagon(float(input(\"Side of Hexagon: \")))"
   ]
  },
  {
   "cell_type": "code",
   "execution_count": 19,
   "metadata": {},
   "outputs": [
    {
     "name": "stdout",
     "output_type": "stream",
     "text": [
      "101"
     ]
    }
   ],
   "source": [
    "# Question 5. Create a function that returns a base-2 (binary) representation of a base-10\n",
    "# (decimal) string number. To convert is simple: ((2) means base-2 and (10) means base-10)\n",
    "# 010101001(2) = 1 + 8 + 32 + 128.\n",
    "# Going from right to left, the value of the most right bit is 1, now from that every bit to the left\n",
    "# will be x2 the value, value of an 8 bit binary numbers are (256, 128, 64, 32, 16, 8, 4, 2, 1).\n",
    "\n",
    "\n",
    "def binary(num):\n",
    "    if num >= 1:\n",
    "        binary(num//2)\n",
    "        print(num%2, end = '')\n",
    "        \n",
    "binary(5)"
   ]
  }
 ],
 "metadata": {
  "kernelspec": {
   "display_name": "Python 3",
   "language": "python",
   "name": "python3"
  },
  "language_info": {
   "codemirror_mode": {
    "name": "ipython",
    "version": 3
   },
   "file_extension": ".py",
   "mimetype": "text/x-python",
   "name": "python",
   "nbconvert_exporter": "python",
   "pygments_lexer": "ipython3",
   "version": "3.8.3"
  }
 },
 "nbformat": 4,
 "nbformat_minor": 4
}
