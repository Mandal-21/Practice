{
 "cells": [
  {
   "cell_type": "code",
   "execution_count": 2,
   "metadata": {},
   "outputs": [
    {
     "data": {
      "text/plain": [
       "30"
      ]
     },
     "execution_count": 2,
     "metadata": {},
     "output_type": "execute_result"
    }
   ],
   "source": [
    "# Question1. Create a function that takes three arguments a, b, c and returns the sum of the\n",
    "# numbers that are evenly divided by c from the range a, b inclusive.\n",
    "\n",
    "def evenly_divisible(a, b, c):\n",
    "    sum_ = 0\n",
    "    for num in range(a, b+1):\n",
    "        if num%c == 0:\n",
    "            sum_ = sum_ + num\n",
    "    return sum_\n",
    "\n",
    "evenly_divisible(1, 10, 2)"
   ]
  },
  {
   "cell_type": "code",
   "execution_count": 75,
   "metadata": {},
   "outputs": [
    {
     "data": {
      "text/plain": [
       "False"
      ]
     },
     "execution_count": 75,
     "metadata": {},
     "output_type": "execute_result"
    }
   ],
   "source": [
    "# Question2. Create a function that returns True if a given inequality expression is correct and\n",
    "# False otherwise.\n",
    "\n",
    "def inequality_exp(s):\n",
    "    s = s.split()\n",
    "    nums = s[::2]\n",
    "    operator = s[1::2]\n",
    "    l_op = len(operator)\n",
    "    for i in range(len(nums)-1):\n",
    "        if operator[i] == \"<\":\n",
    "            if nums[i] < nums[i+1]:\n",
    "                continue\n",
    "            else:\n",
    "                return False\n",
    "        if operator[i] == \">\":\n",
    "            if nums[i] > nums[i+1]:\n",
    "                continue\n",
    "            else:\n",
    "                return False\n",
    "    return True\n",
    "\n",
    "inequality_exp(\"13 < 44 > 33 < 1\")"
   ]
  },
  {
   "cell_type": "code",
   "execution_count": 19,
   "metadata": {},
   "outputs": [
    {
     "data": {
      "text/plain": [
       "'m?nn?? m??s?'"
      ]
     },
     "execution_count": 19,
     "metadata": {},
     "output_type": "execute_result"
    }
   ],
   "source": [
    "# Question3. Create a function that replaces all the vowels in a string with a specified character.\n",
    "\n",
    "def replace_vowels(strings, special_char):\n",
    "    vowel = ['a', 'e', 'i', 'o', 'u']\n",
    "    l_string = list(strings)\n",
    "    for i, word in enumerate(l_string):\n",
    "        for v in vowel:\n",
    "            if v == word:\n",
    "                l_string[i] = special_char\n",
    "    return ''.join(l_string)\n",
    "\n",
    "replace_vowels(\"minnie mouse\", \"?\")"
   ]
  },
  {
   "cell_type": "code",
   "execution_count": 28,
   "metadata": {},
   "outputs": [
    {
     "data": {
      "text/plain": [
       "120"
      ]
     },
     "execution_count": 28,
     "metadata": {},
     "output_type": "execute_result"
    }
   ],
   "source": [
    "# Question4. Write a function that calculates the factorial of a number recursively.\n",
    "\n",
    "def fact(num):\n",
    "    if num == 1:\n",
    "        return num\n",
    "    return num*fact(num-1)\n",
    "\n",
    "fact(5)"
   ]
  },
  {
   "cell_type": "code",
   "execution_count": 47,
   "metadata": {},
   "outputs": [
    {
     "data": {
      "text/plain": [
       "5"
      ]
     },
     "execution_count": 47,
     "metadata": {},
     "output_type": "execute_result"
    }
   ],
   "source": [
    "# Question 5. Hamming distance is the number of characters that differ between two strings.\n",
    "\n",
    "def hammering_distance(string1, string2):\n",
    "    c = 0\n",
    "    m = list(zip(string1, string2))\n",
    "    return sum([c + 1 for s in m  if s[1] != s[0]])\n",
    "        \n",
    "hammering_distance(\"abcde\", \"wcdas\")"
   ]
  }
 ],
 "metadata": {
  "kernelspec": {
   "display_name": "Python 3",
   "language": "python",
   "name": "python3"
  },
  "language_info": {
   "codemirror_mode": {
    "name": "ipython",
    "version": 3
   },
   "file_extension": ".py",
   "mimetype": "text/x-python",
   "name": "python",
   "nbconvert_exporter": "python",
   "pygments_lexer": "ipython3",
   "version": "3.8.3"
  }
 },
 "nbformat": 4,
 "nbformat_minor": 4
}
