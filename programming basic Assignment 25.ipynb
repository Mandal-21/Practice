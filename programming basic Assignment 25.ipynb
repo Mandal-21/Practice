{
 "cells": [
  {
   "cell_type": "code",
   "execution_count": 4,
   "metadata": {},
   "outputs": [
    {
     "data": {
      "text/plain": [
       "3"
      ]
     },
     "execution_count": 4,
     "metadata": {},
     "output_type": "execute_result"
    }
   ],
   "source": [
    "# Question1\n",
    "# Create a function that takes three integer arguments (a, b, c) and returns the amount of\n",
    "# integers which are of equal value.\n",
    "\n",
    "def equal(a, b, c):\n",
    "    count_a = 1\n",
    "    count_b = 1\n",
    "    count_c = 1\n",
    "    if a == b:\n",
    "        count_a += 1\n",
    "        count_b += 1\n",
    "    if b == c:\n",
    "        count_b += 1\n",
    "        count_c += 1\n",
    "    if c == a:\n",
    "        count_c += 1\n",
    "        count_a += 1\n",
    "    else:\n",
    "        return 0\n",
    "    return max(count_a, count_b, count_c)\n",
    "\n",
    "equal(1, 1, 1)"
   ]
  },
  {
   "cell_type": "code",
   "execution_count": 11,
   "metadata": {},
   "outputs": [
    {
     "data": {
      "text/plain": [
       "[('B', 2), ('C', 3), ('D', 1)]"
      ]
     },
     "execution_count": 11,
     "metadata": {},
     "output_type": "execute_result"
    }
   ],
   "source": [
    "# Question2\n",
    "# Write a function that converts a dictionary into a list of keys-values tuples.\n",
    "\n",
    "def dict_to_list(dict_: dict)->list:\n",
    "    return sorted([(key, value) for key, value in dict_.items()])\n",
    "\n",
    "dict_to_list({\n",
    "\"D\": 1,\n",
    "\"B\": 2,\n",
    "\"C\": 3\n",
    "})"
   ]
  },
  {
   "cell_type": "code",
   "execution_count": 12,
   "metadata": {},
   "outputs": [
    {
     "data": {
      "text/plain": [
       "{'p': 'P', 's': 'S'}"
      ]
     },
     "execution_count": 12,
     "metadata": {},
     "output_type": "execute_result"
    }
   ],
   "source": [
    "# Question3\n",
    "# Write a function that creates a dictionary with each (key, value) pair being the (lower case,\n",
    "# upper case) versions of a letter, respectively.\n",
    "\n",
    "def mapping(lst: list)-> dict:\n",
    "    return {i:i.upper() for i in lst}\n",
    "\n",
    "mapping(['p', 's'])"
   ]
  },
  {
   "cell_type": "code",
   "execution_count": 14,
   "metadata": {},
   "outputs": [
    {
     "data": {
      "text/plain": [
       "'upplus und bununus'"
      ]
     },
     "execution_count": 14,
     "metadata": {},
     "output_type": "execute_result"
    }
   ],
   "source": [
    "# Question4\n",
    "# Write a function, that replaces all vowels in a string with a specified vowel.\n",
    "\n",
    "def vow_replace(string: str, char: str)-> str:\n",
    "    vowels = ['a', 'e', 'i', 'o', 'u']\n",
    "    l_s = []\n",
    "    for element in string:\n",
    "        if element in vowels:\n",
    "            l_s.append(char)\n",
    "        else:\n",
    "            l_s.append(element)\n",
    "    return \"\".join(l_s)\n",
    "\n",
    "vow_replace('apples and bananas', 'u')"
   ]
  },
  {
   "cell_type": "code",
   "execution_count": 19,
   "metadata": {},
   "outputs": [
    {
     "data": {
      "text/plain": [
       "'THe LiTTLe meRmaiD'"
      ]
     },
     "execution_count": 19,
     "metadata": {},
     "output_type": "execute_result"
    }
   ],
   "source": [
    "# Question5\n",
    "# Create a function that takes a string as input and capitalizes a letter if its ASCII code is even\n",
    "# and returns its lower case version if its ASCII code is odd.\n",
    "\n",
    "def ascii_capitalize(string: str)->str:\n",
    "    l_s = []\n",
    "    for element in string:\n",
    "        if ord(element)%2 == 0:\n",
    "            l_s.append(element.upper())\n",
    "        else:\n",
    "            l_s.append(element.lower())\n",
    "            \n",
    "    return \"\".join(l_s)\n",
    "\n",
    "ascii_capitalize('THE LITTLE MERMAID')"
   ]
  },
  {
   "cell_type": "code",
   "execution_count": null,
   "metadata": {},
   "outputs": [],
   "source": []
  }
 ],
 "metadata": {
  "kernelspec": {
   "display_name": "Python 3",
   "language": "python",
   "name": "python3"
  },
  "language_info": {
   "codemirror_mode": {
    "name": "ipython",
    "version": 3
   },
   "file_extension": ".py",
   "mimetype": "text/x-python",
   "name": "python",
   "nbconvert_exporter": "python",
   "pygments_lexer": "ipython3",
   "version": "3.8.3"
  }
 },
 "nbformat": 4,
 "nbformat_minor": 4
}
