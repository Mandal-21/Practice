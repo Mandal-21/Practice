{
 "cells": [
  {
   "cell_type": "code",
   "execution_count": 6,
   "metadata": {},
   "outputs": [
    {
     "name": "stdout",
     "output_type": "stream",
     "text": [
      "Factorial of 9 is 362880\n"
     ]
    }
   ],
   "source": [
    "# 1. Write a Python Program to Find the Factorial of a Number?\n",
    "\n",
    "def fact(num):\n",
    "    factorial = 1\n",
    "    for i in range(1, num+1):\n",
    "        factorial = factorial * i\n",
    "    return factorial\n",
    "\n",
    "num = 9\n",
    "print(f'Factorial of {num} is',fact(num))"
   ]
  },
  {
   "cell_type": "code",
   "execution_count": 12,
   "metadata": {},
   "outputs": [
    {
     "name": "stdout",
     "output_type": "stream",
     "text": [
      "5\t x \t1 \t= 5\n",
      "5\t x \t2 \t= 10\n",
      "5\t x \t3 \t= 15\n",
      "5\t x \t4 \t= 20\n",
      "5\t x \t5 \t= 25\n",
      "5\t x \t6 \t= 30\n",
      "5\t x \t7 \t= 35\n",
      "5\t x \t8 \t= 40\n",
      "5\t x \t9 \t= 45\n",
      "5\t x \t10 \t= 50\n"
     ]
    }
   ],
   "source": [
    "# 2. Write a Python Program to Display the multiplication Table?\n",
    "\n",
    "def mul_table(num):\n",
    "    for i in range(1, 11):\n",
    "        print(f'{num}\\t x \\t{i} \\t= {num*i}')\n",
    "    \n",
    "mul_table(5)"
   ]
  },
  {
   "cell_type": "code",
   "execution_count": 18,
   "metadata": {},
   "outputs": [
    {
     "name": "stdout",
     "output_type": "stream",
     "text": [
      "Fibonacii Series : \n",
      "0 1 1 2 3 5 8 13 21 34 "
     ]
    }
   ],
   "source": [
    "# 3. Write a Python Program to Print the Fibonacci sequence?\n",
    "\n",
    "def fibonacii(num):\n",
    "    a = 0\n",
    "    b = 1\n",
    "    sum_ = 0\n",
    "    c = 0\n",
    "    while c < num:\n",
    "        print(sum_, end =' ')\n",
    "        a = b\n",
    "        b = sum_\n",
    "        sum_ = a+b\n",
    "        c = c + 1\n",
    "\n",
    "print(\"Fibonacii Series : \")\n",
    "fibonacii(10)"
   ]
  },
  {
   "cell_type": "code",
   "execution_count": 30,
   "metadata": {},
   "outputs": [
    {
     "name": "stdout",
     "output_type": "stream",
     "text": [
      "1634\n",
      "Amstrong\n"
     ]
    }
   ],
   "source": [
    "# 4. Write a Python Program to Check Armstrong Number?\n",
    "\n",
    "def armstrong(input_num):\n",
    "    len_of_num = len(list(input_num))\n",
    "    list_input = list(input_num)\n",
    "    sum_ = 0\n",
    "    for i, n in enumerate(list_input):\n",
    "        sum_ += int(list_input[i])**len_of_num\n",
    "    if input_num == str(sum_):\n",
    "        return 'Amstrong'\n",
    "    else:\n",
    "        return 'Not Amstrong'\n",
    "    \n",
    "print('{0}'.format(armstrong(input())))"
   ]
  },
  {
   "cell_type": "code",
   "execution_count": 35,
   "metadata": {},
   "outputs": [
    {
     "name": "stdout",
     "output_type": "stream",
     "text": [
      "350 Not Amstrong\n",
      "351 Not Amstrong\n",
      "352 Not Amstrong\n",
      "353 Not Amstrong\n",
      "354 Not Amstrong\n",
      "355 Not Amstrong\n",
      "356 Not Amstrong\n",
      "357 Not Amstrong\n",
      "358 Not Amstrong\n",
      "359 Not Amstrong\n",
      "360 Not Amstrong\n",
      "361 Not Amstrong\n",
      "362 Not Amstrong\n",
      "363 Not Amstrong\n",
      "364 Not Amstrong\n",
      "365 Not Amstrong\n",
      "366 Not Amstrong\n",
      "367 Not Amstrong\n",
      "368 Not Amstrong\n",
      "369 Not Amstrong\n",
      "370 Amstrong\n",
      "371 Amstrong\n",
      "372 Not Amstrong\n",
      "373 Not Amstrong\n",
      "374 Not Amstrong\n"
     ]
    }
   ],
   "source": [
    "# 5. Write a Python Program to Find Armstrong Number in an Interval?\n",
    "\n",
    "def armstrong(input_num):\n",
    "    len_of_num = len(list(input_num))\n",
    "    list_input = list(input_num)\n",
    "    sum_ = 0\n",
    "    for i, n in enumerate(list_input):\n",
    "        sum_ += int(list_input[i])**len_of_num\n",
    "    if input_num == str(sum_):\n",
    "        return 'Amstrong'\n",
    "    else:\n",
    "        return 'Not Amstrong'\n",
    "    \n",
    "for i in range(350, 375):\n",
    "    print(f'{i}', (armstrong(str(i))))"
   ]
  },
  {
   "cell_type": "code",
   "execution_count": 39,
   "metadata": {},
   "outputs": [
    {
     "name": "stdout",
     "output_type": "stream",
     "text": [
      "Sum of 101 natural number is 5151.0\n"
     ]
    }
   ],
   "source": [
    "# 6. Write a Python Program to Find the Sum of Natural Numbers?\n",
    "\n",
    "def sum_of_natural_nos(num):\n",
    "    return num*(num+1)/2\n",
    "\n",
    "n_num = 101\n",
    "print(f\"Sum of {n_num} natural number is\", round(sum_of_natural_nos(n_num), 1))"
   ]
  }
 ],
 "metadata": {
  "kernelspec": {
   "display_name": "Python 3",
   "language": "python",
   "name": "python3"
  },
  "language_info": {
   "codemirror_mode": {
    "name": "ipython",
    "version": 3
   },
   "file_extension": ".py",
   "mimetype": "text/x-python",
   "name": "python",
   "nbconvert_exporter": "python",
   "pygments_lexer": "ipython3",
   "version": "3.8.3"
  }
 },
 "nbformat": 4,
 "nbformat_minor": 4
}
