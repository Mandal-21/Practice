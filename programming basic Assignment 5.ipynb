{
 "cells": [
  {
   "cell_type": "code",
   "execution_count": 4,
   "metadata": {},
   "outputs": [
    {
     "name": "stdout",
     "output_type": "stream",
     "text": [
      "LCM is 216\n"
     ]
    }
   ],
   "source": [
    "# 1. Write a Python Program to Find LCM?\n",
    "\n",
    "# In the function, we first determine the greater of the two numbers since the L.C.M. \n",
    "# can only be greater than or equal to the largest number. \n",
    "# We then use an infinite while loop to go from that number and beyond.\n",
    "# In each iteration, we check if both the numbers perfectly divide our number. \n",
    "# If so, we store the number as L.C.M. and break from the loop. \n",
    "# Otherwise, the number is incremented by 1 and the loop continues.\n",
    "\n",
    "def lcm(n1, n2):\n",
    "    max_num = max([n1, n2])\n",
    "    while (True):\n",
    "        if ((max_num % n1 == 0) and (max_num % n2 == 0)):\n",
    "            return max_num\n",
    "        max_num += 1\n",
    "\n",
    "print(\"LCM is\", lcm(54, 24))"
   ]
  },
  {
   "cell_type": "code",
   "execution_count": 7,
   "metadata": {},
   "outputs": [
    {
     "name": "stdout",
     "output_type": "stream",
     "text": [
      "HCF is 6\n"
     ]
    }
   ],
   "source": [
    "# 2. Write a Python Program to Find HCF?\n",
    "\n",
    "# Smallest number that is divisible by both the numbers\n",
    "\n",
    "def find_hcf(n1, n2):\n",
    "    min_num = min([n1, n2])\n",
    "    for i in range(1, min_num + 1):\n",
    "        if ((n1 % i == 0) and (n2 % i == 0)):\n",
    "            hcf = i\n",
    "    return hcf\n",
    "    \n",
    "print(\"HCF is\", find_hcf(12, 30))"
   ]
  },
  {
   "cell_type": "code",
   "execution_count": 8,
   "metadata": {},
   "outputs": [
    {
     "name": "stdout",
     "output_type": "stream",
     "text": [
      "Octal : 0o770\n",
      "Binary : 0b111111000\n",
      "Hexadecimal : 0x1f8\n"
     ]
    }
   ],
   "source": [
    "# 3. Write a Python Program to Convert Decimal to Binary, Octal and Hexadecimal?\n",
    "\n",
    "num = 504\n",
    "\n",
    "print(\"Octal :\", oct(num))\n",
    "print(\"Binary :\", bin(num))\n",
    "print(\"Hexadecimal :\", hex(num))"
   ]
  },
  {
   "cell_type": "code",
   "execution_count": 13,
   "metadata": {},
   "outputs": [
    {
     "name": "stdout",
     "output_type": "stream",
     "text": [
      "ASCII value of 'a' is 97\n"
     ]
    }
   ],
   "source": [
    "# 4. Write a Python Program To Find ASCII value of a character?\n",
    "\n",
    "char = 'a'\n",
    "print(f\"ASCII value of '{char}' is {ord(char)}\")"
   ]
  },
  {
   "cell_type": "code",
   "execution_count": 29,
   "metadata": {},
   "outputs": [
    {
     "data": {
      "text/plain": [
       "15708"
      ]
     },
     "execution_count": 29,
     "metadata": {},
     "output_type": "execute_result"
    }
   ],
   "source": [
    "# 5. Write a Python Program to Make a Simple Calculator with 4 basic mathematical operations?\n",
    "\n",
    "def calc(operation, *args):  \n",
    "    \n",
    "    if operation == 'mul':\n",
    "        prod = 1\n",
    "        for num in args:\n",
    "            prod = prod * num\n",
    "        return prod\n",
    "    \n",
    "    elif operation == 'sub':\n",
    "        s = 0\n",
    "        for num in args:\n",
    "            s = s - num\n",
    "        return s\n",
    "    \n",
    "    elif operation == 'add':\n",
    "        a = 0\n",
    "        for num in args:\n",
    "            a = a + num\n",
    "        return a\n",
    "    \n",
    "    elif operation == 'div':\n",
    "        d = 1\n",
    "        for num in args:\n",
    "            d = d/num\n",
    "        return d\n",
    "    \n",
    "    else:\n",
    "        return 'Operation does not match'\n",
    "    \n",
    "calc('mul', 21, 22, 34)"
   ]
  }
 ],
 "metadata": {
  "kernelspec": {
   "display_name": "Python 3",
   "language": "python",
   "name": "python3"
  },
  "language_info": {
   "codemirror_mode": {
    "name": "ipython",
    "version": 3
   },
   "file_extension": ".py",
   "mimetype": "text/x-python",
   "name": "python",
   "nbconvert_exporter": "python",
   "pygments_lexer": "ipython3",
   "version": "3.8.3"
  }
 },
 "nbformat": 4,
 "nbformat_minor": 4
}
