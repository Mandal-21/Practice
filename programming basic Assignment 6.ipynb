{
 "cells": [
  {
   "cell_type": "code",
   "execution_count": 3,
   "metadata": {},
   "outputs": [
    {
     "name": "stdout",
     "output_type": "stream",
     "text": [
      "0 1 1 2 3 5 8 13 21 34 "
     ]
    }
   ],
   "source": [
    "# 1. Write a Python Program to Display Fibonacci Sequence Using Recursion?\n",
    "\n",
    "def rec_fibonacii(num):\n",
    "    if num <= 1:\n",
    "        return num\n",
    "    else:\n",
    "        return (rec_fibonacii(num - 1) + rec_fibonacii(num - 2))\n",
    "    \n",
    "nth_num = 10\n",
    "for i in range(nth_num):\n",
    "    print(rec_fibonacii(i), end = ' ')"
   ]
  },
  {
   "cell_type": "code",
   "execution_count": 11,
   "metadata": {},
   "outputs": [
    {
     "name": "stdout",
     "output_type": "stream",
     "text": [
      "Recusion of 5 is 120\n"
     ]
    }
   ],
   "source": [
    "# 2. Write a Python Program to Find Factorial of Number Using Recursion?\n",
    "\n",
    "def rec_factorial(num):\n",
    "    if num == 1:\n",
    "        return num\n",
    "    else:\n",
    "        return num * rec_factorial(num - 1)\n",
    "\n",
    "num = 5\n",
    "print(\"Recusion of\", num, \"is\", rec_factorial(num))"
   ]
  },
  {
   "cell_type": "code",
   "execution_count": 15,
   "metadata": {},
   "outputs": [
    {
     "name": "stdout",
     "output_type": "stream",
     "text": [
      "BMI for weight 70 kg and height 1.67 m is 25.1\n"
     ]
    }
   ],
   "source": [
    "# 3. Write a Python Program to calculate your Body Mass Index?\n",
    "\n",
    "# BMI = kg/m^2\n",
    "\n",
    "def bmi(weight, height):\n",
    "    return weight/height**2\n",
    "\n",
    "weight = 70\n",
    "height = 1.67\n",
    "print('BMI for weight', weight, \"kg and height\", height, \"m is\", round(bmi(weight, height), 2))"
   ]
  },
  {
   "cell_type": "code",
   "execution_count": 18,
   "metadata": {},
   "outputs": [
    {
     "name": "stdout",
     "output_type": "stream",
     "text": [
      "Natural Log of 13 is 2.5649\n"
     ]
    }
   ],
   "source": [
    "# 4. Write a Python Program to calculate the natural logarithm of any number?\n",
    "\n",
    "import math\n",
    "\n",
    "num = 13\n",
    "print(\"Natural Log of\", num, \"is\", round(math.log(num), 4))"
   ]
  },
  {
   "cell_type": "code",
   "execution_count": 20,
   "metadata": {},
   "outputs": [
    {
     "name": "stdout",
     "output_type": "stream",
     "text": [
      "Cube Sum of 10 is 3025.0\n"
     ]
    }
   ],
   "source": [
    "# 5. Write a Python Program for cube sum of first n natural numbers?\n",
    "\n",
    "# (n(n+1)/2)^2\n",
    "\n",
    "def cube_sum(num):\n",
    "    return (num*(num+1)/2)**2\n",
    "\n",
    "num = 10\n",
    "print(\"Cube Sum of\", num, \"is\", cube_sum(num))"
   ]
  }
 ],
 "metadata": {
  "kernelspec": {
   "display_name": "Python 3",
   "language": "python",
   "name": "python3"
  },
  "language_info": {
   "codemirror_mode": {
    "name": "ipython",
    "version": 3
   },
   "file_extension": ".py",
   "mimetype": "text/x-python",
   "name": "python",
   "nbconvert_exporter": "python",
   "pygments_lexer": "ipython3",
   "version": "3.8.3"
  }
 },
 "nbformat": 4,
 "nbformat_minor": 4
}
