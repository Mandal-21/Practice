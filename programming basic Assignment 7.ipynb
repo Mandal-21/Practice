{
 "cells": [
  {
   "cell_type": "code",
   "execution_count": 10,
   "metadata": {},
   "outputs": [
    {
     "name": "stdout",
     "output_type": "stream",
     "text": [
      "Sum of the given array is : 28\n"
     ]
    }
   ],
   "source": [
    "# 1. Write a Python Program to find sum of array?\n",
    "\n",
    "def sum_of_array(arrays):\n",
    "    return sum(arrays)\n",
    "\n",
    "arrays = [1, 2, 3, 4, 5, 6, 7]\n",
    "print('Sum of the given array is :', sum_of_array(arrays))"
   ]
  },
  {
   "cell_type": "code",
   "execution_count": 12,
   "metadata": {},
   "outputs": [
    {
     "name": "stdout",
     "output_type": "stream",
     "text": [
      "Largest element in [53, 45, 7, 34, 23, 2] is 53\n"
     ]
    }
   ],
   "source": [
    "# 2. Write a Python Program to find largest element in an array?\n",
    "\n",
    "def largest_element_in_array(array):\n",
    "    max_ = array[0]\n",
    "    for i, e in enumerate(array):\n",
    "        if max_ < array[i]:\n",
    "            max_ = array[i]\n",
    "    return max_\n",
    "\n",
    "array = [53, 45, 7, 34, 23, 2]\n",
    "print(f'Largest element in {array} is {largest_element_in_array(array)}')"
   ]
  },
  {
   "cell_type": "code",
   "execution_count": 18,
   "metadata": {},
   "outputs": [
    {
     "data": {
      "text/plain": [
       "[2, 4, 23, 12, 34]"
      ]
     },
     "execution_count": 18,
     "metadata": {},
     "output_type": "execute_result"
    }
   ],
   "source": [
    "# 3. Write a Python Program for array rotation?\n",
    "\n",
    "def rotation(array, d):\n",
    "    \"\"\"\n",
    "        array = collection of data items\n",
    "        d = size to rotate an array\n",
    "    \"\"\"\n",
    "    n = len(array)\n",
    "    if d < n:\n",
    "        temp = array[d:]\n",
    "        temp.extend(array[:d])\n",
    "    return temp\n",
    "\n",
    "rotation([12, 34, 2, 4, 23], 2)"
   ]
  },
  {
   "cell_type": "code",
   "execution_count": 20,
   "metadata": {},
   "outputs": [
    {
     "data": {
      "text/plain": [
       "[34, 53, 45, 3, 2]"
      ]
     },
     "execution_count": 20,
     "metadata": {},
     "output_type": "execute_result"
    }
   ],
   "source": [
    "# 4. Write a Python Program to Split the array and add the first part to the end?\n",
    "\n",
    "def spliting_array(array, d):\n",
    "    \"\"\"\n",
    "        array = collection of data items\n",
    "        d = size to split an array\n",
    "    \"\"\"\n",
    "    temp = array[d:]\n",
    "    temp.extend(array[:d])\n",
    "    return temp\n",
    "\n",
    "spliting_array([3, 2, 34, 53, 45], 2)"
   ]
  },
  {
   "cell_type": "code",
   "execution_count": 33,
   "metadata": {},
   "outputs": [
    {
     "data": {
      "text/plain": [
       "True"
      ]
     },
     "execution_count": 33,
     "metadata": {},
     "output_type": "execute_result"
    }
   ],
   "source": [
    "# 5. Write a Python Program to check if given array is Monotonic?\n",
    "\n",
    "def monotonous_array(array):\n",
    "    return all([array[i] >= array[i+1] for i in range(len(array) - 1)] or\n",
    "               [array[i+1] >= array[i] for i in range(len(array) - 1)])\n",
    "\n",
    "monotonous_array([5, 4, 3, 2, 1])"
   ]
  }
 ],
 "metadata": {
  "kernelspec": {
   "display_name": "Python 3",
   "language": "python",
   "name": "python3"
  },
  "language_info": {
   "codemirror_mode": {
    "name": "ipython",
    "version": 3
   },
   "file_extension": ".py",
   "mimetype": "text/x-python",
   "name": "python",
   "nbconvert_exporter": "python",
   "pygments_lexer": "ipython3",
   "version": "3.8.3"
  }
 },
 "nbformat": 4,
 "nbformat_minor": 4
}
