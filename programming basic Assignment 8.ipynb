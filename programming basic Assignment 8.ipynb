{
 "cells": [
  {
   "cell_type": "code",
   "execution_count": 13,
   "metadata": {},
   "outputs": [
    {
     "name": "stdout",
     "output_type": "stream",
     "text": [
      "[2, 5, 5]\n",
      "[58, 16, 10]\n",
      "[45, 56, 62]\n"
     ]
    }
   ],
   "source": [
    "# 1. Write a Python Program to Add Two Matrices?\n",
    "\n",
    "A = [[1, 2, 4], [2, 4, 5], [4, 5, 6]]\n",
    "B = [[1, 3, 1], [56, 12, 5], [41, 51, 56]]\n",
    "\n",
    "result = [[0, 0, 0], [0, 0, 0], [0, 0, 0]]\n",
    "\n",
    "for i in range(len(A)):\n",
    "    for j in range(len(B)):\n",
    "        result[i][j] = A[i][j] + B[i][j]\n",
    "        \n",
    "for mat in result:\n",
    "    print(mat)"
   ]
  },
  {
   "cell_type": "code",
   "execution_count": 14,
   "metadata": {},
   "outputs": [
    {
     "name": "stdout",
     "output_type": "stream",
     "text": [
      "[1, 6, 4]\n",
      "[112, 48, 25]\n",
      "[164, 255, 336]\n"
     ]
    }
   ],
   "source": [
    "# 2. Write a Python Program to Multiply Two Matrices?\n",
    "\n",
    "A = [[1, 2, 4], [2, 4, 5], [4, 5, 6]]\n",
    "B = [[1, 3, 1], [56, 12, 5], [41, 51, 56]]\n",
    "\n",
    "result = [[0, 0, 0], [0, 0, 0], [0, 0, 0]]\n",
    "\n",
    "for i in range(len(A)):\n",
    "    for j in range(len(B)):\n",
    "        result[i][j] = A[i][j] * B[i][j]\n",
    "        \n",
    "for mat in result:\n",
    "    print(mat)"
   ]
  },
  {
   "cell_type": "code",
   "execution_count": 17,
   "metadata": {},
   "outputs": [
    {
     "name": "stdout",
     "output_type": "stream",
     "text": [
      "[10, 2, 4]\n",
      "[2, 4, 5]\n",
      "[1, 5, 6]\n"
     ]
    }
   ],
   "source": [
    "# 3. Write a Python Program to Transpose a Matrix?\n",
    "\n",
    "A = [[10, 2, 1], [2, 4, 5], [4, 5, 6]]\n",
    "\n",
    "result = [[0, 0, 0], [0, 0, 0], [0, 0, 0]]\n",
    "\n",
    "for i in range(len(A)):\n",
    "    for j in range(len(B)):\n",
    "        result[i][j] = A[j][i]\n",
    "        \n",
    "for mat in result:\n",
    "    print(mat)"
   ]
  },
  {
   "cell_type": "code",
   "execution_count": 31,
   "metadata": {},
   "outputs": [
    {
     "name": "stdout",
     "output_type": "stream",
     "text": [
      "a\n",
      "good\n",
      "idea\n",
      "is\n",
      "not\n",
      "this\n",
      "usualy\n"
     ]
    }
   ],
   "source": [
    "# 4. Write a Python Program to Sort Words in Alphabetic Order?\n",
    "\n",
    "\n",
    "\n",
    "def alpha_order(sentence):\n",
    "    sent_list = [sent.lower() for sent in sentence.split()]\n",
    "    sent_list.sort()\n",
    "    return sent_list\n",
    "\n",
    "sorted_words = alpha_order(sentence = 'This is usualy not a good idea')\n",
    "for i in sorted_words:\n",
    "    print(i)"
   ]
  },
  {
   "cell_type": "code",
   "execution_count": 35,
   "metadata": {},
   "outputs": [
    {
     "name": "stdout",
     "output_type": "stream",
     "text": [
      "Hey How are you Im good\n"
     ]
    }
   ],
   "source": [
    "# 5. Write a Python Program to Remove Punctuation From a String?\n",
    "\n",
    "punctuations = \"!#$%&'()*+,-./:;<=>?@[\\]^_`{|}~\"\n",
    "sentence = \"Hey, How are you? I'm good!\"\n",
    "without_pun = ''\n",
    "for word in sentence:\n",
    "    if word not in punctuations:\n",
    "        without_pun += word\n",
    "        \n",
    "print(without_pun)"
   ]
  }
 ],
 "metadata": {
  "kernelspec": {
   "display_name": "Python 3",
   "language": "python",
   "name": "python3"
  },
  "language_info": {
   "codemirror_mode": {
    "name": "ipython",
    "version": 3
   },
   "file_extension": ".py",
   "mimetype": "text/x-python",
   "name": "python",
   "nbconvert_exporter": "python",
   "pygments_lexer": "ipython3",
   "version": "3.8.3"
  }
 },
 "nbformat": 4,
 "nbformat_minor": 4
}
