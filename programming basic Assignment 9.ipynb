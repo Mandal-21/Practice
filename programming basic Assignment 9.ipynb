{
 "cells": [
  {
   "cell_type": "code",
   "execution_count": 8,
   "metadata": {},
   "outputs": [
    {
     "name": "stdout",
     "output_type": "stream",
     "text": [
      "175 is Disarium Number\n"
     ]
    }
   ],
   "source": [
    "# 1. Write a Python program to check if the given number is a Disarium Number?\n",
    "\n",
    "def disarium(num):\n",
    "    sum_num = 0\n",
    "    for i, n in enumerate(num):\n",
    "        sum_num += int(n)**(i+1)\n",
    "    if str(sum_num) == num:\n",
    "        return 'is Disarium Number'\n",
    "    else:\n",
    "        return 'is not a Disarium Number'\n",
    "        \n",
    "num = 175\n",
    "print(f\"{num} {disarium(str(num))}\")"
   ]
  },
  {
   "cell_type": "code",
   "execution_count": 14,
   "metadata": {},
   "outputs": [
    {
     "name": "stdout",
     "output_type": "stream",
     "text": [
      "1 2 3 4 5 6 7 8 9 89 "
     ]
    }
   ],
   "source": [
    "# 2. Write a Python program to print all disarium numbers between 1 to 100?\n",
    "\n",
    "def disarium(num):\n",
    "    sum_num = 0\n",
    "    for i, n in enumerate(num):\n",
    "        sum_num += int(n)**(i+1)\n",
    "    if str(sum_num) == num:\n",
    "        return sum_num\n",
    "\n",
    "\n",
    "for i in range(1, 100):\n",
    "    result = disarium(str(i))\n",
    "    if result == i:\n",
    "        print(result, end = ' ')"
   ]
  },
  {
   "cell_type": "code",
   "execution_count": 28,
   "metadata": {},
   "outputs": [
    {
     "name": "stdout",
     "output_type": "stream",
     "text": [
      "320 is Happy Number\n"
     ]
    }
   ],
   "source": [
    "# 3. Write a Python program to check if the given number is Happy Number?\n",
    "\n",
    "def happy_number(num):\n",
    "    sum_num = 0\n",
    "    while num > 0:\n",
    "        rem = num%10\n",
    "        sum_num = sum_num + (rem*rem)\n",
    "        num = num//10\n",
    "    return sum_num\n",
    "\n",
    "num = 320\n",
    "result = num\n",
    "while(result != 1 and result != 4): \n",
    "    result = happy_number(result)\n",
    "    \n",
    "if result == 1:\n",
    "    print(f\"{num} is Happy Number\")\n",
    "else:\n",
    "    print(f\"{num} is not a Happy Number\")"
   ]
  },
  {
   "cell_type": "code",
   "execution_count": 29,
   "metadata": {},
   "outputs": [
    {
     "name": "stdout",
     "output_type": "stream",
     "text": [
      "1 7 10 13 19 23 28 31 32 44 49 68 70 79 82 86 91 94 97 "
     ]
    }
   ],
   "source": [
    "# 4. Write a Python program to print all happy numbers between 1 and 100?\n",
    "\n",
    "def happy_number(num):\n",
    "    sum_num = 0\n",
    "    while num > 0:\n",
    "        rem = num%10\n",
    "        sum_num = sum_num + (rem*rem)\n",
    "        num = num//10\n",
    "    return sum_num\n",
    "\n",
    "for num in range(1, 100):\n",
    "    result = num\n",
    "    while(result != 1 and result != 4): \n",
    "        result = happy_number(result)\n",
    "\n",
    "    if result == 1:\n",
    "        print(num, end = \" \")"
   ]
  },
  {
   "cell_type": "code",
   "execution_count": 35,
   "metadata": {},
   "outputs": [
    {
     "name": "stdout",
     "output_type": "stream",
     "text": [
      "11 is not a Harshad Number\n"
     ]
    }
   ],
   "source": [
    "# 5. Write a Python program to determine whether the given number is a Harshad Number?\n",
    "\n",
    "def harshad_number(num):\n",
    "    sum_ = 0\n",
    "    for n in num:\n",
    "        sum_ += int(n)\n",
    "    if int(num) % sum_ == 0:\n",
    "        return num\n",
    "\n",
    "num = 11\n",
    "result = harshad_number(str(num))\n",
    "if result:\n",
    "    print(num, \"is a Harshad Number\")\n",
    "else:\n",
    "    print(num, \"is not a Harshad Number\")"
   ]
  },
  {
   "cell_type": "code",
   "execution_count": 39,
   "metadata": {},
   "outputs": [
    {
     "name": "stdout",
     "output_type": "stream",
     "text": [
      "2 6 12 20 30 42 56 72 90 "
     ]
    }
   ],
   "source": [
    "# 6. Write a Python program to print all pronic numbers between 1 and 100?\n",
    "\n",
    "def is_pronic_num(num):\n",
    "    for i in range(1, num+1):\n",
    "        FLAG = False\n",
    "        if i*(i+1) == num:\n",
    "            FLAG = True\n",
    "            break\n",
    "    return FLAG\n",
    "\n",
    "for n in range(1, 100):\n",
    "    result = is_pronic_num(n)\n",
    "    if result:\n",
    "        print(n, end = ' ')"
   ]
  }
 ],
 "metadata": {
  "kernelspec": {
   "display_name": "Python 3",
   "language": "python",
   "name": "python3"
  },
  "language_info": {
   "codemirror_mode": {
    "name": "ipython",
    "version": 3
   },
   "file_extension": ".py",
   "mimetype": "text/x-python",
   "name": "python",
   "nbconvert_exporter": "python",
   "pygments_lexer": "ipython3",
   "version": "3.8.3"
  }
 },
 "nbformat": 4,
 "nbformat_minor": 4
}
